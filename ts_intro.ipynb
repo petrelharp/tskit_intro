{
 "cells": [
  {
   "cell_type": "markdown",
   "id": "d5686cce-716f-4894-a2d9-68b39b1ea962",
   "metadata": {},
   "source": [
    "# Introduction to tree sequences for SLiM"
   ]
  },
  {
   "cell_type": "code",
   "execution_count": null,
   "id": "ada3f2e9-22a0-415a-b84b-9c9bf12247ad",
   "metadata": {
    "tags": []
   },
   "outputs": [],
   "source": [
    "import tskit, pyslim, msprime\n",
    "%load_ext slim_magic"
   ]
  },
  {
   "cell_type": "markdown",
   "id": "7bc8ab85-0010-4db9-b31c-e2c37506ff14",
   "metadata": {},
   "source": [
    "**Note:** below we *set the seed* several times,\n",
    "so the output of this notebook is consistent.\n",
    "However, you almost certainly *don't* want to do that in your own scripts."
   ]
  },
  {
   "cell_type": "markdown",
   "id": "f539ca12-3bfc-4827-bb1a-0d245adfceb7",
   "metadata": {},
   "source": [
    "## Recapitation"
   ]
  },
  {
   "cell_type": "markdown",
   "id": "e868d716-2d0a-40df-b866-cefb00e9d51e",
   "metadata": {},
   "source": [
    "In this short introduction to how recapitation, we'll:\n",
    "\n",
    "1. run a *very* small simulation in SLiM;\n",
    "2. look at the resulting tree sequence to see why it needs recapitating;\n",
    "3. recapitate, with pyslim and check that it worked;\n",
    "4. add neutral mutations, and\n",
    "5. output to VCF."
   ]
  },
  {
   "cell_type": "markdown",
   "id": "0319a693-e887-444b-beef-87311bbe7b10",
   "metadata": {},
   "source": [
    "Here is a small SLiM script, that simulates a population of diploid size 5 for 3 generations with a WF model.\n",
    "The genome has $10^7$bp and the recombination rate is $10^{-8}$, and there are no mutations."
   ]
  },
  {
   "cell_type": "code",
   "execution_count": null,
   "id": "5373a0ee-afd6-4bb4-882b-6d2ad73f6da6",
   "metadata": {
    "tags": []
   },
   "outputs": [],
   "source": [
    "%%slim_ts --out ts\n",
    "initialize() {\n",
    "   initializeTreeSeq();\n",
    "   initializeMutationRate(0.0);\n",
    "   initializeMutationType(\"m1\", 0.5, \"f\", 0.0);\n",
    "   initializeGenomicElementType(\"g1\", m1, 1.0);\n",
    "   initializeGenomicElement(g1, 0, 9999999);\n",
    "   initializeRecombinationRate(1e-8);\n",
    "   setSeed(123);\n",
    "}\n",
    "\n",
    "1 early() {\n",
    "   sim.addSubpop(\"p1\", 5);\n",
    "}\n",
    "\n",
    "3 late() {\n",
    "   sim.treeSeqOutput(\"tmp.trees\");\n",
    "}"
   ]
  },
  {
   "cell_type": "markdown",
   "id": "6b0fb721-2bcc-4446-8a3e-99a85d70a1c0",
   "metadata": {},
   "source": [
    "Here's statistics about the resulting tree sequence.\n",
    "On the command line we could see this by doing `tskit info tmp.trees`."
   ]
  },
  {
   "cell_type": "code",
   "execution_count": null,
   "id": "2a3090c7-d203-44d2-9fb6-307d3ed8f03f",
   "metadata": {
    "tags": []
   },
   "outputs": [],
   "source": [
    "ts"
   ]
  },
  {
   "cell_type": "markdown",
   "id": "5bba28f8-1126-4927-adde-11c3e523c437",
   "metadata": {},
   "source": [
    "I made this a very small simulation so we could actually look at a picture of the whole thing.\n",
    "Here it is! The gray region shows the relationships between all 10 sampled genomes over the first region of genome;\n",
    "the white shows this on the second region (thus, the \"two trees\" listed above).\n",
    "However, note that each \"tree\" is in fact a bunch of trees - the genealogies have not *coalesced*."
   ]
  },
  {
   "cell_type": "code",
   "execution_count": null,
   "id": "b54d1212-7879-4b55-9c38-5a23a48906a9",
   "metadata": {
    "tags": []
   },
   "outputs": [],
   "source": [
    "ts.draw_svg(size=(800,300), y_axis=True)"
   ]
  },
  {
   "cell_type": "markdown",
   "id": "c6bb4056-aac2-430b-991f-239a1273f419",
   "metadata": {},
   "source": [
    "The simulation *has* coalesced if each tree has a single root. Here's the easy way to check this."
   ]
  },
  {
   "cell_type": "code",
   "execution_count": null,
   "id": "81426015-de2b-44ab-9389-0f04b3a2f98f",
   "metadata": {
    "tags": []
   },
   "outputs": [],
   "source": [
    "max_num_roots = max([t.num_roots for t in ts.trees()])\n",
    "print(f\"Maximum number of roots: {max_num_roots}\")"
   ]
  },
  {
   "cell_type": "markdown",
   "id": "c6c513a0-e68f-40f0-9a05-4a073d328f98",
   "metadata": {},
   "source": [
    "## Recapitation\n",
    "\n",
    "Now, we \"recapitate\"!\n",
    "What this means is that we run a coalescent simulation to simulate the ancestry from the oldest bit of the tree sequence.\n",
    "It uses `msprime`, and here we're asking for an ancestral effective population size of 2;\n",
    "so this is roughly as if we'd had a randomly mating population of diploid size 2 for a while before the start of the SLiM simulation.\n",
    "(I chose such a small size so we'd still be able to plot the whole history.)"
   ]
  },
  {
   "cell_type": "code",
   "execution_count": null,
   "id": "905eab83-0c9a-468d-9d66-0ea118f4ecb0",
   "metadata": {
    "tags": []
   },
   "outputs": [],
   "source": [
    "ts = pyslim.recapitate(ts, ancestral_Ne=2, recombination_rate=1e-8, random_seed=12)"
   ]
  },
  {
   "cell_type": "markdown",
   "id": "1aed09e7-19ea-4ae0-bdb7-2898c94edffa",
   "metadata": {},
   "source": [
    "Read the warning, and do think about time scales, but we won't worry about it here.\n",
    "\n",
    "Now, we see that all trees *have* got a single root,\n",
    "i.e., the tree sequence is coalesced."
   ]
  },
  {
   "cell_type": "code",
   "execution_count": null,
   "id": "ebdc9ef9-cc18-4060-a8c9-f97bf3c5672e",
   "metadata": {
    "tags": []
   },
   "outputs": [],
   "source": [
    "max_num_roots = max([t.num_roots for t in ts.trees()])\n",
    "print(f\"Maximum number of roots: {max_num_roots}\")"
   ]
  },
  {
   "cell_type": "code",
   "execution_count": null,
   "id": "0c805684-8b9b-4ad2-9001-9a445d8bc017",
   "metadata": {
    "tags": []
   },
   "outputs": [],
   "source": [
    "ts.draw_svg(size=(800,400), y_axis=True)"
   ]
  },
  {
   "cell_type": "markdown",
   "id": "d16b44d3-df33-4c8d-9d49-94a6cab48ed3",
   "metadata": {},
   "source": [
    "# Mutations"
   ]
  },
  {
   "cell_type": "markdown",
   "id": "d8d3999f-2bc8-4a81-a78c-eaf2ce3ad1a0",
   "metadata": {},
   "source": [
    "We simulated in SLiM with *zero* mutations;\n",
    "this makes sense because if all mutations are neutral,\n",
    "we might as well just put them down on the tree sequence afterwards.\n",
    "Here's how to do that with `msprime`;\n",
    "we could choose any number of mutation models,\n",
    "but I'm doing the \"SLiM mutation model\"\n",
    "because that's what we'd need to use if we wanted to load the simulation back into SLiM later."
   ]
  },
  {
   "cell_type": "code",
   "execution_count": null,
   "id": "50218e76-05d1-431f-9f7f-172a71aa3d37",
   "metadata": {
    "tags": []
   },
   "outputs": [],
   "source": [
    "ts = msprime.sim_mutations(\n",
    "    ts,\n",
    "    model=msprime.SLiMMutationModel(type=0, next_id=pyslim.next_slim_mutation_id(ts)),\n",
    "    rate=1e-8,\n",
    "    random_seed=12345,\n",
    ")"
   ]
  },
  {
   "cell_type": "markdown",
   "id": "b3fed087-9435-481e-a849-7bb00e52de7d",
   "metadata": {},
   "source": [
    "Now, the tree sequence has 10 mutations."
   ]
  },
  {
   "cell_type": "code",
   "execution_count": null,
   "id": "01d3cfc6-7ce6-447e-9fac-349089427bc7",
   "metadata": {
    "tags": []
   },
   "outputs": [],
   "source": [
    "ts"
   ]
  },
  {
   "cell_type": "markdown",
   "id": "01b2a229-ef6e-47cf-82d2-2b6356cd6b6e",
   "metadata": {},
   "source": [
    "They are shown as red \"x\"s on the plot."
   ]
  },
  {
   "cell_type": "code",
   "execution_count": null,
   "id": "82c13d3f-394f-4831-a228-2db16881576b",
   "metadata": {
    "tags": []
   },
   "outputs": [],
   "source": [
    "ts.draw_svg(size=(800,400))"
   ]
  },
  {
   "cell_type": "markdown",
   "id": "c616aecb-e388-4887-b014-15e974b0cac2",
   "metadata": {},
   "source": [
    "Here are the genotypes, coded as `0`=ancestral and `1`=derived;\n",
    "there are no sites with more than mutation (but there could be!)."
   ]
  },
  {
   "cell_type": "code",
   "execution_count": null,
   "id": "24aef5d8-fb1a-451e-b355-d0e031d7216d",
   "metadata": {
    "tags": []
   },
   "outputs": [],
   "source": [
    "ts.genotype_matrix()"
   ]
  },
  {
   "cell_type": "markdown",
   "id": "76b5c8a4-3cde-4a6e-bfbe-b89b63e00dfb",
   "metadata": {},
   "source": [
    "However, writing out to VCF has some... weird REF and ALT columns."
   ]
  },
  {
   "cell_type": "code",
   "execution_count": null,
   "id": "cffebb51-7320-44fc-944b-d224f19d24f7",
   "metadata": {
    "tags": []
   },
   "outputs": [],
   "source": [
    "with open(\"temp.vcf\", \"w\") as f:\n",
    "    ts.write_vcf(f)"
   ]
  },
  {
   "cell_type": "code",
   "execution_count": null,
   "id": "2a95c167-466b-450a-b67d-6ad4b7098e88",
   "metadata": {
    "tags": []
   },
   "outputs": [],
   "source": [
    "%%bash\n",
    "cat temp.vcf"
   ]
  },
  {
   "cell_type": "markdown",
   "id": "289ee390-d9a4-47f8-a062-e443229f5521",
   "metadata": {},
   "source": [
    "That's because of some techinical details about the underlying mutation model in SLiM.\n",
    "To get a VCF with actual nucleotides in REF and ALT,\n",
    "you can use pyslim to randomly generate some."
   ]
  },
  {
   "cell_type": "code",
   "execution_count": null,
   "id": "e10dbfb1-ef98-4430-a8c4-a4c06deb2a0e",
   "metadata": {
    "tags": []
   },
   "outputs": [],
   "source": [
    "nts = pyslim.convert_alleles(pyslim.generate_nucleotides(ts))"
   ]
  },
  {
   "cell_type": "markdown",
   "id": "5c39c888-37f5-4ceb-8cdc-d6b86cab6d41",
   "metadata": {},
   "source": [
    "Now, mutations have nucleotides as `derived_state`\n",
    "(plus, check out all the other information there!):"
   ]
  },
  {
   "cell_type": "code",
   "execution_count": null,
   "id": "4a353d57-d7b0-4755-808b-5a4680b0c4b9",
   "metadata": {
    "tags": []
   },
   "outputs": [],
   "source": [
    "nts.mutation(0)"
   ]
  },
  {
   "cell_type": "markdown",
   "id": "3b3564e6-890d-4215-9bc9-9efcbd78f9e1",
   "metadata": {},
   "source": [
    "Here's the 10 haplotypes (*note! don't use this code for bigger tree sequences!*):"
   ]
  },
  {
   "cell_type": "code",
   "execution_count": null,
   "id": "ea0bda0f-3a4d-4216-9a26-9b5855053dd8",
   "metadata": {},
   "outputs": [],
   "source": [
    "list(nts.haplotypes())  # DO NOT DO THIS FOR BIGGER TREE SEQUENCES"
   ]
  },
  {
   "cell_type": "code",
   "execution_count": null,
   "id": "b06a2acf-7c36-45f2-a00f-6e62f880aceb",
   "metadata": {
    "tags": []
   },
   "outputs": [],
   "source": [
    "with open(\"temp.vcf\", \"w\") as f:\n",
    "    nts.write_vcf(f)"
   ]
  },
  {
   "cell_type": "code",
   "execution_count": null,
   "id": "826d8765-29ed-4c5c-9ed0-f6a63b0d04be",
   "metadata": {
    "tags": []
   },
   "outputs": [],
   "source": [
    "%%bash\n",
    "cat temp.vcf"
   ]
  },
  {
   "cell_type": "markdown",
   "id": "1790bacb-8133-4473-97fa-945c8b95daf2",
   "metadata": {},
   "source": [
    "Ah, that looks much better (and more parseable by other software)."
   ]
  },
  {
   "cell_type": "markdown",
   "id": "98eba817-eb5d-4aaf-a858-8a2a69a8dea2",
   "metadata": {},
   "source": [
    "## The tables"
   ]
  },
  {
   "cell_type": "code",
   "execution_count": null,
   "id": "30e95d8e-97fd-4640-a185-8cce14bea567",
   "metadata": {
    "tags": []
   },
   "outputs": [],
   "source": [
    "t = nts.tables"
   ]
  },
  {
   "cell_type": "code",
   "execution_count": null,
   "id": "cf94465a-422f-4184-8669-07e7d36dd00f",
   "metadata": {
    "tags": []
   },
   "outputs": [],
   "source": [
    "t.individuals"
   ]
  },
  {
   "cell_type": "code",
   "execution_count": null,
   "id": "de719bcc-0e46-4f5c-80f6-9e5a00443a80",
   "metadata": {
    "tags": []
   },
   "outputs": [],
   "source": [
    "t.nodes"
   ]
  },
  {
   "cell_type": "code",
   "execution_count": null,
   "id": "a5928011-e813-46cc-b07f-ccfb47f6d47a",
   "metadata": {
    "tags": []
   },
   "outputs": [],
   "source": [
    "t.edges"
   ]
  },
  {
   "cell_type": "code",
   "execution_count": null,
   "id": "b03a2d6c-5569-46a8-b919-28aa7d72cb2f",
   "metadata": {
    "tags": []
   },
   "outputs": [],
   "source": [
    "t.sites"
   ]
  },
  {
   "cell_type": "code",
   "execution_count": null,
   "id": "df5360d8-e154-422d-b9b7-dbf91c0dd516",
   "metadata": {
    "tags": []
   },
   "outputs": [],
   "source": [
    "t.mutations"
   ]
  }
 ],
 "metadata": {
  "kernelspec": {
   "display_name": "Python 3 (ipykernel)",
   "language": "python",
   "name": "python3"
  },
  "language_info": {
   "codemirror_mode": {
    "name": "ipython",
    "version": 3
   },
   "file_extension": ".py",
   "mimetype": "text/x-python",
   "name": "python",
   "nbconvert_exporter": "python",
   "pygments_lexer": "ipython3",
   "version": "3.10.10"
  }
 },
 "nbformat": 4,
 "nbformat_minor": 5
}
