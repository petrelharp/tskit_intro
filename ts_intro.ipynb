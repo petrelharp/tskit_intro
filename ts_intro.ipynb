{
 "cells": [
  {
   "cell_type": "markdown",
   "id": "d5686cce-716f-4894-a2d9-68b39b1ea962",
   "metadata": {},
   "source": [
    "# Introduction to tree sequences for SLiM"
   ]
  },
  {
   "cell_type": "code",
   "execution_count": 1,
   "id": "ada3f2e9-22a0-415a-b84b-9c9bf12247ad",
   "metadata": {
    "tags": []
   },
   "outputs": [],
   "source": [
    "import tskit, pyslim, msprime\n",
    "%load_ext slim_magic"
   ]
  },
  {
   "cell_type": "markdown",
   "id": "7bc8ab85-0010-4db9-b31c-e2c37506ff14",
   "metadata": {},
   "source": [
    "**Note:** below we *set the seed* several times,\n",
    "so the output of this notebook is consistent.\n",
    "However, you almost certainly *don't* want to do that in your own scripts."
   ]
  },
  {
   "cell_type": "markdown",
   "id": "f539ca12-3bfc-4827-bb1a-0d245adfceb7",
   "metadata": {},
   "source": [
    "## Recapitation"
   ]
  },
  {
   "cell_type": "markdown",
   "id": "e868d716-2d0a-40df-b866-cefb00e9d51e",
   "metadata": {},
   "source": [
    "In this short introduction to how recapitation, we'll:\n",
    "\n",
    "1. run a *very* small simulation in SLiM;\n",
    "2. look at the resulting tree sequence to see why it needs recapitating;\n",
    "3. recapitate, with pyslim and check that it worked;\n",
    "4. add neutral mutations, and\n",
    "5. output to VCF."
   ]
  },
  {
   "cell_type": "markdown",
   "id": "0319a693-e887-444b-beef-87311bbe7b10",
   "metadata": {},
   "source": [
    "Here is a small SLiM script, that simulates a population of diploid size 5 for 3 generations with a WF model.\n",
    "The genome has $10^7$bp and the recombination rate is $10^{-8}$, and there are no mutations.\n",
    "\n",
    "*Note:* on your computer, you probably want to just run this script separately,\n",
    "then do `ts = tskit.load(\"tmp.trees\")`."
   ]
  },
  {
   "cell_type": "code",
   "execution_count": 2,
   "id": "5373a0ee-afd6-4bb4-882b-6d2ad73f6da6",
   "metadata": {
    "tags": []
   },
   "outputs": [],
   "source": [
    "%%slim_ts --out ts\n",
    "initialize() {\n",
    "   initializeTreeSeq();\n",
    "   initializeMutationRate(0.0);\n",
    "   initializeMutationType(\"m1\", 0.5, \"f\", 0.0);\n",
    "   initializeGenomicElementType(\"g1\", m1, 1.0);\n",
    "   initializeGenomicElement(g1, 0, 9999999);\n",
    "   initializeRecombinationRate(1e-8);\n",
    "   setSeed(123);\n",
    "}\n",
    "\n",
    "1 early() {\n",
    "   sim.addSubpop(\"p1\", 5);\n",
    "}\n",
    "\n",
    "3 late() {\n",
    "   sim.treeSeqOutput(\"tmp.trees\");\n",
    "}"
   ]
  },
  {
   "cell_type": "markdown",
   "id": "6b0fb721-2bcc-4446-8a3e-99a85d70a1c0",
   "metadata": {},
   "source": [
    "Here's statistics about the resulting tree sequence.\n",
    "On the command line we could see this by doing `tskit info tmp.trees`."
   ]
  },
  {
   "cell_type": "code",
   "execution_count": 3,
   "id": "2a3090c7-d203-44d2-9fb6-307d3ed8f03f",
   "metadata": {
    "tags": []
   },
   "outputs": [
    {
     "data": {
      "text/html": [
       "\n",
       "            <div>\n",
       "              <style>\n",
       "                .tskit-table thead tr th {text-align: left;padding: 0.5em 0.5em;}\n",
       "                .tskit-table tbody tr td {padding: 0.5em 0.5em;}\n",
       "                .tskit-table tbody tr td:first-of-type {text-align: left;}\n",
       "                .tskit-details-label {vertical-align: top; padding-right:5px;}\n",
       "                .tskit-table-set {display: inline-flex;flex-wrap: wrap;margin: -12px 0 0 -12px;width: calc(100% + 12px);}\n",
       "                .tskit-table-set-table {margin: 12px 0 0 12px;}\n",
       "                details {display: inline-block;}\n",
       "                summary {cursor: pointer; outline: 0; display: list-item;}\n",
       "              </style>\n",
       "              <div class=\"tskit-table-set\">\n",
       "                <div class=\"tskit-table-set-table\">\n",
       "                  <table class=\"tskit-table\">\n",
       "                    <thead>\n",
       "                      <tr>\n",
       "                        <th style=\"padding:0;line-height:21px;\">\n",
       "                          <img style=\"height: 32px;display: inline-block;padding: 3px 5px 3px 0;\" src=\"https://raw.githubusercontent.com/tskit-dev/administrative/main/tskit_logo.svg\"/>\n",
       "                          <a target=\"_blank\" href=\"https://tskit.dev/tskit/docs/latest/python-api.html#the-treesequence-class\"> Tree Sequence </a>\n",
       "                        </th>\n",
       "                      </tr>\n",
       "                    </thead>\n",
       "                    <tbody>\n",
       "                      <tr><td>Trees</td><td>2</td></tr>\n",
       "                      <tr><td>Sequence Length</td><td>10000000.0</td></tr>\n",
       "                      <tr><td>Time Units</td><td>ticks</td></tr>\n",
       "                      <tr><td>Sample Nodes</td><td>10</td></tr>\n",
       "                      <tr><td>Total Size</td><td>11.9 KiB</td></tr>\n",
       "                      <tr>\n",
       "                        <td>Metadata</td><td style=\"text-align: left;\">\n",
       "                <div>\n",
       "                  <span class=\"tskit-details-label\"></span>\n",
       "                  <details open>\n",
       "                    <summary>dict</summary>\n",
       "                    \n",
       "                <div>\n",
       "                  <span class=\"tskit-details-label\">SLiM:</span>\n",
       "                  <details >\n",
       "                    <summary>dict</summary>\n",
       "                    cycle: 3<br/>file_version: 0.8<br/>model_type: WF<br/>name: sim<br/>nucleotide_based: False<br/>separate_sexes: False<br/>spatial_dimensionality: <br/>spatial_periodicity: <br/>stage: late<br/>tick: 3<br/>\n",
       "                  </details>\n",
       "                </div>\n",
       "                <br/>\n",
       "                  </details>\n",
       "                </div>\n",
       "                </td></tr>\n",
       "                    </tbody>\n",
       "                  </table>\n",
       "                </div>\n",
       "                <div class=\"tskit-table-set-table\">\n",
       "                  <table class=\"tskit-table\">\n",
       "                    <thead>\n",
       "                      <tr>\n",
       "                        <th style=\"line-height:21px;\">Table</th>\n",
       "                        <th>Rows</th>\n",
       "                        <th>Size</th>\n",
       "                        <th>Has Metadata</th>\n",
       "                      </tr>\n",
       "                    </thead>\n",
       "                    <tbody>\n",
       "                    \n",
       "                  <tr>\n",
       "                    <td>Edges</td>\n",
       "                      <td>15</td>\n",
       "                      <td>488 Bytes</td>\n",
       "                      <td style=\"text-align: center;\">\n",
       "                        \n",
       "                      </td>\n",
       "                    </tr>\n",
       "                \n",
       "                  <tr>\n",
       "                    <td>Individuals</td>\n",
       "                      <td>5</td>\n",
       "                      <td>2.3 KiB</td>\n",
       "                      <td style=\"text-align: center;\">\n",
       "                        ✅\n",
       "                      </td>\n",
       "                    </tr>\n",
       "                \n",
       "                  <tr>\n",
       "                    <td>Migrations</td>\n",
       "                      <td>0</td>\n",
       "                      <td>8 Bytes</td>\n",
       "                      <td style=\"text-align: center;\">\n",
       "                        \n",
       "                      </td>\n",
       "                    </tr>\n",
       "                \n",
       "                  <tr>\n",
       "                    <td>Mutations</td>\n",
       "                      <td>0</td>\n",
       "                      <td>1.2 KiB</td>\n",
       "                      <td style=\"text-align: center;\">\n",
       "                        \n",
       "                      </td>\n",
       "                    </tr>\n",
       "                \n",
       "                  <tr>\n",
       "                    <td>Nodes</td>\n",
       "                      <td>18</td>\n",
       "                      <td>1.3 KiB</td>\n",
       "                      <td style=\"text-align: center;\">\n",
       "                        ✅\n",
       "                      </td>\n",
       "                    </tr>\n",
       "                \n",
       "                  <tr>\n",
       "                    <td>Populations</td>\n",
       "                      <td>2</td>\n",
       "                      <td>2.3 KiB</td>\n",
       "                      <td style=\"text-align: center;\">\n",
       "                        ✅\n",
       "                      </td>\n",
       "                    </tr>\n",
       "                \n",
       "                  <tr>\n",
       "                    <td>Provenances</td>\n",
       "                      <td>1</td>\n",
       "                      <td>2.0 KiB</td>\n",
       "                      <td style=\"text-align: center;\">\n",
       "                        \n",
       "                      </td>\n",
       "                    </tr>\n",
       "                \n",
       "                  <tr>\n",
       "                    <td>Sites</td>\n",
       "                      <td>0</td>\n",
       "                      <td>16 Bytes</td>\n",
       "                      <td style=\"text-align: center;\">\n",
       "                        \n",
       "                      </td>\n",
       "                    </tr>\n",
       "                \n",
       "                    </tbody>\n",
       "                  </table>\n",
       "                </div>\n",
       "              </div>\n",
       "            </div>\n",
       "            "
      ],
      "text/plain": [
       "<tskit.trees.TreeSequence at 0x7f0c2f395d20>"
      ]
     },
     "execution_count": 3,
     "metadata": {},
     "output_type": "execute_result"
    }
   ],
   "source": [
    "ts"
   ]
  },
  {
   "cell_type": "markdown",
   "id": "5bba28f8-1126-4927-adde-11c3e523c437",
   "metadata": {},
   "source": [
    "I made this a very small simulation so we could actually look at a picture of the whole thing.\n",
    "Here it is! The gray region shows the relationships between all 10 sampled genomes over the first region of genome;\n",
    "the white shows this on the second region (thus, the \"two trees\" listed above).\n",
    "However, note that each \"tree\" is in fact a bunch of trees - the genealogies have not *coalesced*."
   ]
  },
  {
   "cell_type": "code",
   "execution_count": 4,
   "id": "b54d1212-7879-4b55-9c38-5a23a48906a9",
   "metadata": {
    "tags": []
   },
   "outputs": [
    {
     "data": {
      "image/svg+xml": [
       "<svg baseProfile=\"full\" height=\"300\" version=\"1.1\" width=\"800\" xmlns=\"http://www.w3.org/2000/svg\" xmlns:ev=\"http://www.w3.org/2001/xml-events\" xmlns:xlink=\"http://www.w3.org/1999/xlink\"><defs><style type=\"text/css\"><![CDATA[.background path {fill: #808080; fill-opacity: 0}.background path:nth-child(odd) {fill-opacity: .1}.axes {font-size: 14px}.x-axis .tick .lab {font-weight: bold; dominant-baseline: hanging}.axes, .tree {font-size: 14px; text-anchor: middle}.axes line, .edge {stroke: black; fill: none}.axes .ax-skip {stroke-dasharray: 4}.y-axis .grid {stroke: #FAFAFA}.node > .sym {fill: black; stroke: none}.site > .sym {stroke: black}.mut text {fill: red; font-style: italic}.mut.extra text {fill: hotpink}.mut line {fill: none; stroke: none}.mut .sym {fill: none; stroke: red}.mut.extra .sym {stroke: hotpink}.node .mut .sym {stroke-width: 1.5px}.tree text, .tree-sequence text {dominant-baseline: central}.plotbox .lab.lft {text-anchor: end}.plotbox .lab.rgt {text-anchor: start}]]></style></defs><g class=\"tree-sequence\"><g class=\"background\"><path d=\"M56.8,0 l361.6,0 l0,238.2 l280.75,25 l0,5 l-642.35,0 l0,-5 l0,-25 l0,-238.2z\" /><path d=\"M418.4,0 l361.6,0 l0,238.2 l-1.13687e-13,25 l0,5 l-80.8496,0 l0,-5 l-280.75,-25 l0,-238.2z\" /></g><g class=\"axes\"><g class=\"x-axis\"><g class=\"title\" transform=\"translate(418.4 300)\"><text class=\"lab\" text-anchor=\"middle\" transform=\"translate(0 -11)\">Genome position</text></g><line class=\"ax-line\" x1=\"56.8\" x2=\"780\" y1=\"263.2\" y2=\"263.2\" /><g class=\"ticks\"><g class=\"tick\" transform=\"translate(56.8 263.2)\"><line x1=\"0\" x2=\"0\" y1=\"0\" y2=\"5\" /><g transform=\"translate(0 6)\"><text class=\"lab\">0</text></g></g><g class=\"tick\" transform=\"translate(699.15 263.2)\"><line x1=\"0\" x2=\"0\" y1=\"0\" y2=\"5\" /><g transform=\"translate(0 6)\"><text class=\"lab\">8882057</text></g></g><g class=\"tick\" transform=\"translate(780 263.2)\"><line x1=\"0\" x2=\"0\" y1=\"0\" y2=\"5\" /><g transform=\"translate(0 6)\"><text class=\"lab\">10000000</text></g></g></g></g><g class=\"y-axis\"><g class=\"title\" transform=\"translate(0 115.7)\"><text class=\"lab\" text-anchor=\"middle\" transform=\"translate(11) rotate(-90)\">Time (ticks)</text></g><line class=\"ax-line\" x1=\"56.8\" x2=\"56.8\" y1=\"221.4\" y2=\"10\" /><g class=\"ticks\"><g class=\"tick\" transform=\"translate(56.8 221.4)\"><line x1=\"0\" x2=\"-5\" y1=\"0\" y2=\"0\" /><g transform=\"translate(-6 0)\"><text class=\"lab\" text-anchor=\"end\">0</text></g></g><g class=\"tick\" transform=\"translate(56.8 156.533)\"><line x1=\"0\" x2=\"-5\" y1=\"0\" y2=\"0\" /><g transform=\"translate(-6 0)\"><text class=\"lab\" text-anchor=\"end\">1</text></g></g><g class=\"tick\" transform=\"translate(56.8 91.6667)\"><line x1=\"0\" x2=\"-5\" y1=\"0\" y2=\"0\" /><g transform=\"translate(-6 0)\"><text class=\"lab\" text-anchor=\"end\">2</text></g></g><g class=\"tick\" transform=\"translate(56.8 26.8)\"><line x1=\"0\" x2=\"-5\" y1=\"0\" y2=\"0\" /><g transform=\"translate(-6 0)\"><text class=\"lab\" text-anchor=\"end\">3</text></g></g></g></g></g><g class=\"plotbox trees\"><g class=\"tree t0\" transform=\"translate(56.8 0)\"><g class=\"plotbox\"><g class=\"c3 node n14 p1 root\" transform=\"translate(76.28 26.8)\"><g class=\"a14 i1 leaf node n2 p1 sample\" transform=\"translate(-40.2 194.6)\"><path class=\"edge\" d=\"M 0 0 V -194.6 H 40.2\" /><rect class=\"sym\" height=\"6\" width=\"6\" x=\"-3\" y=\"-3\" /><text class=\"lab\" transform=\"translate(0 11)\">2</text></g><g class=\"a14 i1 leaf node n3 p1 sample\" transform=\"translate(-8.04 194.6)\"><path class=\"edge\" d=\"M 0 0 V -194.6 H 8.04\" /><rect class=\"sym\" height=\"6\" width=\"6\" x=\"-3\" y=\"-3\" /><text class=\"lab\" transform=\"translate(0 11)\">3</text></g><g class=\"a14 c2 node n11 p1\" transform=\"translate(40.2 129.733)\"><g class=\"a11 i3 leaf node n7 p1 sample\" transform=\"translate(-16.08 64.8667)\"><path class=\"edge\" d=\"M 0 0 V -64.8667 H 16.08\" /><rect class=\"sym\" height=\"6\" width=\"6\" x=\"-3\" y=\"-3\" /><text class=\"lab\" transform=\"translate(0 11)\">7</text></g><g class=\"a11 i4 leaf node n9 p1 sample\" transform=\"translate(16.08 64.8667)\"><path class=\"edge\" d=\"M 0 0 V -64.8667 H -16.08\" /><rect class=\"sym\" height=\"6\" width=\"6\" x=\"-3\" y=\"-3\" /><text class=\"lab\" transform=\"translate(0 11)\">9</text></g><path class=\"edge\" d=\"M 0 0 V -129.733 H -40.2\" /><circle class=\"sym\" cx=\"0\" cy=\"0\" r=\"3\" /><text class=\"lab rgt\" transform=\"translate(3 -7.0)\">11</text></g><circle class=\"sym\" cx=\"0\" cy=\"0\" r=\"3\" /><text class=\"lab\" transform=\"translate(0 -11)\">14</text></g><g class=\"c1 node n15 p1 root\" transform=\"translate(164.72 26.8)\"><g class=\"a15 i3 leaf node n6 p1 sample\" transform=\"translate(0.0 194.6)\"><path class=\"edge\" d=\"M 0 0 V -194.6 H 0.0\" /><rect class=\"sym\" height=\"6\" width=\"6\" x=\"-3\" y=\"-3\" /><text class=\"lab\" transform=\"translate(0 11)\">6</text></g><circle class=\"sym\" cx=\"0\" cy=\"0\" r=\"3\" /><text class=\"lab\" transform=\"translate(0 -11)\">15</text></g><g class=\"c1 node n16 p1 root\" transform=\"translate(269.24 26.8)\"><g class=\"a16 c3 node n13 p1\" transform=\"translate(0.0 64.8667)\"><g class=\"a13 i2 leaf node n5 p1 sample\" transform=\"translate(56.28 129.733)\"><path class=\"edge\" d=\"M 0 0 V -129.733 H -56.28\" /><rect class=\"sym\" height=\"6\" width=\"6\" x=\"-3\" y=\"-3\" /><text class=\"lab\" transform=\"translate(0 11)\">5</text></g><g class=\"a13 c2 node n10 p1\" transform=\"translate(8.04 64.8667)\"><g class=\"a10 i2 leaf node n4 p1 sample\" transform=\"translate(-16.08 64.8667)\"><path class=\"edge\" d=\"M 0 0 V -64.8667 H 16.08\" /><rect class=\"sym\" height=\"6\" width=\"6\" x=\"-3\" y=\"-3\" /><text class=\"lab\" transform=\"translate(0 11)\">4</text></g><g class=\"a10 i4 leaf node n8 p1 sample\" transform=\"translate(16.08 64.8667)\"><path class=\"edge\" d=\"M 0 0 V -64.8667 H -16.08\" /><rect class=\"sym\" height=\"6\" width=\"6\" x=\"-3\" y=\"-3\" /><text class=\"lab\" transform=\"translate(0 11)\">8</text></g><path class=\"edge\" d=\"M 0 0 V -64.8667 H -8.04\" /><circle class=\"sym\" cx=\"0\" cy=\"0\" r=\"3\" /><text class=\"lab rgt\" transform=\"translate(3 -7.0)\">10</text></g><g class=\"a13 c2 node n12 p1\" transform=\"translate(-56.28 64.8667)\"><g class=\"a12 i0 leaf node n0 p1 sample\" transform=\"translate(-16.08 64.8667)\"><path class=\"edge\" d=\"M 0 0 V -64.8667 H 16.08\" /><rect class=\"sym\" height=\"6\" width=\"6\" x=\"-3\" y=\"-3\" /><text class=\"lab\" transform=\"translate(0 11)\">0</text></g><g class=\"a12 i0 leaf node n1 p1 sample\" transform=\"translate(16.08 64.8667)\"><path class=\"edge\" d=\"M 0 0 V -64.8667 H -16.08\" /><rect class=\"sym\" height=\"6\" width=\"6\" x=\"-3\" y=\"-3\" /><text class=\"lab\" transform=\"translate(0 11)\">1</text></g><path class=\"edge\" d=\"M 0 0 V -64.8667 H 56.28\" /><circle class=\"sym\" cx=\"0\" cy=\"0\" r=\"3\" /><text class=\"lab lft\" transform=\"translate(-3 -7.0)\">12</text></g><path class=\"edge\" d=\"M 0 0 V -64.8667 H 0.0\" /><circle class=\"sym\" cx=\"0\" cy=\"0\" r=\"3\" /><text class=\"lab lft\" transform=\"translate(-3 -7.0)\">13</text></g><circle class=\"sym\" cx=\"0\" cy=\"0\" r=\"3\" /><text class=\"lab\" transform=\"translate(0 -11)\">16</text></g></g></g><g class=\"tree t1\" transform=\"translate(418.4 0)\"><g class=\"plotbox\"><g class=\"c3 node n14 p1 root\" transform=\"translate(76.28 26.8)\"><g class=\"a14 i1 leaf node n2 p1 sample\" transform=\"translate(-40.2 194.6)\"><path class=\"edge\" d=\"M 0 0 V -194.6 H 40.2\" /><rect class=\"sym\" height=\"6\" width=\"6\" x=\"-3\" y=\"-3\" /><text class=\"lab\" transform=\"translate(0 11)\">2</text></g><g class=\"a14 i1 leaf node n3 p1 sample\" transform=\"translate(-8.04 194.6)\"><path class=\"edge\" d=\"M 0 0 V -194.6 H 8.04\" /><rect class=\"sym\" height=\"6\" width=\"6\" x=\"-3\" y=\"-3\" /><text class=\"lab\" transform=\"translate(0 11)\">3</text></g><g class=\"a14 c2 node n11 p1\" transform=\"translate(40.2 129.733)\"><g class=\"a11 i3 leaf node n7 p1 sample\" transform=\"translate(-16.08 64.8667)\"><path class=\"edge\" d=\"M 0 0 V -64.8667 H 16.08\" /><rect class=\"sym\" height=\"6\" width=\"6\" x=\"-3\" y=\"-3\" /><text class=\"lab\" transform=\"translate(0 11)\">7</text></g><g class=\"a11 i4 leaf node n9 p1 sample\" transform=\"translate(16.08 64.8667)\"><path class=\"edge\" d=\"M 0 0 V -64.8667 H -16.08\" /><rect class=\"sym\" height=\"6\" width=\"6\" x=\"-3\" y=\"-3\" /><text class=\"lab\" transform=\"translate(0 11)\">9</text></g><path class=\"edge\" d=\"M 0 0 V -129.733 H -40.2\" /><circle class=\"sym\" cx=\"0\" cy=\"0\" r=\"3\" /><text class=\"lab rgt\" transform=\"translate(3 -7.0)\">11</text></g><circle class=\"sym\" cx=\"0\" cy=\"0\" r=\"3\" /><text class=\"lab\" transform=\"translate(0 -11)\">14</text></g><g class=\"c1 node n15 p1 root\" transform=\"translate(164.72 26.8)\"><g class=\"a15 i3 leaf node n6 p1 sample\" transform=\"translate(0.0 194.6)\"><path class=\"edge\" d=\"M 0 0 V -194.6 H 0.0\" /><rect class=\"sym\" height=\"6\" width=\"6\" x=\"-3\" y=\"-3\" /><text class=\"lab\" transform=\"translate(0 11)\">6</text></g><circle class=\"sym\" cx=\"0\" cy=\"0\" r=\"3\" /><text class=\"lab\" transform=\"translate(0 -11)\">15</text></g><g class=\"c1 node n16 p1 root\" transform=\"translate(237.08 26.8)\"><g class=\"a16 c2 node n13 p1\" transform=\"translate(0.0 64.8667)\"><g class=\"a13 i2 leaf node n5 p1 sample\" transform=\"translate(24.12 129.733)\"><path class=\"edge\" d=\"M 0 0 V -129.733 H -24.12\" /><rect class=\"sym\" height=\"6\" width=\"6\" x=\"-3\" y=\"-3\" /><text class=\"lab\" transform=\"translate(0 11)\">5</text></g><g class=\"a13 c2 node n10 p1\" transform=\"translate(-24.12 64.8667)\"><g class=\"a10 i2 leaf node n4 p1 sample\" transform=\"translate(-16.08 64.8667)\"><path class=\"edge\" d=\"M 0 0 V -64.8667 H 16.08\" /><rect class=\"sym\" height=\"6\" width=\"6\" x=\"-3\" y=\"-3\" /><text class=\"lab\" transform=\"translate(0 11)\">4</text></g><g class=\"a10 i4 leaf node n8 p1 sample\" transform=\"translate(16.08 64.8667)\"><path class=\"edge\" d=\"M 0 0 V -64.8667 H -16.08\" /><rect class=\"sym\" height=\"6\" width=\"6\" x=\"-3\" y=\"-3\" /><text class=\"lab\" transform=\"translate(0 11)\">8</text></g><path class=\"edge\" d=\"M 0 0 V -64.8667 H 24.12\" /><circle class=\"sym\" cx=\"0\" cy=\"0\" r=\"3\" /><text class=\"lab lft\" transform=\"translate(-3 -7.0)\">10</text></g><path class=\"edge\" d=\"M 0 0 V -64.8667 H 0.0\" /><circle class=\"sym\" cx=\"0\" cy=\"0\" r=\"3\" /><text class=\"lab lft\" transform=\"translate(-3 -7.0)\">13</text></g><circle class=\"sym\" cx=\"0\" cy=\"0\" r=\"3\" /><text class=\"lab\" transform=\"translate(0 -11)\">16</text></g><g class=\"c1 node n17 p1 root\" transform=\"translate(309.44 26.8)\"><g class=\"a17 c2 node n12 p1\" transform=\"translate(0.0 129.733)\"><g class=\"a12 i0 leaf node n0 p1 sample\" transform=\"translate(-16.08 64.8667)\"><path class=\"edge\" d=\"M 0 0 V -64.8667 H 16.08\" /><rect class=\"sym\" height=\"6\" width=\"6\" x=\"-3\" y=\"-3\" /><text class=\"lab\" transform=\"translate(0 11)\">0</text></g><g class=\"a12 i0 leaf node n1 p1 sample\" transform=\"translate(16.08 64.8667)\"><path class=\"edge\" d=\"M 0 0 V -64.8667 H -16.08\" /><rect class=\"sym\" height=\"6\" width=\"6\" x=\"-3\" y=\"-3\" /><text class=\"lab\" transform=\"translate(0 11)\">1</text></g><path class=\"edge\" d=\"M 0 0 V -129.733 H 0.0\" /><circle class=\"sym\" cx=\"0\" cy=\"0\" r=\"3\" /><text class=\"lab lft\" transform=\"translate(-3 -7.0)\">12</text></g><circle class=\"sym\" cx=\"0\" cy=\"0\" r=\"3\" /><text class=\"lab\" transform=\"translate(0 -11)\">17</text></g></g></g></g></g></svg>"
      ],
      "text/plain": [
       "'<svg baseProfile=\"full\" height=\"300\" version=\"1.1\" width=\"800\" xmlns=\"http://www.w3.org/2000/svg\" xmlns:ev=\"http://www.w3.org/2001/xml-events\" xmlns:xlink=\"http://www.w3.org/1999/xlink\"><defs><style type=\"text/css\"><![CDATA[.background path {fill: #808080; fill-opacity: 0}.background path:nth-child(odd) {fill-opacity: .1}.axes {font-size: 14px}.x-axis .tick .lab {font-weight: bold; dominant-baseline: hanging}.axes, .tree {font-size: 14px; text-anchor: middle}.axes line, .edge {stroke: black; fill: none}.axes .ax-skip {stroke-dasharray: 4}.y-axis .grid {stroke: #FAFAFA}.node > .sym {fill: black; stroke: none}.site > .sym {stroke: black}.mut text {fill: red; font-style: italic}.mut.extra text {fill: hotpink}.mut line {fill: none; stroke: none}.mut .sym {fill: none; stroke: red}.mut.extra .sym {stroke: hotpink}.node .mut .sym {stroke-width: 1.5px}.tree text, .tree-sequence text {dominant-baseline: central}.plotbox .lab.lft {text-anchor: end}.plotbox .lab.rgt {text-anchor: start}]]></style></defs><g class=\"tree-sequence\"><g class=\"background\"><path d=\"M56.8,0 l361.6,0 l0,238.2 l280.75,25 l0,5 l-642.35,0 l0,-5 l0,-25 l0,-238.2z\" /><path d=\"M418.4,0 l361.6,0 l0,238.2 l-1.13687e-13,25 l0,5 l-80.8496,0 l0,-5 l-280.75,-25 l0,-238.2z\" /></g><g class=\"axes\"><g class=\"x-axis\"><g class=\"title\" transform=\"translate(418.4 300)\"><text class=\"lab\" text-anchor=\"middle\" transform=\"translate(0 -11)\">Genome position</text></g><line class=\"ax-line\" x1=\"56.8\" x2=\"780\" y1=\"263.2\" y2=\"263.2\" /><g class=\"ticks\"><g class=\"tick\" transform=\"translate(56.8 263.2)\"><line x1=\"0\" x2=\"0\" y1=\"0\" y2=\"5\" /><g transform=\"translate(0 6)\"><text class=\"lab\">0</text></g></g><g class=\"tick\" transform=\"translate(699.15 263.2)\"><line x1=\"0\" x2=\"0\" y1=\"0\" y2=\"5\" /><g transform=\"translate(0 6)\"><text class=\"lab\">8882057</text></g></g><g class=\"tick\" transform=\"translate(780 263.2)\"><line x1=\"0\" x2=\"0\" y1=\"0\" y2=\"5\" /><g transform=\"translate(0 6)\"><text class=\"lab\">10000000</text></g></g></g></g><g class=\"y-axis\"><g class=\"title\" transform=\"translate(0 115.7)\"><text class=\"lab\" text-anchor=\"middle\" transform=\"translate(11) rotate(-90)\">Time (ticks)</text></g><line class=\"ax-line\" x1=\"56.8\" x2=\"56.8\" y1=\"221.4\" y2=\"10\" /><g class=\"ticks\"><g class=\"tick\" transform=\"translate(56.8 221.4)\"><line x1=\"0\" x2=\"-5\" y1=\"0\" y2=\"0\" /><g transform=\"translate(-6 0)\"><text class=\"lab\" text-anchor=\"end\">0</text></g></g><g class=\"tick\" transform=\"translate(56.8 156.533)\"><line x1=\"0\" x2=\"-5\" y1=\"0\" y2=\"0\" /><g transform=\"translate(-6 0)\"><text class=\"lab\" text-anchor=\"end\">1</text></g></g><g class=\"tick\" transform=\"translate(56.8 91.6667)\"><line x1=\"0\" x2=\"-5\" y1=\"0\" y2=\"0\" /><g transform=\"translate(-6 0)\"><text class=\"lab\" text-anchor=\"end\">2</text></g></g><g class=\"tick\" transform=\"translate(56.8 26.8)\"><line x1=\"0\" x2=\"-5\" y1=\"0\" y2=\"0\" /><g transform=\"translate(-6 0)\"><text class=\"lab\" text-anchor=\"end\">3</text></g></g></g></g></g><g class=\"plotbox trees\"><g class=\"tree t0\" transform=\"translate(56.8 0)\"><g class=\"plotbox\"><g class=\"c3 node n14 p1 root\" transform=\"translate(76.28 26.8)\"><g class=\"a14 i1 leaf node n2 p1 sample\" transform=\"translate(-40.2 194.6)\"><path class=\"edge\" d=\"M 0 0 V -194.6 H 40.2\" /><rect class=\"sym\" height=\"6\" width=\"6\" x=\"-3\" y=\"-3\" /><text class=\"lab\" transform=\"translate(0 11)\">2</text></g><g class=\"a14 i1 leaf node n3 p1 sample\" transform=\"translate(-8.04 194.6)\"><path class=\"edge\" d=\"M 0 0 V -194.6 H 8.04\" /><rect class=\"sym\" height=\"6\" width=\"6\" x=\"-3\" y=\"-3\" /><text class=\"lab\" transform=\"translate(0 11)\">3</text></g><g class=\"a14 c2 node n11 p1\" transform=\"translate(40.2 129.733)\"><g class=\"a11 i3 leaf node n7 p1 sample\" transform=\"translate(-16.08 64.8667)\"><path class=\"edge\" d=\"M 0 0 V -64.8667 H 16.08\" /><rect class=\"sym\" height=\"6\" width=\"6\" x=\"-3\" y=\"-3\" /><text class=\"lab\" transform=\"translate(0 11)\">7</text></g><g class=\"a11 i4 leaf node n9 p1 sample\" transform=\"translate(16.08 64.8667)\"><path class=\"edge\" d=\"M 0 0 V -64.8667 H -16.08\" /><rect class=\"sym\" height=\"6\" width=\"6\" x=\"-3\" y=\"-3\" /><text class=\"lab\" transform=\"translate(0 11)\">9</text></g><path class=\"edge\" d=\"M 0 0 V -129.733 H -40.2\" /><circle class=\"sym\" cx=\"0\" cy=\"0\" r=\"3\" /><text class=\"lab rgt\" transform=\"translate(3 -7.0)\">11</text></g><circle class=\"sym\" cx=\"0\" cy=\"0\" r=\"3\" /><text class=\"lab\" transform=\"translate(0 -11)\">14</text></g><g class=\"c1 node n15 p1 root\" transform=\"translate(164.72 26.8)\"><g class=\"a15 i3 leaf node n6 p1 sample\" transform=\"translate(0.0 194.6)\"><path class=\"edge\" d=\"M 0 0 V -194.6 H 0.0\" /><rect class=\"sym\" height=\"6\" width=\"6\" x=\"-3\" y=\"-3\" /><text class=\"lab\" transform=\"translate(0 11)\">6</text></g><circle class=\"sym\" cx=\"0\" cy=\"0\" r=\"3\" /><text class=\"lab\" transform=\"translate(0 -11)\">15</text></g><g class=\"c1 node n16 p1 root\" transform=\"translate(269.24 26.8)\"><g class=\"a16 c3 node n13 p1\" transform=\"translate(0.0 64.8667)\"><g class=\"a13 i2 leaf node n5 p1 sample\" transform=\"translate(56.28 129.733)\"><path class=\"edge\" d=\"M 0 0 V -129.733 H -56.28\" /><rect class=\"sym\" height=\"6\" width=\"6\" x=\"-3\" y=\"-3\" /><text class=\"lab\" transform=\"translate(0 11)\">5</text></g><g class=\"a13 c2 node n10 p1\" transform=\"translate(8.04 64.8667)\"><g class=\"a10 i2 leaf node n4 p1 sample\" transform=\"translate(-16.08 64.8667)\"><path class=\"edge\" d=\"M 0 0 V -64.8667 H 16.08\" /><rect class=\"sym\" height=\"6\" width=\"6\" x=\"-3\" y=\"-3\" /><text class=\"lab\" transform=\"translate(0 11)\">4</text></g><g class=\"a10 i4 leaf node n8 p1 sample\" transform=\"translate(16.08 64.8667)\"><path class=\"edge\" d=\"M 0 0 V -64.8667 H -16.08\" /><rect class=\"sym\" height=\"6\" width=\"6\" x=\"-3\" y=\"-3\" /><text class=\"lab\" transform=\"translate(0 11)\">8</text></g><path class=\"edge\" d=\"M 0 0 V -64.8667 H -8.04\" /><circle class=\"sym\" cx=\"0\" cy=\"0\" r=\"3\" /><text class=\"lab rgt\" transform=\"translate(3 -7.0)\">10</text></g><g class=\"a13 c2 node n12 p1\" transform=\"translate(-56.28 64.8667)\"><g class=\"a12 i0 leaf node n0 p1 sample\" transform=\"translate(-16.08 64.8667)\"><path class=\"edge\" d=\"M 0 0 V -64.8667 H 16.08\" /><rect class=\"sym\" height=\"6\" width=\"6\" x=\"-3\" y=\"-3\" /><text class=\"lab\" transform=\"translate(0 11)\">0</text></g><g class=\"a12 i0 leaf node n1 p1 sample\" transform=\"translate(16.08 64.8667)\"><path class=\"edge\" d=\"M 0 0 V -64.8667 H -16.08\" /><rect class=\"sym\" height=\"6\" width=\"6\" x=\"-3\" y=\"-3\" /><text class=\"lab\" transform=\"translate(0 11)\">1</text></g><path class=\"edge\" d=\"M 0 0 V -64.8667 H 56.28\" /><circle class=\"sym\" cx=\"0\" cy=\"0\" r=\"3\" /><text class=\"lab lft\" transform=\"translate(-3 -7.0)\">12</text></g><path class=\"edge\" d=\"M 0 0 V -64.8667 H 0.0\" /><circle class=\"sym\" cx=\"0\" cy=\"0\" r=\"3\" /><text class=\"lab lft\" transform=\"translate(-3 -7.0)\">13</text></g><circle class=\"sym\" cx=\"0\" cy=\"0\" r=\"3\" /><text class=\"lab\" transform=\"translate(0 -11)\">16</text></g></g></g><g class=\"tree t1\" transform=\"translate(418.4 0)\"><g class=\"plotbox\"><g class=\"c3 node n14 p1 root\" transform=\"translate(76.28 26.8)\"><g class=\"a14 i1 leaf node n2 p1 sample\" transform=\"translate(-40.2 194.6)\"><path class=\"edge\" d=\"M 0 0 V -194.6 H 40.2\" /><rect class=\"sym\" height=\"6\" width=\"6\" x=\"-3\" y=\"-3\" /><text class=\"lab\" transform=\"translate(0 11)\">2</text></g><g class=\"a14 i1 leaf node n3 p1 sample\" transform=\"translate(-8.04 194.6)\"><path class=\"edge\" d=\"M 0 0 V -194.6 H 8.04\" /><rect class=\"sym\" height=\"6\" width=\"6\" x=\"-3\" y=\"-3\" /><text class=\"lab\" transform=\"translate(0 11)\">3</text></g><g class=\"a14 c2 node n11 p1\" transform=\"translate(40.2 129.733)\"><g class=\"a11 i3 leaf node n7 p1 sample\" transform=\"translate(-16.08 64.8667)\"><path class=\"edge\" d=\"M 0 0 V -64.8667 H 16.08\" /><rect class=\"sym\" height=\"6\" width=\"6\" x=\"-3\" y=\"-3\" /><text class=\"lab\" transform=\"translate(0 11)\">7</text></g><g class=\"a11 i4 leaf node n9 p1 sample\" transform=\"translate(16.08 64.8667)\"><path class=\"edge\" d=\"M 0 0 V -64.8667 H -16.08\" /><rect class=\"sym\" height=\"6\" width=\"6\" x=\"-3\" y=\"-3\" /><text class=\"lab\" transform=\"translate(0 11)\">9</text></g><path class=\"edge\" d=\"M 0 0 V -129.733 H -40.2\" /><circle class=\"sym\" cx=\"0\" cy=\"0\" r=\"3\" /><text class=\"lab rgt\" transform=\"translate(3 -7.0)\">11</text></g><circle class=\"sym\" cx=\"0\" cy=\"0\" r=\"3\" /><text class=\"lab\" transform=\"translate(0 -11)\">14</text></g><g class=\"c1 node n15 p1 root\" transform=\"translate(164.72 26.8)\"><g class=\"a15 i3 leaf node n6 p1 sample\" transform=\"translate(0.0 194.6)\"><path class=\"edge\" d=\"M 0 0 V -194.6 H 0.0\" /><rect class=\"sym\" height=\"6\" width=\"6\" x=\"-3\" y=\"-3\" /><text class=\"lab\" transform=\"translate(0 11)\">6</text></g><circle class=\"sym\" cx=\"0\" cy=\"0\" r=\"3\" /><text class=\"lab\" transform=\"translate(0 -11)\">15</text></g><g class=\"c1 node n16 p1 root\" transform=\"translate(237.08 26.8)\"><g class=\"a16 c2 node n13 p1\" transform=\"translate(0.0 64.8667)\"><g class=\"a13 i2 leaf node n5 p1 sample\" transform=\"translate(24.12 129.733)\"><path class=\"edge\" d=\"M 0 0 V -129.733 H -24.12\" /><rect class=\"sym\" height=\"6\" width=\"6\" x=\"-3\" y=\"-3\" /><text class=\"lab\" transform=\"translate(0 11)\">5</text></g><g class=\"a13 c2 node n10 p1\" transform=\"translate(-24.12 64.8667)\"><g class=\"a10 i2 leaf node n4 p1 sample\" transform=\"translate(-16.08 64.8667)\"><path class=\"edge\" d=\"M 0 0 V -64.8667 H 16.08\" /><rect class=\"sym\" height=\"6\" width=\"6\" x=\"-3\" y=\"-3\" /><text class=\"lab\" transform=\"translate(0 11)\">4</text></g><g class=\"a10 i4 leaf node n8 p1 sample\" transform=\"translate(16.08 64.8667)\"><path class=\"edge\" d=\"M 0 0 V -64.8667 H -16.08\" /><rect class=\"sym\" height=\"6\" width=\"6\" x=\"-3\" y=\"-3\" /><text class=\"lab\" transform=\"translate(0 11)\">8</text></g><path class=\"edge\" d=\"M 0 0 V -64.8667 H 24.12\" /><circle class=\"sym\" cx=\"0\" cy=\"0\" r=\"3\" /><text class=\"lab lft\" transform=\"translate(-3 -7.0)\">10</text></g><path class=\"edge\" d=\"M 0 0 V -64.8667 H 0.0\" /><circle class=\"sym\" cx=\"0\" cy=\"0\" r=\"3\" /><text class=\"lab lft\" transform=\"translate(-3 -7.0)\">13</text></g><circle class=\"sym\" cx=\"0\" cy=\"0\" r=\"3\" /><text class=\"lab\" transform=\"translate(0 -11)\">16</text></g><g class=\"c1 node n17 p1 root\" transform=\"translate(309.44 26.8)\"><g class=\"a17 c2 node n12 p1\" transform=\"translate(0.0 129.733)\"><g class=\"a12 i0 leaf node n0 p1 sample\" transform=\"translate(-16.08 64.8667)\"><path class=\"edge\" d=\"M 0 0 V -64.8667 H 16.08\" /><rect class=\"sym\" height=\"6\" width=\"6\" x=\"-3\" y=\"-3\" /><text class=\"lab\" transform=\"translate(0 11)\">0</text></g><g class=\"a12 i0 leaf node n1 p1 sample\" transform=\"translate(16.08 64.8667)\"><path class=\"edge\" d=\"M 0 0 V -64.8667 H -16.08\" /><rect class=\"sym\" height=\"6\" width=\"6\" x=\"-3\" y=\"-3\" /><text class=\"lab\" transform=\"translate(0 11)\">1</text></g><path class=\"edge\" d=\"M 0 0 V -129.733 H 0.0\" /><circle class=\"sym\" cx=\"0\" cy=\"0\" r=\"3\" /><text class=\"lab lft\" transform=\"translate(-3 -7.0)\">12</text></g><circle class=\"sym\" cx=\"0\" cy=\"0\" r=\"3\" /><text class=\"lab\" transform=\"translate(0 -11)\">17</text></g></g></g></g></g></svg>'"
      ]
     },
     "execution_count": 4,
     "metadata": {},
     "output_type": "execute_result"
    }
   ],
   "source": [
    "ts.draw_svg(size=(800,300), y_axis=True)"
   ]
  },
  {
   "cell_type": "markdown",
   "id": "c6bb4056-aac2-430b-991f-239a1273f419",
   "metadata": {},
   "source": [
    "The simulation *has* coalesced if each tree has a single root. Here's the easy way to check this."
   ]
  },
  {
   "cell_type": "code",
   "execution_count": 5,
   "id": "81426015-de2b-44ab-9389-0f04b3a2f98f",
   "metadata": {
    "tags": []
   },
   "outputs": [
    {
     "name": "stdout",
     "output_type": "stream",
     "text": [
      "Maximum number of roots: 4\n"
     ]
    }
   ],
   "source": [
    "max_num_roots = max([t.num_roots for t in ts.trees()])\n",
    "print(f\"Maximum number of roots: {max_num_roots}\")"
   ]
  },
  {
   "cell_type": "markdown",
   "id": "c6c513a0-e68f-40f0-9a05-4a073d328f98",
   "metadata": {},
   "source": [
    "## Recapitation\n",
    "\n",
    "Now, we \"recapitate\"!\n",
    "What this means is that we run a coalescent simulation to simulate the ancestry from the oldest bit of the tree sequence.\n",
    "It uses `msprime`, and here we're asking for an ancestral effective population size of 2;\n",
    "so this is roughly as if we'd had a randomly mating population of diploid size 2 for a while before the start of the SLiM simulation.\n",
    "(I chose such a small size so we'd still be able to plot the whole history.)"
   ]
  },
  {
   "cell_type": "code",
   "execution_count": 6,
   "id": "905eab83-0c9a-468d-9d66-0ea118f4ecb0",
   "metadata": {
    "tags": []
   },
   "outputs": [
    {
     "name": "stderr",
     "output_type": "stream",
     "text": [
      "/home/peter/mambaforge/envs/psf/lib/python3.10/site-packages/msprime/ancestry.py:831: TimeUnitsMismatchWarning: The initial_state has time_units=ticks but time is measured in generations in msprime. This may lead to significant discrepancies between the timescales. If you wish to suppress this warning, you can use, e.g., warnings.simplefilter('ignore', msprime.TimeUnitsMismatchWarning)\n",
      "  warnings.warn(message, TimeUnitsMismatchWarning)\n"
     ]
    }
   ],
   "source": [
    "ts = pyslim.recapitate(ts, ancestral_Ne=2, recombination_rate=1e-8, random_seed=12)"
   ]
  },
  {
   "cell_type": "markdown",
   "id": "1aed09e7-19ea-4ae0-bdb7-2898c94edffa",
   "metadata": {},
   "source": [
    "Read the warning, and do think about time scales, but we won't worry about it here.\n",
    "\n",
    "Now, we see that all trees *have* got a single root,\n",
    "i.e., the tree sequence is coalesced."
   ]
  },
  {
   "cell_type": "code",
   "execution_count": 7,
   "id": "ebdc9ef9-cc18-4060-a8c9-f97bf3c5672e",
   "metadata": {
    "tags": []
   },
   "outputs": [
    {
     "name": "stdout",
     "output_type": "stream",
     "text": [
      "Maximum number of roots: 1\n"
     ]
    }
   ],
   "source": [
    "max_num_roots = max([t.num_roots for t in ts.trees()])\n",
    "print(f\"Maximum number of roots: {max_num_roots}\")"
   ]
  },
  {
   "cell_type": "code",
   "execution_count": 8,
   "id": "0c805684-8b9b-4ad2-9001-9a445d8bc017",
   "metadata": {
    "tags": []
   },
   "outputs": [
    {
     "data": {
      "image/svg+xml": [
       "<svg baseProfile=\"full\" height=\"400\" version=\"1.1\" width=\"800\" xmlns=\"http://www.w3.org/2000/svg\" xmlns:ev=\"http://www.w3.org/2001/xml-events\" xmlns:xlink=\"http://www.w3.org/1999/xlink\"><defs><style type=\"text/css\"><![CDATA[.background path {fill: #808080; fill-opacity: 0}.background path:nth-child(odd) {fill-opacity: .1}.axes {font-size: 14px}.x-axis .tick .lab {font-weight: bold; dominant-baseline: hanging}.axes, .tree {font-size: 14px; text-anchor: middle}.axes line, .edge {stroke: black; fill: none}.axes .ax-skip {stroke-dasharray: 4}.y-axis .grid {stroke: #FAFAFA}.node > .sym {fill: black; stroke: none}.site > .sym {stroke: black}.mut text {fill: red; font-style: italic}.mut.extra text {fill: hotpink}.mut line {fill: none; stroke: none}.mut .sym {fill: none; stroke: red}.mut.extra .sym {stroke: hotpink}.node .mut .sym {stroke-width: 1.5px}.tree text, .tree-sequence text {dominant-baseline: central}.plotbox .lab.lft {text-anchor: end}.plotbox .lab.rgt {text-anchor: start}]]></style></defs><g class=\"tree-sequence\"><g class=\"background\"><path d=\"M56.8,0 l241.067,0 l0,338.2 l401.284,25 l0,5 l-642.35,0 l0,-5 l0,-25 l0,-338.2z\" /><path d=\"M297.867,0 l241.067,0 l0,338.2 l178.798,25 l0,5 l-18.5811,0 l0,-5 l-401.283,-25 l0,-338.2z\" /><path d=\"M538.933,0 l241.067,0 l0,338.2 l-1.13687e-13,25 l0,5 l-62.2685,0 l0,-5 l-178.798,-25 l0,-338.2z\" /></g><g class=\"axes\"><g class=\"x-axis\"><g class=\"title\" transform=\"translate(418.4 400)\"><text class=\"lab\" text-anchor=\"middle\" transform=\"translate(0 -11)\">Genome position</text></g><line class=\"ax-line\" x1=\"56.8\" x2=\"780\" y1=\"363.2\" y2=\"363.2\" /><g class=\"ticks\"><g class=\"tick\" transform=\"translate(56.8 363.2)\"><line x1=\"0\" x2=\"0\" y1=\"0\" y2=\"5\" /><g transform=\"translate(0 6)\"><text class=\"lab\">0</text></g></g><g class=\"tick\" transform=\"translate(699.15 363.2)\"><line x1=\"0\" x2=\"0\" y1=\"0\" y2=\"5\" /><g transform=\"translate(0 6)\"><text class=\"lab\">8882057</text></g></g><g class=\"tick\" transform=\"translate(717.731 363.2)\"><line x1=\"0\" x2=\"0\" y1=\"0\" y2=\"5\" /><g transform=\"translate(0 6)\"><text class=\"lab\">9138986</text></g></g><g class=\"tick\" transform=\"translate(780 363.2)\"><line x1=\"0\" x2=\"0\" y1=\"0\" y2=\"5\" /><g transform=\"translate(0 6)\"><text class=\"lab\">10000000</text></g></g></g></g><g class=\"y-axis\"><g class=\"title\" transform=\"translate(0 165.7)\"><text class=\"lab\" text-anchor=\"middle\" transform=\"translate(11) rotate(-90)\">Time (ticks)</text></g><line class=\"ax-line\" x1=\"56.8\" x2=\"56.8\" y1=\"321.4\" y2=\"10\" /><g class=\"ticks\"><g class=\"tick\" transform=\"translate(56.8 321.4)\"><line x1=\"0\" x2=\"-5\" y1=\"0\" y2=\"0\" /><g transform=\"translate(-6 0)\"><text class=\"lab\" text-anchor=\"end\">0.00</text></g></g><g class=\"tick\" transform=\"translate(56.8 284.559)\"><line x1=\"0\" x2=\"-5\" y1=\"0\" y2=\"0\" /><g transform=\"translate(-6 0)\"><text class=\"lab\" text-anchor=\"end\">1.00</text></g></g><g class=\"tick\" transform=\"translate(56.8 247.718)\"><line x1=\"0\" x2=\"-5\" y1=\"0\" y2=\"0\" /><g transform=\"translate(-6 0)\"><text class=\"lab\" text-anchor=\"end\">2.00</text></g></g><g class=\"tick\" transform=\"translate(56.8 210.877)\"><line x1=\"0\" x2=\"-5\" y1=\"0\" y2=\"0\" /><g transform=\"translate(-6 0)\"><text class=\"lab\" text-anchor=\"end\">3.00</text></g></g><g class=\"tick\" transform=\"translate(56.8 179.295)\"><line x1=\"0\" x2=\"-5\" y1=\"0\" y2=\"0\" /><g transform=\"translate(-6 0)\"><text class=\"lab\" text-anchor=\"end\">3.86</text></g></g><g class=\"tick\" transform=\"translate(56.8 177.597)\"><line x1=\"0\" x2=\"-5\" y1=\"0\" y2=\"0\" /><g transform=\"translate(-6 0)\"><text class=\"lab\" text-anchor=\"end\">3.90</text></g></g><g class=\"tick\" transform=\"translate(56.8 164.086)\"><line x1=\"0\" x2=\"-5\" y1=\"0\" y2=\"0\" /><g transform=\"translate(-6 0)\"><text class=\"lab\" text-anchor=\"end\">4.27</text></g></g><g class=\"tick\" transform=\"translate(56.8 26.8)\"><line x1=\"0\" x2=\"-5\" y1=\"0\" y2=\"0\" /><g transform=\"translate(-6 0)\"><text class=\"lab\" text-anchor=\"end\">8.00</text></g></g></g></g></g><g class=\"plotbox trees\"><g class=\"tree t0\" transform=\"translate(56.8 0)\"><g class=\"plotbox\"><g class=\"c2 node n21 p2 root\" transform=\"translate(129.33 26.8)\"><g class=\"a21 c1 node n16 p1\" transform=\"translate(-54.0367 184.077)\"><g class=\"a16 c3 node n13 p1\" transform=\"translate(0.0 36.8409)\"><g class=\"a13 i2 leaf node n5 p1 sample\" transform=\"translate(35.1867 73.6818)\"><path class=\"edge\" d=\"M 0 0 V -73.6818 H -35.1867\" /><rect class=\"sym\" height=\"6\" width=\"6\" x=\"-3\" y=\"-3\" /><text class=\"lab\" transform=\"translate(0 11)\">5</text></g><g class=\"a13 c2 node n10 p1\" transform=\"translate(5.02667 36.8409)\"><g class=\"a10 i2 leaf node n4 p1 sample\" transform=\"translate(-10.0533 36.8409)\"><path class=\"edge\" d=\"M 0 0 V -36.8409 H 10.0533\" /><rect class=\"sym\" height=\"6\" width=\"6\" x=\"-3\" y=\"-3\" /><text class=\"lab\" transform=\"translate(0 11)\">4</text></g><g class=\"a10 i4 leaf node n8 p1 sample\" transform=\"translate(10.0533 36.8409)\"><path class=\"edge\" d=\"M 0 0 V -36.8409 H -10.0533\" /><rect class=\"sym\" height=\"6\" width=\"6\" x=\"-3\" y=\"-3\" /><text class=\"lab\" transform=\"translate(0 11)\">8</text></g><path class=\"edge\" d=\"M 0 0 V -36.8409 H -5.02667\" /><circle class=\"sym\" cx=\"0\" cy=\"0\" r=\"3\" /><text class=\"lab rgt\" transform=\"translate(3 -7.0)\">10</text></g><g class=\"a13 c2 node n12 p1\" transform=\"translate(-35.1867 36.8409)\"><g class=\"a12 i0 leaf node n0 p1 sample\" transform=\"translate(-10.0533 36.8409)\"><path class=\"edge\" d=\"M 0 0 V -36.8409 H 10.0533\" /><rect class=\"sym\" height=\"6\" width=\"6\" x=\"-3\" y=\"-3\" /><text class=\"lab\" transform=\"translate(0 11)\">0</text></g><g class=\"a12 i0 leaf node n1 p1 sample\" transform=\"translate(10.0533 36.8409)\"><path class=\"edge\" d=\"M 0 0 V -36.8409 H -10.0533\" /><rect class=\"sym\" height=\"6\" width=\"6\" x=\"-3\" y=\"-3\" /><text class=\"lab\" transform=\"translate(0 11)\">1</text></g><path class=\"edge\" d=\"M 0 0 V -36.8409 H 35.1867\" /><circle class=\"sym\" cx=\"0\" cy=\"0\" r=\"3\" /><text class=\"lab lft\" transform=\"translate(-3 -7.0)\">12</text></g><path class=\"edge\" d=\"M 0 0 V -36.8409 H 0.0\" /><circle class=\"sym\" cx=\"0\" cy=\"0\" r=\"3\" /><text class=\"lab lft\" transform=\"translate(-3 -7.0)\">13</text></g><path class=\"edge\" d=\"M 0 0 V -184.077 H 54.0367\" /><circle class=\"sym\" cx=\"0\" cy=\"0\" r=\"3\" /><text class=\"lab lft\" transform=\"translate(-3 -7.0)\">16</text></g><g class=\"a21 c2 node n19 p2\" transform=\"translate(54.0367 150.797)\"><g class=\"a19 c3 node n14 p1\" transform=\"translate(-27.6467 33.2801)\"><g class=\"a14 i1 leaf node n2 p1 sample\" transform=\"translate(-25.1333 110.523)\"><path class=\"edge\" d=\"M 0 0 V -110.523 H 25.1333\" /><rect class=\"sym\" height=\"6\" width=\"6\" x=\"-3\" y=\"-3\" /><text class=\"lab\" transform=\"translate(0 11)\">2</text></g><g class=\"a14 i1 leaf node n3 p1 sample\" transform=\"translate(-5.02667 110.523)\"><path class=\"edge\" d=\"M 0 0 V -110.523 H 5.02667\" /><rect class=\"sym\" height=\"6\" width=\"6\" x=\"-3\" y=\"-3\" /><text class=\"lab\" transform=\"translate(0 11)\">3</text></g><g class=\"a14 c2 node n11 p1\" transform=\"translate(25.1333 73.6818)\"><g class=\"a11 i3 leaf node n7 p1 sample\" transform=\"translate(-10.0533 36.8409)\"><path class=\"edge\" d=\"M 0 0 V -36.8409 H 10.0533\" /><rect class=\"sym\" height=\"6\" width=\"6\" x=\"-3\" y=\"-3\" /><text class=\"lab\" transform=\"translate(0 11)\">7</text></g><g class=\"a11 i4 leaf node n9 p1 sample\" transform=\"translate(10.0533 36.8409)\"><path class=\"edge\" d=\"M 0 0 V -36.8409 H -10.0533\" /><rect class=\"sym\" height=\"6\" width=\"6\" x=\"-3\" y=\"-3\" /><text class=\"lab\" transform=\"translate(0 11)\">9</text></g><path class=\"edge\" d=\"M 0 0 V -73.6818 H -25.1333\" /><circle class=\"sym\" cx=\"0\" cy=\"0\" r=\"3\" /><text class=\"lab rgt\" transform=\"translate(3 -7.0)\">11</text></g><path class=\"edge\" d=\"M 0 0 V -33.2801 H 27.6467\" /><circle class=\"sym\" cx=\"0\" cy=\"0\" r=\"3\" /><text class=\"lab lft\" transform=\"translate(-3 -7.0)\">14</text></g><g class=\"a19 c1 node n15 p1\" transform=\"translate(27.6467 33.2801)\"><g class=\"a15 i3 leaf node n6 p1 sample\" transform=\"translate(0.0 110.523)\"><path class=\"edge\" d=\"M 0 0 V -110.523 H 0.0\" /><rect class=\"sym\" height=\"6\" width=\"6\" x=\"-3\" y=\"-3\" /><text class=\"lab\" transform=\"translate(0 11)\">6</text></g><path class=\"edge\" d=\"M 0 0 V -33.2801 H -27.6467\" /><circle class=\"sym\" cx=\"0\" cy=\"0\" r=\"3\" /><text class=\"lab rgt\" transform=\"translate(3 -7.0)\">15</text></g><path class=\"edge\" d=\"M 0 0 V -150.797 H -54.0367\" /><circle class=\"sym\" cx=\"0\" cy=\"0\" r=\"3\" /><text class=\"lab rgt\" transform=\"translate(3 -7.0)\">19</text></g><circle class=\"sym\" cx=\"0\" cy=\"0\" r=\"3\" /><text class=\"lab\" transform=\"translate(0 -11)\">21</text></g></g></g><g class=\"tree t1\" transform=\"translate(297.867 0)\"><g class=\"plotbox\"><g class=\"c2 node n21 p2 root\" transform=\"translate(140.64 26.8)\"><g class=\"a21 c1 node n16 p1\" transform=\"translate(55.2933 184.077)\"><g class=\"a16 c2 node n13 p1\" transform=\"translate(0.0 36.8409)\"><g class=\"a13 i2 leaf node n5 p1 sample\" transform=\"translate(15.08 73.6818)\"><path class=\"edge\" d=\"M 0 0 V -73.6818 H -15.08\" /><rect class=\"sym\" height=\"6\" width=\"6\" x=\"-3\" y=\"-3\" /><text class=\"lab\" transform=\"translate(0 11)\">5</text></g><g class=\"a13 c2 node n10 p1\" transform=\"translate(-15.08 36.8409)\"><g class=\"a10 i2 leaf node n4 p1 sample\" transform=\"translate(-10.0533 36.8409)\"><path class=\"edge\" d=\"M 0 0 V -36.8409 H 10.0533\" /><rect class=\"sym\" height=\"6\" width=\"6\" x=\"-3\" y=\"-3\" /><text class=\"lab\" transform=\"translate(0 11)\">4</text></g><g class=\"a10 i4 leaf node n8 p1 sample\" transform=\"translate(10.0533 36.8409)\"><path class=\"edge\" d=\"M 0 0 V -36.8409 H -10.0533\" /><rect class=\"sym\" height=\"6\" width=\"6\" x=\"-3\" y=\"-3\" /><text class=\"lab\" transform=\"translate(0 11)\">8</text></g><path class=\"edge\" d=\"M 0 0 V -36.8409 H 15.08\" /><circle class=\"sym\" cx=\"0\" cy=\"0\" r=\"3\" /><text class=\"lab lft\" transform=\"translate(-3 -7.0)\">10</text></g><path class=\"edge\" d=\"M 0 0 V -36.8409 H 0.0\" /><circle class=\"sym\" cx=\"0\" cy=\"0\" r=\"3\" /><text class=\"lab lft\" transform=\"translate(-3 -7.0)\">13</text></g><path class=\"edge\" d=\"M 0 0 V -184.077 H -55.2933\" /><circle class=\"sym\" cx=\"0\" cy=\"0\" r=\"3\" /><text class=\"lab rgt\" transform=\"translate(3 -7.0)\">16</text></g><g class=\"a21 c2 node n19 p2\" transform=\"translate(-55.2933 150.797)\"><g class=\"a19 c3 node n14 p1\" transform=\"translate(30.16 33.2801)\"><g class=\"a14 i1 leaf node n2 p1 sample\" transform=\"translate(-25.1333 110.523)\"><path class=\"edge\" d=\"M 0 0 V -110.523 H 25.1333\" /><rect class=\"sym\" height=\"6\" width=\"6\" x=\"-3\" y=\"-3\" /><text class=\"lab\" transform=\"translate(0 11)\">2</text></g><g class=\"a14 i1 leaf node n3 p1 sample\" transform=\"translate(-5.02667 110.523)\"><path class=\"edge\" d=\"M 0 0 V -110.523 H 5.02667\" /><rect class=\"sym\" height=\"6\" width=\"6\" x=\"-3\" y=\"-3\" /><text class=\"lab\" transform=\"translate(0 11)\">3</text></g><g class=\"a14 c2 node n11 p1\" transform=\"translate(25.1333 73.6818)\"><g class=\"a11 i3 leaf node n7 p1 sample\" transform=\"translate(-10.0533 36.8409)\"><path class=\"edge\" d=\"M 0 0 V -36.8409 H 10.0533\" /><rect class=\"sym\" height=\"6\" width=\"6\" x=\"-3\" y=\"-3\" /><text class=\"lab\" transform=\"translate(0 11)\">7</text></g><g class=\"a11 i4 leaf node n9 p1 sample\" transform=\"translate(10.0533 36.8409)\"><path class=\"edge\" d=\"M 0 0 V -36.8409 H -10.0533\" /><rect class=\"sym\" height=\"6\" width=\"6\" x=\"-3\" y=\"-3\" /><text class=\"lab\" transform=\"translate(0 11)\">9</text></g><path class=\"edge\" d=\"M 0 0 V -73.6818 H -25.1333\" /><circle class=\"sym\" cx=\"0\" cy=\"0\" r=\"3\" /><text class=\"lab rgt\" transform=\"translate(3 -7.0)\">11</text></g><path class=\"edge\" d=\"M 0 0 V -33.2801 H -30.16\" /><circle class=\"sym\" cx=\"0\" cy=\"0\" r=\"3\" /><text class=\"lab rgt\" transform=\"translate(3 -7.0)\">14</text></g><g class=\"a19 c2 node n18 p2\" transform=\"translate(-30.16 1.69735)\"><g class=\"a18 c1 node n15 p1\" transform=\"translate(15.08 31.5828)\"><g class=\"a15 i3 leaf node n6 p1 sample\" transform=\"translate(0.0 110.523)\"><path class=\"edge\" d=\"M 0 0 V -110.523 H 0.0\" /><rect class=\"sym\" height=\"6\" width=\"6\" x=\"-3\" y=\"-3\" /><text class=\"lab\" transform=\"translate(0 11)\">6</text></g><path class=\"edge\" d=\"M 0 0 V -31.5828 H -15.08\" /><circle class=\"sym\" cx=\"0\" cy=\"0\" r=\"3\" /><text class=\"lab rgt\" transform=\"translate(3 -7.0)\">15</text></g><g class=\"a18 c1 node n17 p1\" transform=\"translate(-15.08 31.5828)\"><g class=\"a17 c2 node n12 p1\" transform=\"translate(0.0 73.6818)\"><g class=\"a12 i0 leaf node n0 p1 sample\" transform=\"translate(-10.0533 36.8409)\"><path class=\"edge\" d=\"M 0 0 V -36.8409 H 10.0533\" /><rect class=\"sym\" height=\"6\" width=\"6\" x=\"-3\" y=\"-3\" /><text class=\"lab\" transform=\"translate(0 11)\">0</text></g><g class=\"a12 i0 leaf node n1 p1 sample\" transform=\"translate(10.0533 36.8409)\"><path class=\"edge\" d=\"M 0 0 V -36.8409 H -10.0533\" /><rect class=\"sym\" height=\"6\" width=\"6\" x=\"-3\" y=\"-3\" /><text class=\"lab\" transform=\"translate(0 11)\">1</text></g><path class=\"edge\" d=\"M 0 0 V -73.6818 H 0.0\" /><circle class=\"sym\" cx=\"0\" cy=\"0\" r=\"3\" /><text class=\"lab lft\" transform=\"translate(-3 -7.0)\">12</text></g><path class=\"edge\" d=\"M 0 0 V -31.5828 H 15.08\" /><circle class=\"sym\" cx=\"0\" cy=\"0\" r=\"3\" /><text class=\"lab lft\" transform=\"translate(-3 -7.0)\">17</text></g><path class=\"edge\" d=\"M 0 0 V -1.69735 H 30.16\" /><circle class=\"sym\" cx=\"0\" cy=\"0\" r=\"3\" /><text class=\"lab lft\" transform=\"translate(-3 -7.0)\">18</text></g><path class=\"edge\" d=\"M 0 0 V -150.797 H 55.2933\" /><circle class=\"sym\" cx=\"0\" cy=\"0\" r=\"3\" /><text class=\"lab lft\" transform=\"translate(-3 -7.0)\">19</text></g><circle class=\"sym\" cx=\"0\" cy=\"0\" r=\"3\" /><text class=\"lab\" transform=\"translate(0 -11)\">21</text></g></g></g><g class=\"tree t2\" transform=\"translate(538.933 0)\"><g class=\"plotbox\"><g class=\"c2 node n20 p2 root\" transform=\"translate(140.64 164.086)\"><g class=\"a20 c1 node n16 p1\" transform=\"translate(55.2933 46.7912)\"><g class=\"a16 c2 node n13 p1\" transform=\"translate(0.0 36.8409)\"><g class=\"a13 i2 leaf node n5 p1 sample\" transform=\"translate(15.08 73.6818)\"><path class=\"edge\" d=\"M 0 0 V -73.6818 H -15.08\" /><rect class=\"sym\" height=\"6\" width=\"6\" x=\"-3\" y=\"-3\" /><text class=\"lab\" transform=\"translate(0 11)\">5</text></g><g class=\"a13 c2 node n10 p1\" transform=\"translate(-15.08 36.8409)\"><g class=\"a10 i2 leaf node n4 p1 sample\" transform=\"translate(-10.0533 36.8409)\"><path class=\"edge\" d=\"M 0 0 V -36.8409 H 10.0533\" /><rect class=\"sym\" height=\"6\" width=\"6\" x=\"-3\" y=\"-3\" /><text class=\"lab\" transform=\"translate(0 11)\">4</text></g><g class=\"a10 i4 leaf node n8 p1 sample\" transform=\"translate(10.0533 36.8409)\"><path class=\"edge\" d=\"M 0 0 V -36.8409 H -10.0533\" /><rect class=\"sym\" height=\"6\" width=\"6\" x=\"-3\" y=\"-3\" /><text class=\"lab\" transform=\"translate(0 11)\">8</text></g><path class=\"edge\" d=\"M 0 0 V -36.8409 H 15.08\" /><circle class=\"sym\" cx=\"0\" cy=\"0\" r=\"3\" /><text class=\"lab lft\" transform=\"translate(-3 -7.0)\">10</text></g><path class=\"edge\" d=\"M 0 0 V -36.8409 H 0.0\" /><circle class=\"sym\" cx=\"0\" cy=\"0\" r=\"3\" /><text class=\"lab lft\" transform=\"translate(-3 -7.0)\">13</text></g><path class=\"edge\" d=\"M 0 0 V -46.7912 H -55.2933\" /><circle class=\"sym\" cx=\"0\" cy=\"0\" r=\"3\" /><text class=\"lab rgt\" transform=\"translate(3 -7.0)\">16</text></g><g class=\"a20 c2 node n19 p2\" transform=\"translate(-55.2933 13.5111)\"><g class=\"a19 c3 node n14 p1\" transform=\"translate(30.16 33.2801)\"><g class=\"a14 i1 leaf node n2 p1 sample\" transform=\"translate(-25.1333 110.523)\"><path class=\"edge\" d=\"M 0 0 V -110.523 H 25.1333\" /><rect class=\"sym\" height=\"6\" width=\"6\" x=\"-3\" y=\"-3\" /><text class=\"lab\" transform=\"translate(0 11)\">2</text></g><g class=\"a14 i1 leaf node n3 p1 sample\" transform=\"translate(-5.02667 110.523)\"><path class=\"edge\" d=\"M 0 0 V -110.523 H 5.02667\" /><rect class=\"sym\" height=\"6\" width=\"6\" x=\"-3\" y=\"-3\" /><text class=\"lab\" transform=\"translate(0 11)\">3</text></g><g class=\"a14 c2 node n11 p1\" transform=\"translate(25.1333 73.6818)\"><g class=\"a11 i3 leaf node n7 p1 sample\" transform=\"translate(-10.0533 36.8409)\"><path class=\"edge\" d=\"M 0 0 V -36.8409 H 10.0533\" /><rect class=\"sym\" height=\"6\" width=\"6\" x=\"-3\" y=\"-3\" /><text class=\"lab\" transform=\"translate(0 11)\">7</text></g><g class=\"a11 i4 leaf node n9 p1 sample\" transform=\"translate(10.0533 36.8409)\"><path class=\"edge\" d=\"M 0 0 V -36.8409 H -10.0533\" /><rect class=\"sym\" height=\"6\" width=\"6\" x=\"-3\" y=\"-3\" /><text class=\"lab\" transform=\"translate(0 11)\">9</text></g><path class=\"edge\" d=\"M 0 0 V -73.6818 H -25.1333\" /><circle class=\"sym\" cx=\"0\" cy=\"0\" r=\"3\" /><text class=\"lab rgt\" transform=\"translate(3 -7.0)\">11</text></g><path class=\"edge\" d=\"M 0 0 V -33.2801 H -30.16\" /><circle class=\"sym\" cx=\"0\" cy=\"0\" r=\"3\" /><text class=\"lab rgt\" transform=\"translate(3 -7.0)\">14</text></g><g class=\"a19 c2 node n18 p2\" transform=\"translate(-30.16 1.69735)\"><g class=\"a18 c1 node n15 p1\" transform=\"translate(15.08 31.5828)\"><g class=\"a15 i3 leaf node n6 p1 sample\" transform=\"translate(0.0 110.523)\"><path class=\"edge\" d=\"M 0 0 V -110.523 H 0.0\" /><rect class=\"sym\" height=\"6\" width=\"6\" x=\"-3\" y=\"-3\" /><text class=\"lab\" transform=\"translate(0 11)\">6</text></g><path class=\"edge\" d=\"M 0 0 V -31.5828 H -15.08\" /><circle class=\"sym\" cx=\"0\" cy=\"0\" r=\"3\" /><text class=\"lab rgt\" transform=\"translate(3 -7.0)\">15</text></g><g class=\"a18 c1 node n17 p1\" transform=\"translate(-15.08 31.5828)\"><g class=\"a17 c2 node n12 p1\" transform=\"translate(0.0 73.6818)\"><g class=\"a12 i0 leaf node n0 p1 sample\" transform=\"translate(-10.0533 36.8409)\"><path class=\"edge\" d=\"M 0 0 V -36.8409 H 10.0533\" /><rect class=\"sym\" height=\"6\" width=\"6\" x=\"-3\" y=\"-3\" /><text class=\"lab\" transform=\"translate(0 11)\">0</text></g><g class=\"a12 i0 leaf node n1 p1 sample\" transform=\"translate(10.0533 36.8409)\"><path class=\"edge\" d=\"M 0 0 V -36.8409 H -10.0533\" /><rect class=\"sym\" height=\"6\" width=\"6\" x=\"-3\" y=\"-3\" /><text class=\"lab\" transform=\"translate(0 11)\">1</text></g><path class=\"edge\" d=\"M 0 0 V -73.6818 H 0.0\" /><circle class=\"sym\" cx=\"0\" cy=\"0\" r=\"3\" /><text class=\"lab lft\" transform=\"translate(-3 -7.0)\">12</text></g><path class=\"edge\" d=\"M 0 0 V -31.5828 H 15.08\" /><circle class=\"sym\" cx=\"0\" cy=\"0\" r=\"3\" /><text class=\"lab lft\" transform=\"translate(-3 -7.0)\">17</text></g><path class=\"edge\" d=\"M 0 0 V -1.69735 H 30.16\" /><circle class=\"sym\" cx=\"0\" cy=\"0\" r=\"3\" /><text class=\"lab lft\" transform=\"translate(-3 -7.0)\">18</text></g><path class=\"edge\" d=\"M 0 0 V -13.5111 H 55.2933\" /><circle class=\"sym\" cx=\"0\" cy=\"0\" r=\"3\" /><text class=\"lab lft\" transform=\"translate(-3 -7.0)\">19</text></g><circle class=\"sym\" cx=\"0\" cy=\"0\" r=\"3\" /><text class=\"lab\" transform=\"translate(0 -11)\">20</text></g></g></g></g></g></svg>"
      ],
      "text/plain": [
       "'<svg baseProfile=\"full\" height=\"400\" version=\"1.1\" width=\"800\" xmlns=\"http://www.w3.org/2000/svg\" xmlns:ev=\"http://www.w3.org/2001/xml-events\" xmlns:xlink=\"http://www.w3.org/1999/xlink\"><defs><style type=\"text/css\"><![CDATA[.background path {fill: #808080; fill-opacity: 0}.background path:nth-child(odd) {fill-opacity: .1}.axes {font-size: 14px}.x-axis .tick .lab {font-weight: bold; dominant-baseline: hanging}.axes, .tree {font-size: 14px; text-anchor: middle}.axes line, .edge {stroke: black; fill: none}.axes .ax-skip {stroke-dasharray: 4}.y-axis .grid {stroke: #FAFAFA}.node > .sym {fill: black; stroke: none}.site > .sym {stroke: black}.mut text {fill: red; font-style: italic}.mut.extra text {fill: hotpink}.mut line {fill: none; stroke: none}.mut .sym {fill: none; stroke: red}.mut.extra .sym {stroke: hotpink}.node .mut .sym {stroke-width: 1.5px}.tree text, .tree-sequence text {dominant-baseline: central}.plotbox .lab.lft {text-anchor: end}.plotbox .lab.rgt {text-anchor: start}]]></style></defs><g class=\"tree-sequence\"><g class=\"background\"><path d=\"M56.8,0 l241.067,0 l0,338.2 l401.284,25 l0,5 l-642.35,0 l0,-5 l0,-25 l0,-338.2z\" /><path d=\"M297.867,0 l241.067,0 l0,338.2 l178.798,25 l0,5 l-18.5811,0 l0,-5 l-401.283,-25 l0,-338.2z\" /><path d=\"M538.933,0 l241.067,0 l0,338.2 l-1.13687e-13,25 l0,5 l-62.2685,0 l0,-5 l-178.798,-25 l0,-338.2z\" /></g><g class=\"axes\"><g class=\"x-axis\"><g class=\"title\" transform=\"translate(418.4 400)\"><text class=\"lab\" text-anchor=\"middle\" transform=\"translate(0 -11)\">Genome position</text></g><line class=\"ax-line\" x1=\"56.8\" x2=\"780\" y1=\"363.2\" y2=\"363.2\" /><g class=\"ticks\"><g class=\"tick\" transform=\"translate(56.8 363.2)\"><line x1=\"0\" x2=\"0\" y1=\"0\" y2=\"5\" /><g transform=\"translate(0 6)\"><text class=\"lab\">0</text></g></g><g class=\"tick\" transform=\"translate(699.15 363.2)\"><line x1=\"0\" x2=\"0\" y1=\"0\" y2=\"5\" /><g transform=\"translate(0 6)\"><text class=\"lab\">8882057</text></g></g><g class=\"tick\" transform=\"translate(717.731 363.2)\"><line x1=\"0\" x2=\"0\" y1=\"0\" y2=\"5\" /><g transform=\"translate(0 6)\"><text class=\"lab\">9138986</text></g></g><g class=\"tick\" transform=\"translate(780 363.2)\"><line x1=\"0\" x2=\"0\" y1=\"0\" y2=\"5\" /><g transform=\"translate(0 6)\"><text class=\"lab\">10000000</text></g></g></g></g><g class=\"y-axis\"><g class=\"title\" transform=\"translate(0 165.7)\"><text class=\"lab\" text-anchor=\"middle\" transform=\"translate(11) rotate(-90)\">Time (ticks)</text></g><line class=\"ax-line\" x1=\"56.8\" x2=\"56.8\" y1=\"321.4\" y2=\"10\" /><g class=\"ticks\"><g class=\"tick\" transform=\"translate(56.8 321.4)\"><line x1=\"0\" x2=\"-5\" y1=\"0\" y2=\"0\" /><g transform=\"translate(-6 0)\"><text class=\"lab\" text-anchor=\"end\">0.00</text></g></g><g class=\"tick\" transform=\"translate(56.8 284.559)\"><line x1=\"0\" x2=\"-5\" y1=\"0\" y2=\"0\" /><g transform=\"translate(-6 0)\"><text class=\"lab\" text-anchor=\"end\">1.00</text></g></g><g class=\"tick\" transform=\"translate(56.8 247.718)\"><line x1=\"0\" x2=\"-5\" y1=\"0\" y2=\"0\" /><g transform=\"translate(-6 0)\"><text class=\"lab\" text-anchor=\"end\">2.00</text></g></g><g class=\"tick\" transform=\"translate(56.8 210.877)\"><line x1=\"0\" x2=\"-5\" y1=\"0\" y2=\"0\" /><g transform=\"translate(-6 0)\"><text class=\"lab\" text-anchor=\"end\">3.00</text></g></g><g class=\"tick\" transform=\"translate(56.8 179.295)\"><line x1=\"0\" x2=\"-5\" y1=\"0\" y2=\"0\" /><g transform=\"translate(-6 0)\"><text class=\"lab\" text-anchor=\"end\">3.86</text></g></g><g class=\"tick\" transform=\"translate(56.8 177.597)\"><line x1=\"0\" x2=\"-5\" y1=\"0\" y2=\"0\" /><g transform=\"translate(-6 0)\"><text class=\"lab\" text-anchor=\"end\">3.90</text></g></g><g class=\"tick\" transform=\"translate(56.8 164.086)\"><line x1=\"0\" x2=\"-5\" y1=\"0\" y2=\"0\" /><g transform=\"translate(-6 0)\"><text class=\"lab\" text-anchor=\"end\">4.27</text></g></g><g class=\"tick\" transform=\"translate(56.8 26.8)\"><line x1=\"0\" x2=\"-5\" y1=\"0\" y2=\"0\" /><g transform=\"translate(-6 0)\"><text class=\"lab\" text-anchor=\"end\">8.00</text></g></g></g></g></g><g class=\"plotbox trees\"><g class=\"tree t0\" transform=\"translate(56.8 0)\"><g class=\"plotbox\"><g class=\"c2 node n21 p2 root\" transform=\"translate(129.33 26.8)\"><g class=\"a21 c1 node n16 p1\" transform=\"translate(-54.0367 184.077)\"><g class=\"a16 c3 node n13 p1\" transform=\"translate(0.0 36.8409)\"><g class=\"a13 i2 leaf node n5 p1 sample\" transform=\"translate(35.1867 73.6818)\"><path class=\"edge\" d=\"M 0 0 V -73.6818 H -35.1867\" /><rect class=\"sym\" height=\"6\" width=\"6\" x=\"-3\" y=\"-3\" /><text class=\"lab\" transform=\"translate(0 11)\">5</text></g><g class=\"a13 c2 node n10 p1\" transform=\"translate(5.02667 36.8409)\"><g class=\"a10 i2 leaf node n4 p1 sample\" transform=\"translate(-10.0533 36.8409)\"><path class=\"edge\" d=\"M 0 0 V -36.8409 H 10.0533\" /><rect class=\"sym\" height=\"6\" width=\"6\" x=\"-3\" y=\"-3\" /><text class=\"lab\" transform=\"translate(0 11)\">4</text></g><g class=\"a10 i4 leaf node n8 p1 sample\" transform=\"translate(10.0533 36.8409)\"><path class=\"edge\" d=\"M 0 0 V -36.8409 H -10.0533\" /><rect class=\"sym\" height=\"6\" width=\"6\" x=\"-3\" y=\"-3\" /><text class=\"lab\" transform=\"translate(0 11)\">8</text></g><path class=\"edge\" d=\"M 0 0 V -36.8409 H -5.02667\" /><circle class=\"sym\" cx=\"0\" cy=\"0\" r=\"3\" /><text class=\"lab rgt\" transform=\"translate(3 -7.0)\">10</text></g><g class=\"a13 c2 node n12 p1\" transform=\"translate(-35.1867 36.8409)\"><g class=\"a12 i0 leaf node n0 p1 sample\" transform=\"translate(-10.0533 36.8409)\"><path class=\"edge\" d=\"M 0 0 V -36.8409 H 10.0533\" /><rect class=\"sym\" height=\"6\" width=\"6\" x=\"-3\" y=\"-3\" /><text class=\"lab\" transform=\"translate(0 11)\">0</text></g><g class=\"a12 i0 leaf node n1 p1 sample\" transform=\"translate(10.0533 36.8409)\"><path class=\"edge\" d=\"M 0 0 V -36.8409 H -10.0533\" /><rect class=\"sym\" height=\"6\" width=\"6\" x=\"-3\" y=\"-3\" /><text class=\"lab\" transform=\"translate(0 11)\">1</text></g><path class=\"edge\" d=\"M 0 0 V -36.8409 H 35.1867\" /><circle class=\"sym\" cx=\"0\" cy=\"0\" r=\"3\" /><text class=\"lab lft\" transform=\"translate(-3 -7.0)\">12</text></g><path class=\"edge\" d=\"M 0 0 V -36.8409 H 0.0\" /><circle class=\"sym\" cx=\"0\" cy=\"0\" r=\"3\" /><text class=\"lab lft\" transform=\"translate(-3 -7.0)\">13</text></g><path class=\"edge\" d=\"M 0 0 V -184.077 H 54.0367\" /><circle class=\"sym\" cx=\"0\" cy=\"0\" r=\"3\" /><text class=\"lab lft\" transform=\"translate(-3 -7.0)\">16</text></g><g class=\"a21 c2 node n19 p2\" transform=\"translate(54.0367 150.797)\"><g class=\"a19 c3 node n14 p1\" transform=\"translate(-27.6467 33.2801)\"><g class=\"a14 i1 leaf node n2 p1 sample\" transform=\"translate(-25.1333 110.523)\"><path class=\"edge\" d=\"M 0 0 V -110.523 H 25.1333\" /><rect class=\"sym\" height=\"6\" width=\"6\" x=\"-3\" y=\"-3\" /><text class=\"lab\" transform=\"translate(0 11)\">2</text></g><g class=\"a14 i1 leaf node n3 p1 sample\" transform=\"translate(-5.02667 110.523)\"><path class=\"edge\" d=\"M 0 0 V -110.523 H 5.02667\" /><rect class=\"sym\" height=\"6\" width=\"6\" x=\"-3\" y=\"-3\" /><text class=\"lab\" transform=\"translate(0 11)\">3</text></g><g class=\"a14 c2 node n11 p1\" transform=\"translate(25.1333 73.6818)\"><g class=\"a11 i3 leaf node n7 p1 sample\" transform=\"translate(-10.0533 36.8409)\"><path class=\"edge\" d=\"M 0 0 V -36.8409 H 10.0533\" /><rect class=\"sym\" height=\"6\" width=\"6\" x=\"-3\" y=\"-3\" /><text class=\"lab\" transform=\"translate(0 11)\">7</text></g><g class=\"a11 i4 leaf node n9 p1 sample\" transform=\"translate(10.0533 36.8409)\"><path class=\"edge\" d=\"M 0 0 V -36.8409 H -10.0533\" /><rect class=\"sym\" height=\"6\" width=\"6\" x=\"-3\" y=\"-3\" /><text class=\"lab\" transform=\"translate(0 11)\">9</text></g><path class=\"edge\" d=\"M 0 0 V -73.6818 H -25.1333\" /><circle class=\"sym\" cx=\"0\" cy=\"0\" r=\"3\" /><text class=\"lab rgt\" transform=\"translate(3 -7.0)\">11</text></g><path class=\"edge\" d=\"M 0 0 V -33.2801 H 27.6467\" /><circle class=\"sym\" cx=\"0\" cy=\"0\" r=\"3\" /><text class=\"lab lft\" transform=\"translate(-3 -7.0)\">14</text></g><g class=\"a19 c1 node n15 p1\" transform=\"translate(27.6467 33.2801)\"><g class=\"a15 i3 leaf node n6 p1 sample\" transform=\"translate(0.0 110.523)\"><path class=\"edge\" d=\"M 0 0 V -110.523 H 0.0\" /><rect class=\"sym\" height=\"6\" width=\"6\" x=\"-3\" y=\"-3\" /><text class=\"lab\" transform=\"translate(0 11)\">6</text></g><path class=\"edge\" d=\"M 0 0 V -33.2801 H -27.6467\" /><circle class=\"sym\" cx=\"0\" cy=\"0\" r=\"3\" /><text class=\"lab rgt\" transform=\"translate(3 -7.0)\">15</text></g><path class=\"edge\" d=\"M 0 0 V -150.797 H -54.0367\" /><circle class=\"sym\" cx=\"0\" cy=\"0\" r=\"3\" /><text class=\"lab rgt\" transform=\"translate(3 -7.0)\">19</text></g><circle class=\"sym\" cx=\"0\" cy=\"0\" r=\"3\" /><text class=\"lab\" transform=\"translate(0 -11)\">21</text></g></g></g><g class=\"tree t1\" transform=\"translate(297.867 0)\"><g class=\"plotbox\"><g class=\"c2 node n21 p2 root\" transform=\"translate(140.64 26.8)\"><g class=\"a21 c1 node n16 p1\" transform=\"translate(55.2933 184.077)\"><g class=\"a16 c2 node n13 p1\" transform=\"translate(0.0 36.8409)\"><g class=\"a13 i2 leaf node n5 p1 sample\" transform=\"translate(15.08 73.6818)\"><path class=\"edge\" d=\"M 0 0 V -73.6818 H -15.08\" /><rect class=\"sym\" height=\"6\" width=\"6\" x=\"-3\" y=\"-3\" /><text class=\"lab\" transform=\"translate(0 11)\">5</text></g><g class=\"a13 c2 node n10 p1\" transform=\"translate(-15.08 36.8409)\"><g class=\"a10 i2 leaf node n4 p1 sample\" transform=\"translate(-10.0533 36.8409)\"><path class=\"edge\" d=\"M 0 0 V -36.8409 H 10.0533\" /><rect class=\"sym\" height=\"6\" width=\"6\" x=\"-3\" y=\"-3\" /><text class=\"lab\" transform=\"translate(0 11)\">4</text></g><g class=\"a10 i4 leaf node n8 p1 sample\" transform=\"translate(10.0533 36.8409)\"><path class=\"edge\" d=\"M 0 0 V -36.8409 H -10.0533\" /><rect class=\"sym\" height=\"6\" width=\"6\" x=\"-3\" y=\"-3\" /><text class=\"lab\" transform=\"translate(0 11)\">8</text></g><path class=\"edge\" d=\"M 0 0 V -36.8409 H 15.08\" /><circle class=\"sym\" cx=\"0\" cy=\"0\" r=\"3\" /><text class=\"lab lft\" transform=\"translate(-3 -7.0)\">10</text></g><path class=\"edge\" d=\"M 0 0 V -36.8409 H 0.0\" /><circle class=\"sym\" cx=\"0\" cy=\"0\" r=\"3\" /><text class=\"lab lft\" transform=\"translate(-3 -7.0)\">13</text></g><path class=\"edge\" d=\"M 0 0 V -184.077 H -55.2933\" /><circle class=\"sym\" cx=\"0\" cy=\"0\" r=\"3\" /><text class=\"lab rgt\" transform=\"translate(3 -7.0)\">16</text></g><g class=\"a21 c2 node n19 p2\" transform=\"translate(-55.2933 150.797)\"><g class=\"a19 c3 node n14 p1\" transform=\"translate(30.16 33.2801)\"><g class=\"a14 i1 leaf node n2 p1 sample\" transform=\"translate(-25.1333 110.523)\"><path class=\"edge\" d=\"M 0 0 V -110.523 H 25.1333\" /><rect class=\"sym\" height=\"6\" width=\"6\" x=\"-3\" y=\"-3\" /><text class=\"lab\" transform=\"translate(0 11)\">2</text></g><g class=\"a14 i1 leaf node n3 p1 sample\" transform=\"translate(-5.02667 110.523)\"><path class=\"edge\" d=\"M 0 0 V -110.523 H 5.02667\" /><rect class=\"sym\" height=\"6\" width=\"6\" x=\"-3\" y=\"-3\" /><text class=\"lab\" transform=\"translate(0 11)\">3</text></g><g class=\"a14 c2 node n11 p1\" transform=\"translate(25.1333 73.6818)\"><g class=\"a11 i3 leaf node n7 p1 sample\" transform=\"translate(-10.0533 36.8409)\"><path class=\"edge\" d=\"M 0 0 V -36.8409 H 10.0533\" /><rect class=\"sym\" height=\"6\" width=\"6\" x=\"-3\" y=\"-3\" /><text class=\"lab\" transform=\"translate(0 11)\">7</text></g><g class=\"a11 i4 leaf node n9 p1 sample\" transform=\"translate(10.0533 36.8409)\"><path class=\"edge\" d=\"M 0 0 V -36.8409 H -10.0533\" /><rect class=\"sym\" height=\"6\" width=\"6\" x=\"-3\" y=\"-3\" /><text class=\"lab\" transform=\"translate(0 11)\">9</text></g><path class=\"edge\" d=\"M 0 0 V -73.6818 H -25.1333\" /><circle class=\"sym\" cx=\"0\" cy=\"0\" r=\"3\" /><text class=\"lab rgt\" transform=\"translate(3 -7.0)\">11</text></g><path class=\"edge\" d=\"M 0 0 V -33.2801 H -30.16\" /><circle class=\"sym\" cx=\"0\" cy=\"0\" r=\"3\" /><text class=\"lab rgt\" transform=\"translate(3 -7.0)\">14</text></g><g class=\"a19 c2 node n18 p2\" transform=\"translate(-30.16 1.69735)\"><g class=\"a18 c1 node n15 p1\" transform=\"translate(15.08 31.5828)\"><g class=\"a15 i3 leaf node n6 p1 sample\" transform=\"translate(0.0 110.523)\"><path class=\"edge\" d=\"M 0 0 V -110.523 H 0.0\" /><rect class=\"sym\" height=\"6\" width=\"6\" x=\"-3\" y=\"-3\" /><text class=\"lab\" transform=\"translate(0 11)\">6</text></g><path class=\"edge\" d=\"M 0 0 V -31.5828 H -15.08\" /><circle class=\"sym\" cx=\"0\" cy=\"0\" r=\"3\" /><text class=\"lab rgt\" transform=\"translate(3 -7.0)\">15</text></g><g class=\"a18 c1 node n17 p1\" transform=\"translate(-15.08 31.5828)\"><g class=\"a17 c2 node n12 p1\" transform=\"translate(0.0 73.6818)\"><g class=\"a12 i0 leaf node n0 p1 sample\" transform=\"translate(-10.0533 36.8409)\"><path class=\"edge\" d=\"M 0 0 V -36.8409 H 10.0533\" /><rect class=\"sym\" height=\"6\" width=\"6\" x=\"-3\" y=\"-3\" /><text class=\"lab\" transform=\"translate(0 11)\">0</text></g><g class=\"a12 i0 leaf node n1 p1 sample\" transform=\"translate(10.0533 36.8409)\"><path class=\"edge\" d=\"M 0 0 V -36.8409 H -10.0533\" /><rect class=\"sym\" height=\"6\" width=\"6\" x=\"-3\" y=\"-3\" /><text class=\"lab\" transform=\"translate(0 11)\">1</text></g><path class=\"edge\" d=\"M 0 0 V -73.6818 H 0.0\" /><circle class=\"sym\" cx=\"0\" cy=\"0\" r=\"3\" /><text class=\"lab lft\" transform=\"translate(-3 -7.0)\">12</text></g><path class=\"edge\" d=\"M 0 0 V -31.5828 H 15.08\" /><circle class=\"sym\" cx=\"0\" cy=\"0\" r=\"3\" /><text class=\"lab lft\" transform=\"translate(-3 -7.0)\">17</text></g><path class=\"edge\" d=\"M 0 0 V -1.69735 H 30.16\" /><circle class=\"sym\" cx=\"0\" cy=\"0\" r=\"3\" /><text class=\"lab lft\" transform=\"translate(-3 -7.0)\">18</text></g><path class=\"edge\" d=\"M 0 0 V -150.797 H 55.2933\" /><circle class=\"sym\" cx=\"0\" cy=\"0\" r=\"3\" /><text class=\"lab lft\" transform=\"translate(-3 -7.0)\">19</text></g><circle class=\"sym\" cx=\"0\" cy=\"0\" r=\"3\" /><text class=\"lab\" transform=\"translate(0 -11)\">21</text></g></g></g><g class=\"tree t2\" transform=\"translate(538.933 0)\"><g class=\"plotbox\"><g class=\"c2 node n20 p2 root\" transform=\"translate(140.64 164.086)\"><g class=\"a20 c1 node n16 p1\" transform=\"translate(55.2933 46.7912)\"><g class=\"a16 c2 node n13 p1\" transform=\"translate(0.0 36.8409)\"><g class=\"a13 i2 leaf node n5 p1 sample\" transform=\"translate(15.08 73.6818)\"><path class=\"edge\" d=\"M 0 0 V -73.6818 H -15.08\" /><rect class=\"sym\" height=\"6\" width=\"6\" x=\"-3\" y=\"-3\" /><text class=\"lab\" transform=\"translate(0 11)\">5</text></g><g class=\"a13 c2 node n10 p1\" transform=\"translate(-15.08 36.8409)\"><g class=\"a10 i2 leaf node n4 p1 sample\" transform=\"translate(-10.0533 36.8409)\"><path class=\"edge\" d=\"M 0 0 V -36.8409 H 10.0533\" /><rect class=\"sym\" height=\"6\" width=\"6\" x=\"-3\" y=\"-3\" /><text class=\"lab\" transform=\"translate(0 11)\">4</text></g><g class=\"a10 i4 leaf node n8 p1 sample\" transform=\"translate(10.0533 36.8409)\"><path class=\"edge\" d=\"M 0 0 V -36.8409 H -10.0533\" /><rect class=\"sym\" height=\"6\" width=\"6\" x=\"-3\" y=\"-3\" /><text class=\"lab\" transform=\"translate(0 11)\">8</text></g><path class=\"edge\" d=\"M 0 0 V -36.8409 H 15.08\" /><circle class=\"sym\" cx=\"0\" cy=\"0\" r=\"3\" /><text class=\"lab lft\" transform=\"translate(-3 -7.0)\">10</text></g><path class=\"edge\" d=\"M 0 0 V -36.8409 H 0.0\" /><circle class=\"sym\" cx=\"0\" cy=\"0\" r=\"3\" /><text class=\"lab lft\" transform=\"translate(-3 -7.0)\">13</text></g><path class=\"edge\" d=\"M 0 0 V -46.7912 H -55.2933\" /><circle class=\"sym\" cx=\"0\" cy=\"0\" r=\"3\" /><text class=\"lab rgt\" transform=\"translate(3 -7.0)\">16</text></g><g class=\"a20 c2 node n19 p2\" transform=\"translate(-55.2933 13.5111)\"><g class=\"a19 c3 node n14 p1\" transform=\"translate(30.16 33.2801)\"><g class=\"a14 i1 leaf node n2 p1 sample\" transform=\"translate(-25.1333 110.523)\"><path class=\"edge\" d=\"M 0 0 V -110.523 H 25.1333\" /><rect class=\"sym\" height=\"6\" width=\"6\" x=\"-3\" y=\"-3\" /><text class=\"lab\" transform=\"translate(0 11)\">2</text></g><g class=\"a14 i1 leaf node n3 p1 sample\" transform=\"translate(-5.02667 110.523)\"><path class=\"edge\" d=\"M 0 0 V -110.523 H 5.02667\" /><rect class=\"sym\" height=\"6\" width=\"6\" x=\"-3\" y=\"-3\" /><text class=\"lab\" transform=\"translate(0 11)\">3</text></g><g class=\"a14 c2 node n11 p1\" transform=\"translate(25.1333 73.6818)\"><g class=\"a11 i3 leaf node n7 p1 sample\" transform=\"translate(-10.0533 36.8409)\"><path class=\"edge\" d=\"M 0 0 V -36.8409 H 10.0533\" /><rect class=\"sym\" height=\"6\" width=\"6\" x=\"-3\" y=\"-3\" /><text class=\"lab\" transform=\"translate(0 11)\">7</text></g><g class=\"a11 i4 leaf node n9 p1 sample\" transform=\"translate(10.0533 36.8409)\"><path class=\"edge\" d=\"M 0 0 V -36.8409 H -10.0533\" /><rect class=\"sym\" height=\"6\" width=\"6\" x=\"-3\" y=\"-3\" /><text class=\"lab\" transform=\"translate(0 11)\">9</text></g><path class=\"edge\" d=\"M 0 0 V -73.6818 H -25.1333\" /><circle class=\"sym\" cx=\"0\" cy=\"0\" r=\"3\" /><text class=\"lab rgt\" transform=\"translate(3 -7.0)\">11</text></g><path class=\"edge\" d=\"M 0 0 V -33.2801 H -30.16\" /><circle class=\"sym\" cx=\"0\" cy=\"0\" r=\"3\" /><text class=\"lab rgt\" transform=\"translate(3 -7.0)\">14</text></g><g class=\"a19 c2 node n18 p2\" transform=\"translate(-30.16 1.69735)\"><g class=\"a18 c1 node n15 p1\" transform=\"translate(15.08 31.5828)\"><g class=\"a15 i3 leaf node n6 p1 sample\" transform=\"translate(0.0 110.523)\"><path class=\"edge\" d=\"M 0 0 V -110.523 H 0.0\" /><rect class=\"sym\" height=\"6\" width=\"6\" x=\"-3\" y=\"-3\" /><text class=\"lab\" transform=\"translate(0 11)\">6</text></g><path class=\"edge\" d=\"M 0 0 V -31.5828 H -15.08\" /><circle class=\"sym\" cx=\"0\" cy=\"0\" r=\"3\" /><text class=\"lab rgt\" transform=\"translate(3 -7.0)\">15</text></g><g class=\"a18 c1 node n17 p1\" transform=\"translate(-15.08 31.5828)\"><g class=\"a17 c2 node n12 p1\" transform=\"translate(0.0 73.6818)\"><g class=\"a12 i0 leaf node n0 p1 sample\" transform=\"translate(-10.0533 36.8409)\"><path class=\"edge\" d=\"M 0 0 V -36.8409 H 10.0533\" /><rect class=\"sym\" height=\"6\" width=\"6\" x=\"-3\" y=\"-3\" /><text class=\"lab\" transform=\"translate(0 11)\">0</text></g><g class=\"a12 i0 leaf node n1 p1 sample\" transform=\"translate(10.0533 36.8409)\"><path class=\"edge\" d=\"M 0 0 V -36.8409 H -10.0533\" /><rect class=\"sym\" height=\"6\" width=\"6\" x=\"-3\" y=\"-3\" /><text class=\"lab\" transform=\"translate(0 11)\">1</text></g><path class=\"edge\" d=\"M 0 0 V -73.6818 H 0.0\" /><circle class=\"sym\" cx=\"0\" cy=\"0\" r=\"3\" /><text class=\"lab lft\" transform=\"translate(-3 -7.0)\">12</text></g><path class=\"edge\" d=\"M 0 0 V -31.5828 H 15.08\" /><circle class=\"sym\" cx=\"0\" cy=\"0\" r=\"3\" /><text class=\"lab lft\" transform=\"translate(-3 -7.0)\">17</text></g><path class=\"edge\" d=\"M 0 0 V -1.69735 H 30.16\" /><circle class=\"sym\" cx=\"0\" cy=\"0\" r=\"3\" /><text class=\"lab lft\" transform=\"translate(-3 -7.0)\">18</text></g><path class=\"edge\" d=\"M 0 0 V -13.5111 H 55.2933\" /><circle class=\"sym\" cx=\"0\" cy=\"0\" r=\"3\" /><text class=\"lab lft\" transform=\"translate(-3 -7.0)\">19</text></g><circle class=\"sym\" cx=\"0\" cy=\"0\" r=\"3\" /><text class=\"lab\" transform=\"translate(0 -11)\">20</text></g></g></g></g></g></svg>'"
      ]
     },
     "execution_count": 8,
     "metadata": {},
     "output_type": "execute_result"
    }
   ],
   "source": [
    "ts.draw_svg(size=(800,400), y_axis=True)"
   ]
  },
  {
   "cell_type": "markdown",
   "id": "d16b44d3-df33-4c8d-9d49-94a6cab48ed3",
   "metadata": {},
   "source": [
    "# Mutations"
   ]
  },
  {
   "cell_type": "markdown",
   "id": "d8d3999f-2bc8-4a81-a78c-eaf2ce3ad1a0",
   "metadata": {},
   "source": [
    "We simulated in SLiM with *zero* mutations;\n",
    "this makes sense because if all mutations are neutral,\n",
    "we might as well just put them down on the tree sequence afterwards.\n",
    "Here's how to do that with `msprime`;\n",
    "we could choose any number of mutation models,\n",
    "but I'm doing the \"SLiM mutation model\"\n",
    "because that's what we'd need to use if we wanted to load the simulation back into SLiM later."
   ]
  },
  {
   "cell_type": "code",
   "execution_count": 9,
   "id": "50218e76-05d1-431f-9f7f-172a71aa3d37",
   "metadata": {
    "tags": []
   },
   "outputs": [],
   "source": [
    "ts = msprime.sim_mutations(\n",
    "    ts,\n",
    "    model=msprime.SLiMMutationModel(type=0, next_id=pyslim.next_slim_mutation_id(ts)),\n",
    "    rate=1e-8,\n",
    "    random_seed=12345,\n",
    ")"
   ]
  },
  {
   "cell_type": "markdown",
   "id": "b3fed087-9435-481e-a849-7bb00e52de7d",
   "metadata": {},
   "source": [
    "Now, the tree sequence has 10 mutations."
   ]
  },
  {
   "cell_type": "code",
   "execution_count": 10,
   "id": "01d3cfc6-7ce6-447e-9fac-349089427bc7",
   "metadata": {
    "tags": []
   },
   "outputs": [
    {
     "data": {
      "text/html": [
       "\n",
       "            <div>\n",
       "              <style>\n",
       "                .tskit-table thead tr th {text-align: left;padding: 0.5em 0.5em;}\n",
       "                .tskit-table tbody tr td {padding: 0.5em 0.5em;}\n",
       "                .tskit-table tbody tr td:first-of-type {text-align: left;}\n",
       "                .tskit-details-label {vertical-align: top; padding-right:5px;}\n",
       "                .tskit-table-set {display: inline-flex;flex-wrap: wrap;margin: -12px 0 0 -12px;width: calc(100% + 12px);}\n",
       "                .tskit-table-set-table {margin: 12px 0 0 12px;}\n",
       "                details {display: inline-block;}\n",
       "                summary {cursor: pointer; outline: 0; display: list-item;}\n",
       "              </style>\n",
       "              <div class=\"tskit-table-set\">\n",
       "                <div class=\"tskit-table-set-table\">\n",
       "                  <table class=\"tskit-table\">\n",
       "                    <thead>\n",
       "                      <tr>\n",
       "                        <th style=\"padding:0;line-height:21px;\">\n",
       "                          <img style=\"height: 32px;display: inline-block;padding: 3px 5px 3px 0;\" src=\"https://raw.githubusercontent.com/tskit-dev/administrative/main/tskit_logo.svg\"/>\n",
       "                          <a target=\"_blank\" href=\"https://tskit.dev/tskit/docs/latest/python-api.html#the-treesequence-class\"> Tree Sequence </a>\n",
       "                        </th>\n",
       "                      </tr>\n",
       "                    </thead>\n",
       "                    <tbody>\n",
       "                      <tr><td>Trees</td><td>3</td></tr>\n",
       "                      <tr><td>Sequence Length</td><td>10000000.0</td></tr>\n",
       "                      <tr><td>Time Units</td><td>ticks</td></tr>\n",
       "                      <tr><td>Sample Nodes</td><td>10</td></tr>\n",
       "                      <tr><td>Total Size</td><td>15.4 KiB</td></tr>\n",
       "                      <tr>\n",
       "                        <td>Metadata</td><td style=\"text-align: left;\">\n",
       "                <div>\n",
       "                  <span class=\"tskit-details-label\"></span>\n",
       "                  <details open>\n",
       "                    <summary>dict</summary>\n",
       "                    \n",
       "                <div>\n",
       "                  <span class=\"tskit-details-label\">SLiM:</span>\n",
       "                  <details >\n",
       "                    <summary>dict</summary>\n",
       "                    cycle: 3<br/>file_version: 0.8<br/>model_type: WF<br/>name: sim<br/>nucleotide_based: False<br/>separate_sexes: False<br/>spatial_dimensionality: <br/>spatial_periodicity: <br/>stage: late<br/>tick: 3<br/>\n",
       "                  </details>\n",
       "                </div>\n",
       "                <br/>\n",
       "                  </details>\n",
       "                </div>\n",
       "                </td></tr>\n",
       "                    </tbody>\n",
       "                  </table>\n",
       "                </div>\n",
       "                <div class=\"tskit-table-set-table\">\n",
       "                  <table class=\"tskit-table\">\n",
       "                    <thead>\n",
       "                      <tr>\n",
       "                        <th style=\"line-height:21px;\">Table</th>\n",
       "                        <th>Rows</th>\n",
       "                        <th>Size</th>\n",
       "                        <th>Has Metadata</th>\n",
       "                      </tr>\n",
       "                    </thead>\n",
       "                    <tbody>\n",
       "                    \n",
       "                  <tr>\n",
       "                    <td>Edges</td>\n",
       "                      <td>24</td>\n",
       "                      <td>776 Bytes</td>\n",
       "                      <td style=\"text-align: center;\">\n",
       "                        \n",
       "                      </td>\n",
       "                    </tr>\n",
       "                \n",
       "                  <tr>\n",
       "                    <td>Individuals</td>\n",
       "                      <td>5</td>\n",
       "                      <td>2.3 KiB</td>\n",
       "                      <td style=\"text-align: center;\">\n",
       "                        ✅\n",
       "                      </td>\n",
       "                    </tr>\n",
       "                \n",
       "                  <tr>\n",
       "                    <td>Migrations</td>\n",
       "                      <td>0</td>\n",
       "                      <td>8 Bytes</td>\n",
       "                      <td style=\"text-align: center;\">\n",
       "                        \n",
       "                      </td>\n",
       "                    </tr>\n",
       "                \n",
       "                  <tr>\n",
       "                    <td>Mutations</td>\n",
       "                      <td>7</td>\n",
       "                      <td>1.6 KiB</td>\n",
       "                      <td style=\"text-align: center;\">\n",
       "                        ✅\n",
       "                      </td>\n",
       "                    </tr>\n",
       "                \n",
       "                  <tr>\n",
       "                    <td>Nodes</td>\n",
       "                      <td>22</td>\n",
       "                      <td>1.5 KiB</td>\n",
       "                      <td style=\"text-align: center;\">\n",
       "                        ✅\n",
       "                      </td>\n",
       "                    </tr>\n",
       "                \n",
       "                  <tr>\n",
       "                    <td>Populations</td>\n",
       "                      <td>3</td>\n",
       "                      <td>2.4 KiB</td>\n",
       "                      <td style=\"text-align: center;\">\n",
       "                        ✅\n",
       "                      </td>\n",
       "                    </tr>\n",
       "                \n",
       "                  <tr>\n",
       "                    <td>Provenances</td>\n",
       "                      <td>3</td>\n",
       "                      <td>4.5 KiB</td>\n",
       "                      <td style=\"text-align: center;\">\n",
       "                        \n",
       "                      </td>\n",
       "                    </tr>\n",
       "                \n",
       "                  <tr>\n",
       "                    <td>Sites</td>\n",
       "                      <td>7</td>\n",
       "                      <td>184 Bytes</td>\n",
       "                      <td style=\"text-align: center;\">\n",
       "                        \n",
       "                      </td>\n",
       "                    </tr>\n",
       "                \n",
       "                    </tbody>\n",
       "                  </table>\n",
       "                </div>\n",
       "              </div>\n",
       "            </div>\n",
       "            "
      ],
      "text/plain": [
       "<tskit.trees.TreeSequence at 0x7f0be67e7670>"
      ]
     },
     "execution_count": 10,
     "metadata": {},
     "output_type": "execute_result"
    }
   ],
   "source": [
    "ts"
   ]
  },
  {
   "cell_type": "markdown",
   "id": "01b2a229-ef6e-47cf-82d2-2b6356cd6b6e",
   "metadata": {},
   "source": [
    "They are shown as red \"x\"s on the plot."
   ]
  },
  {
   "cell_type": "code",
   "execution_count": 11,
   "id": "82c13d3f-394f-4831-a228-2db16881576b",
   "metadata": {
    "tags": []
   },
   "outputs": [
    {
     "data": {
      "image/svg+xml": [
       "<svg baseProfile=\"full\" height=\"400\" version=\"1.1\" width=\"800\" xmlns=\"http://www.w3.org/2000/svg\" xmlns:ev=\"http://www.w3.org/2001/xml-events\" xmlns:xlink=\"http://www.w3.org/1999/xlink\"><defs><style type=\"text/css\"><![CDATA[.background path {fill: #808080; fill-opacity: 0}.background path:nth-child(odd) {fill-opacity: .1}.axes {font-size: 14px}.x-axis .tick .lab {font-weight: bold; dominant-baseline: hanging}.axes, .tree {font-size: 14px; text-anchor: middle}.axes line, .edge {stroke: black; fill: none}.axes .ax-skip {stroke-dasharray: 4}.y-axis .grid {stroke: #FAFAFA}.node > .sym {fill: black; stroke: none}.site > .sym {stroke: black}.mut text {fill: red; font-style: italic}.mut.extra text {fill: hotpink}.mut line {fill: none; stroke: none}.mut .sym {fill: none; stroke: red}.mut.extra .sym {stroke: hotpink}.node .mut .sym {stroke-width: 1.5px}.tree text, .tree-sequence text {dominant-baseline: central}.plotbox .lab.lft {text-anchor: end}.plotbox .lab.rgt {text-anchor: start}]]></style></defs><g class=\"tree-sequence\"><g class=\"background\"><path d=\"M20,0 l253.333,0 l0,338.2 l421.703,25 l0,5 l-675.036,0 l0,-5 l0,-25 l0,-338.2z\" /><path d=\"M273.333,0 l253.333,0 l0,338.2 l187.896,25 l0,5 l-19.5266,0 l0,-5 l-421.703,-25 l0,-338.2z\" /><path d=\"M526.667,0 l253.333,0 l0,338.2 l0,25 l0,5 l-65.4371,0 l0,-5 l-187.896,-25 l0,-338.2z\" /></g><g class=\"axes\"><g class=\"x-axis\"><g class=\"title\" transform=\"translate(400 400)\"><text class=\"lab\" text-anchor=\"middle\" transform=\"translate(0 -11)\">Genome position</text></g><line class=\"ax-line\" x1=\"20\" x2=\"780\" y1=\"363.2\" y2=\"363.2\" /><g class=\"ticks\"><g class=\"tick\" transform=\"translate(20 363.2)\"><line x1=\"0\" x2=\"0\" y1=\"0\" y2=\"5\" /><g transform=\"translate(0 6)\"><text class=\"lab\">0</text></g></g><g class=\"tick\" transform=\"translate(695.036 363.2)\"><line x1=\"0\" x2=\"0\" y1=\"0\" y2=\"5\" /><g transform=\"translate(0 6)\"><text class=\"lab\">8882057</text></g></g><g class=\"tick\" transform=\"translate(714.563 363.2)\"><line x1=\"0\" x2=\"0\" y1=\"0\" y2=\"5\" /><g transform=\"translate(0 6)\"><text class=\"lab\">9138986</text></g></g><g class=\"tick\" transform=\"translate(780 363.2)\"><line x1=\"0\" x2=\"0\" y1=\"0\" y2=\"5\" /><g transform=\"translate(0 6)\"><text class=\"lab\">10000000</text></g></g></g><g class=\"site s0\" transform=\"translate(26.375 363.2)\"><line class=\"sym\" x1=\"0\" x2=\"0\" y1=\"0\" y2=\"-10\" /><g class=\"mut m0\"><polyline class=\"sym\" points=\"2.5,-6.5 0,-1.5 -2.5,-6.5\" /></g></g><g class=\"site s1\" transform=\"translate(55.067 363.2)\"><line class=\"sym\" x1=\"0\" x2=\"0\" y1=\"0\" y2=\"-10\" /><g class=\"mut m1\"><polyline class=\"sym\" points=\"2.5,-6.5 0,-1.5 -2.5,-6.5\" /></g></g><g class=\"site s2\" transform=\"translate(100.898 363.2)\"><line class=\"sym\" x1=\"0\" x2=\"0\" y1=\"0\" y2=\"-10\" /><g class=\"mut m2\"><polyline class=\"sym\" points=\"2.5,-6.5 0,-1.5 -2.5,-6.5\" /></g></g><g class=\"site s3\" transform=\"translate(260.445 363.2)\"><line class=\"sym\" x1=\"0\" x2=\"0\" y1=\"0\" y2=\"-10\" /><g class=\"mut m3\"><polyline class=\"sym\" points=\"2.5,-6.5 0,-1.5 -2.5,-6.5\" /></g></g><g class=\"site s4\" transform=\"translate(460.918 363.2)\"><line class=\"sym\" x1=\"0\" x2=\"0\" y1=\"0\" y2=\"-10\" /><g class=\"mut m4\"><polyline class=\"sym\" points=\"2.5,-6.5 0,-1.5 -2.5,-6.5\" /></g></g><g class=\"site s5\" transform=\"translate(525.539 363.2)\"><line class=\"sym\" x1=\"0\" x2=\"0\" y1=\"0\" y2=\"-10\" /><g class=\"mut m5\"><polyline class=\"sym\" points=\"2.5,-6.5 0,-1.5 -2.5,-6.5\" /></g></g><g class=\"site s6\" transform=\"translate(666.51 363.2)\"><line class=\"sym\" x1=\"0\" x2=\"0\" y1=\"0\" y2=\"-10\" /><g class=\"mut m6\"><polyline class=\"sym\" points=\"2.5,-6.5 0,-1.5 -2.5,-6.5\" /></g></g></g></g><g class=\"plotbox trees\"><g class=\"tree t0\" transform=\"translate(20 0)\"><g class=\"plotbox\"><g class=\"c2 node n21 p2 root\" transform=\"translate(136 26.8)\"><g class=\"a21 c1 m1 node n16 p1 s1\" transform=\"translate(-57.3333 184.077)\"><g class=\"a16 c3 node n13 p1\" transform=\"translate(0.0 36.8409)\"><g class=\"a13 i2 leaf node n5 p1 sample\" transform=\"translate(37.3333 73.6818)\"><path class=\"edge\" d=\"M 0 0 V -73.6818 H -37.3333\" /><rect class=\"sym\" height=\"6\" width=\"6\" x=\"-3\" y=\"-3\" /><text class=\"lab\" transform=\"translate(0 11)\">5</text></g><g class=\"a13 c2 node n10 p1\" transform=\"translate(5.33333 36.8409)\"><g class=\"a10 i2 leaf m3 node n4 p1 s3 sample\" transform=\"translate(-10.6667 36.8409)\"><path class=\"edge\" d=\"M 0 0 V -36.8409 H 10.6667\" /><g class=\"mut m3 s3\" transform=\"translate(0 -4.81537)\"><line x1=\"0\" x2=\"0\" y1=\"0\" y2=\"4.81537\" /><path class=\"sym\" d=\"M -3,-3 l 6,6 M -3,3 l 6,-6\" /><text class=\"lab lft\" transform=\"translate(-5 0)\">3</text></g><rect class=\"sym\" height=\"6\" width=\"6\" x=\"-3\" y=\"-3\" /><text class=\"lab\" transform=\"translate(0 11)\">4</text></g><g class=\"a10 i4 leaf node n8 p1 sample\" transform=\"translate(10.6667 36.8409)\"><path class=\"edge\" d=\"M 0 0 V -36.8409 H -10.6667\" /><rect class=\"sym\" height=\"6\" width=\"6\" x=\"-3\" y=\"-3\" /><text class=\"lab\" transform=\"translate(0 11)\">8</text></g><path class=\"edge\" d=\"M 0 0 V -36.8409 H -5.33333\" /><circle class=\"sym\" cx=\"0\" cy=\"0\" r=\"3\" /><text class=\"lab rgt\" transform=\"translate(3 -7.0)\">10</text></g><g class=\"a13 c2 m4 m5 node n12 p1 s4 s5\" transform=\"translate(-37.3333 36.8409)\"><g class=\"a12 i0 leaf node n0 p1 sample\" transform=\"translate(-10.6667 36.8409)\"><path class=\"edge\" d=\"M 0 0 V -36.8409 H 10.6667\" /><rect class=\"sym\" height=\"6\" width=\"6\" x=\"-3\" y=\"-3\" /><text class=\"lab\" transform=\"translate(0 11)\">0</text></g><g class=\"a12 i0 leaf node n1 p1 sample\" transform=\"translate(10.6667 36.8409)\"><path class=\"edge\" d=\"M 0 0 V -36.8409 H -10.6667\" /><rect class=\"sym\" height=\"6\" width=\"6\" x=\"-3\" y=\"-3\" /><text class=\"lab\" transform=\"translate(0 11)\">1</text></g><path class=\"edge\" d=\"M 0 0 V -36.8409 H 37.3333\" /><g class=\"mut m4 s4\" transform=\"translate(0 -34.0313)\"><line x1=\"0\" x2=\"0\" y1=\"0\" y2=\"34.0313\" /><path class=\"sym\" d=\"M -3,-3 l 6,6 M -3,3 l 6,-6\" /><text class=\"lab lft\" transform=\"translate(-5 0)\">4</text></g><g class=\"mut m5 s5\" transform=\"translate(0 -13.7756)\"><line x1=\"0\" x2=\"0\" y1=\"0\" y2=\"13.7756\" /><path class=\"sym\" d=\"M -3,-3 l 6,6 M -3,3 l 6,-6\" /><text class=\"lab lft\" transform=\"translate(-5 0)\">5</text></g><circle class=\"sym\" cx=\"0\" cy=\"0\" r=\"3\" /><text class=\"lab lft\" transform=\"translate(-3 -7.0)\">12</text></g><path class=\"edge\" d=\"M 0 0 V -36.8409 H 0.0\" /><circle class=\"sym\" cx=\"0\" cy=\"0\" r=\"3\" /><text class=\"lab lft\" transform=\"translate(-3 -7.0)\">13</text></g><path class=\"edge\" d=\"M 0 0 V -184.077 H 57.3333\" /><g class=\"mut m1 s1\" transform=\"translate(0 -118.265)\"><line x1=\"0\" x2=\"0\" y1=\"0\" y2=\"118.265\" /><path class=\"sym\" d=\"M -3,-3 l 6,6 M -3,3 l 6,-6\" /><text class=\"lab lft\" transform=\"translate(-5 0)\">1</text></g><circle class=\"sym\" cx=\"0\" cy=\"0\" r=\"3\" /><text class=\"lab lft\" transform=\"translate(-3 -7.0)\">16</text></g><g class=\"a21 c2 m6 node n19 p2 s6\" transform=\"translate(57.3333 150.797)\"><g class=\"a19 c3 node n14 p1\" transform=\"translate(-29.3333 33.2801)\"><g class=\"a14 i1 leaf node n2 p1 sample\" transform=\"translate(-26.6667 110.523)\"><path class=\"edge\" d=\"M 0 0 V -110.523 H 26.6667\" /><rect class=\"sym\" height=\"6\" width=\"6\" x=\"-3\" y=\"-3\" /><text class=\"lab\" transform=\"translate(0 11)\">2</text></g><g class=\"a14 i1 leaf node n3 p1 sample\" transform=\"translate(-5.33333 110.523)\"><path class=\"edge\" d=\"M 0 0 V -110.523 H 5.33333\" /><rect class=\"sym\" height=\"6\" width=\"6\" x=\"-3\" y=\"-3\" /><text class=\"lab\" transform=\"translate(0 11)\">3</text></g><g class=\"a14 c2 node n11 p1\" transform=\"translate(26.6667 73.6818)\"><g class=\"a11 i3 leaf node n7 p1 sample\" transform=\"translate(-10.6667 36.8409)\"><path class=\"edge\" d=\"M 0 0 V -36.8409 H 10.6667\" /><rect class=\"sym\" height=\"6\" width=\"6\" x=\"-3\" y=\"-3\" /><text class=\"lab\" transform=\"translate(0 11)\">7</text></g><g class=\"a11 i4 leaf node n9 p1 sample\" transform=\"translate(10.6667 36.8409)\"><path class=\"edge\" d=\"M 0 0 V -36.8409 H -10.6667\" /><rect class=\"sym\" height=\"6\" width=\"6\" x=\"-3\" y=\"-3\" /><text class=\"lab\" transform=\"translate(0 11)\">9</text></g><path class=\"edge\" d=\"M 0 0 V -73.6818 H -26.6667\" /><circle class=\"sym\" cx=\"0\" cy=\"0\" r=\"3\" /><text class=\"lab rgt\" transform=\"translate(3 -7.0)\">11</text></g><path class=\"edge\" d=\"M 0 0 V -33.2801 H 29.3333\" /><circle class=\"sym\" cx=\"0\" cy=\"0\" r=\"3\" /><text class=\"lab lft\" transform=\"translate(-3 -7.0)\">14</text></g><g class=\"a19 c1 node n15 p1\" transform=\"translate(29.3333 33.2801)\"><g class=\"a15 i3 leaf m0 m2 node n6 p1 s0 s2 sample\" transform=\"translate(0.0 110.523)\"><path class=\"edge\" d=\"M 0 0 V -110.523 H 0.0\" /><g class=\"mut m2 s2\" transform=\"translate(0 -44.0702)\"><line x1=\"0\" x2=\"0\" y1=\"0\" y2=\"44.0702\" /><path class=\"sym\" d=\"M -3,-3 l 6,6 M -3,3 l 6,-6\" /><text class=\"lab lft\" transform=\"translate(-5 0)\">2</text></g><g class=\"mut m0 s0\" transform=\"translate(0 -32.2176)\"><line x1=\"0\" x2=\"0\" y1=\"0\" y2=\"32.2176\" /><path class=\"sym\" d=\"M -3,-3 l 6,6 M -3,3 l 6,-6\" /><text class=\"lab lft\" transform=\"translate(-5 0)\">0</text></g><rect class=\"sym\" height=\"6\" width=\"6\" x=\"-3\" y=\"-3\" /><text class=\"lab\" transform=\"translate(0 11)\">6</text></g><path class=\"edge\" d=\"M 0 0 V -33.2801 H -29.3333\" /><circle class=\"sym\" cx=\"0\" cy=\"0\" r=\"3\" /><text class=\"lab rgt\" transform=\"translate(3 -7.0)\">15</text></g><path class=\"edge\" d=\"M 0 0 V -150.797 H -57.3333\" /><g class=\"mut m6 s6\" transform=\"translate(0 -70.5126)\"><line x1=\"0\" x2=\"0\" y1=\"0\" y2=\"70.5126\" /><path class=\"sym\" d=\"M -3,-3 l 6,6 M -3,3 l 6,-6\" /><text class=\"lab rgt\" transform=\"translate(5 0)\">6</text></g><circle class=\"sym\" cx=\"0\" cy=\"0\" r=\"3\" /><text class=\"lab rgt\" transform=\"translate(3 -7.0)\">19</text></g><circle class=\"sym\" cx=\"0\" cy=\"0\" r=\"3\" /><text class=\"lab\" transform=\"translate(0 -11)\">21</text></g></g></g><g class=\"tree t1\" transform=\"translate(273.333 0)\"><g class=\"plotbox\"><g class=\"c2 node n21 p2 root\" transform=\"translate(148 26.8)\"><g class=\"a21 c1 node n16 p1\" transform=\"translate(58.6667 184.077)\"><g class=\"a16 c2 node n13 p1\" transform=\"translate(0.0 36.8409)\"><g class=\"a13 i2 leaf node n5 p1 sample\" transform=\"translate(16 73.6818)\"><path class=\"edge\" d=\"M 0 0 V -73.6818 H -16\" /><rect class=\"sym\" height=\"6\" width=\"6\" x=\"-3\" y=\"-3\" /><text class=\"lab\" transform=\"translate(0 11)\">5</text></g><g class=\"a13 c2 node n10 p1\" transform=\"translate(-16 36.8409)\"><g class=\"a10 i2 leaf node n4 p1 sample\" transform=\"translate(-10.6667 36.8409)\"><path class=\"edge\" d=\"M 0 0 V -36.8409 H 10.6667\" /><rect class=\"sym\" height=\"6\" width=\"6\" x=\"-3\" y=\"-3\" /><text class=\"lab\" transform=\"translate(0 11)\">4</text></g><g class=\"a10 i4 leaf node n8 p1 sample\" transform=\"translate(10.6667 36.8409)\"><path class=\"edge\" d=\"M 0 0 V -36.8409 H -10.6667\" /><rect class=\"sym\" height=\"6\" width=\"6\" x=\"-3\" y=\"-3\" /><text class=\"lab\" transform=\"translate(0 11)\">8</text></g><path class=\"edge\" d=\"M 0 0 V -36.8409 H 16\" /><circle class=\"sym\" cx=\"0\" cy=\"0\" r=\"3\" /><text class=\"lab lft\" transform=\"translate(-3 -7.0)\">10</text></g><path class=\"edge\" d=\"M 0 0 V -36.8409 H 0.0\" /><circle class=\"sym\" cx=\"0\" cy=\"0\" r=\"3\" /><text class=\"lab lft\" transform=\"translate(-3 -7.0)\">13</text></g><path class=\"edge\" d=\"M 0 0 V -184.077 H -58.6667\" /><circle class=\"sym\" cx=\"0\" cy=\"0\" r=\"3\" /><text class=\"lab rgt\" transform=\"translate(3 -7.0)\">16</text></g><g class=\"a21 c2 node n19 p2\" transform=\"translate(-58.6667 150.797)\"><g class=\"a19 c3 node n14 p1\" transform=\"translate(32 33.2801)\"><g class=\"a14 i1 leaf node n2 p1 sample\" transform=\"translate(-26.6667 110.523)\"><path class=\"edge\" d=\"M 0 0 V -110.523 H 26.6667\" /><rect class=\"sym\" height=\"6\" width=\"6\" x=\"-3\" y=\"-3\" /><text class=\"lab\" transform=\"translate(0 11)\">2</text></g><g class=\"a14 i1 leaf node n3 p1 sample\" transform=\"translate(-5.33333 110.523)\"><path class=\"edge\" d=\"M 0 0 V -110.523 H 5.33333\" /><rect class=\"sym\" height=\"6\" width=\"6\" x=\"-3\" y=\"-3\" /><text class=\"lab\" transform=\"translate(0 11)\">3</text></g><g class=\"a14 c2 node n11 p1\" transform=\"translate(26.6667 73.6818)\"><g class=\"a11 i3 leaf node n7 p1 sample\" transform=\"translate(-10.6667 36.8409)\"><path class=\"edge\" d=\"M 0 0 V -36.8409 H 10.6667\" /><rect class=\"sym\" height=\"6\" width=\"6\" x=\"-3\" y=\"-3\" /><text class=\"lab\" transform=\"translate(0 11)\">7</text></g><g class=\"a11 i4 leaf node n9 p1 sample\" transform=\"translate(10.6667 36.8409)\"><path class=\"edge\" d=\"M 0 0 V -36.8409 H -10.6667\" /><rect class=\"sym\" height=\"6\" width=\"6\" x=\"-3\" y=\"-3\" /><text class=\"lab\" transform=\"translate(0 11)\">9</text></g><path class=\"edge\" d=\"M 0 0 V -73.6818 H -26.6667\" /><circle class=\"sym\" cx=\"0\" cy=\"0\" r=\"3\" /><text class=\"lab rgt\" transform=\"translate(3 -7.0)\">11</text></g><path class=\"edge\" d=\"M 0 0 V -33.2801 H -32\" /><circle class=\"sym\" cx=\"0\" cy=\"0\" r=\"3\" /><text class=\"lab rgt\" transform=\"translate(3 -7.0)\">14</text></g><g class=\"a19 c2 node n18 p2\" transform=\"translate(-32 1.69735)\"><g class=\"a18 c1 node n15 p1\" transform=\"translate(16 31.5828)\"><g class=\"a15 i3 leaf node n6 p1 sample\" transform=\"translate(0.0 110.523)\"><path class=\"edge\" d=\"M 0 0 V -110.523 H 0.0\" /><rect class=\"sym\" height=\"6\" width=\"6\" x=\"-3\" y=\"-3\" /><text class=\"lab\" transform=\"translate(0 11)\">6</text></g><path class=\"edge\" d=\"M 0 0 V -31.5828 H -16\" /><circle class=\"sym\" cx=\"0\" cy=\"0\" r=\"3\" /><text class=\"lab rgt\" transform=\"translate(3 -7.0)\">15</text></g><g class=\"a18 c1 node n17 p1\" transform=\"translate(-16 31.5828)\"><g class=\"a17 c2 node n12 p1\" transform=\"translate(0.0 73.6818)\"><g class=\"a12 i0 leaf node n0 p1 sample\" transform=\"translate(-10.6667 36.8409)\"><path class=\"edge\" d=\"M 0 0 V -36.8409 H 10.6667\" /><rect class=\"sym\" height=\"6\" width=\"6\" x=\"-3\" y=\"-3\" /><text class=\"lab\" transform=\"translate(0 11)\">0</text></g><g class=\"a12 i0 leaf node n1 p1 sample\" transform=\"translate(10.6667 36.8409)\"><path class=\"edge\" d=\"M 0 0 V -36.8409 H -10.6667\" /><rect class=\"sym\" height=\"6\" width=\"6\" x=\"-3\" y=\"-3\" /><text class=\"lab\" transform=\"translate(0 11)\">1</text></g><path class=\"edge\" d=\"M 0 0 V -73.6818 H 0.0\" /><circle class=\"sym\" cx=\"0\" cy=\"0\" r=\"3\" /><text class=\"lab lft\" transform=\"translate(-3 -7.0)\">12</text></g><path class=\"edge\" d=\"M 0 0 V -31.5828 H 16\" /><circle class=\"sym\" cx=\"0\" cy=\"0\" r=\"3\" /><text class=\"lab lft\" transform=\"translate(-3 -7.0)\">17</text></g><path class=\"edge\" d=\"M 0 0 V -1.69735 H 32\" /><circle class=\"sym\" cx=\"0\" cy=\"0\" r=\"3\" /><text class=\"lab lft\" transform=\"translate(-3 -7.0)\">18</text></g><path class=\"edge\" d=\"M 0 0 V -150.797 H 58.6667\" /><circle class=\"sym\" cx=\"0\" cy=\"0\" r=\"3\" /><text class=\"lab lft\" transform=\"translate(-3 -7.0)\">19</text></g><circle class=\"sym\" cx=\"0\" cy=\"0\" r=\"3\" /><text class=\"lab\" transform=\"translate(0 -11)\">21</text></g></g></g><g class=\"tree t2\" transform=\"translate(526.667 0)\"><g class=\"plotbox\"><g class=\"c2 node n20 p2 root\" transform=\"translate(148 164.086)\"><g class=\"a20 c1 node n16 p1\" transform=\"translate(58.6667 46.7912)\"><g class=\"a16 c2 node n13 p1\" transform=\"translate(0.0 36.8409)\"><g class=\"a13 i2 leaf node n5 p1 sample\" transform=\"translate(16 73.6818)\"><path class=\"edge\" d=\"M 0 0 V -73.6818 H -16\" /><rect class=\"sym\" height=\"6\" width=\"6\" x=\"-3\" y=\"-3\" /><text class=\"lab\" transform=\"translate(0 11)\">5</text></g><g class=\"a13 c2 node n10 p1\" transform=\"translate(-16 36.8409)\"><g class=\"a10 i2 leaf node n4 p1 sample\" transform=\"translate(-10.6667 36.8409)\"><path class=\"edge\" d=\"M 0 0 V -36.8409 H 10.6667\" /><rect class=\"sym\" height=\"6\" width=\"6\" x=\"-3\" y=\"-3\" /><text class=\"lab\" transform=\"translate(0 11)\">4</text></g><g class=\"a10 i4 leaf node n8 p1 sample\" transform=\"translate(10.6667 36.8409)\"><path class=\"edge\" d=\"M 0 0 V -36.8409 H -10.6667\" /><rect class=\"sym\" height=\"6\" width=\"6\" x=\"-3\" y=\"-3\" /><text class=\"lab\" transform=\"translate(0 11)\">8</text></g><path class=\"edge\" d=\"M 0 0 V -36.8409 H 16\" /><circle class=\"sym\" cx=\"0\" cy=\"0\" r=\"3\" /><text class=\"lab lft\" transform=\"translate(-3 -7.0)\">10</text></g><path class=\"edge\" d=\"M 0 0 V -36.8409 H 0.0\" /><circle class=\"sym\" cx=\"0\" cy=\"0\" r=\"3\" /><text class=\"lab lft\" transform=\"translate(-3 -7.0)\">13</text></g><path class=\"edge\" d=\"M 0 0 V -46.7912 H -58.6667\" /><circle class=\"sym\" cx=\"0\" cy=\"0\" r=\"3\" /><text class=\"lab rgt\" transform=\"translate(3 -7.0)\">16</text></g><g class=\"a20 c2 node n19 p2\" transform=\"translate(-58.6667 13.5111)\"><g class=\"a19 c3 node n14 p1\" transform=\"translate(32 33.2801)\"><g class=\"a14 i1 leaf node n2 p1 sample\" transform=\"translate(-26.6667 110.523)\"><path class=\"edge\" d=\"M 0 0 V -110.523 H 26.6667\" /><rect class=\"sym\" height=\"6\" width=\"6\" x=\"-3\" y=\"-3\" /><text class=\"lab\" transform=\"translate(0 11)\">2</text></g><g class=\"a14 i1 leaf node n3 p1 sample\" transform=\"translate(-5.33333 110.523)\"><path class=\"edge\" d=\"M 0 0 V -110.523 H 5.33333\" /><rect class=\"sym\" height=\"6\" width=\"6\" x=\"-3\" y=\"-3\" /><text class=\"lab\" transform=\"translate(0 11)\">3</text></g><g class=\"a14 c2 node n11 p1\" transform=\"translate(26.6667 73.6818)\"><g class=\"a11 i3 leaf node n7 p1 sample\" transform=\"translate(-10.6667 36.8409)\"><path class=\"edge\" d=\"M 0 0 V -36.8409 H 10.6667\" /><rect class=\"sym\" height=\"6\" width=\"6\" x=\"-3\" y=\"-3\" /><text class=\"lab\" transform=\"translate(0 11)\">7</text></g><g class=\"a11 i4 leaf node n9 p1 sample\" transform=\"translate(10.6667 36.8409)\"><path class=\"edge\" d=\"M 0 0 V -36.8409 H -10.6667\" /><rect class=\"sym\" height=\"6\" width=\"6\" x=\"-3\" y=\"-3\" /><text class=\"lab\" transform=\"translate(0 11)\">9</text></g><path class=\"edge\" d=\"M 0 0 V -73.6818 H -26.6667\" /><circle class=\"sym\" cx=\"0\" cy=\"0\" r=\"3\" /><text class=\"lab rgt\" transform=\"translate(3 -7.0)\">11</text></g><path class=\"edge\" d=\"M 0 0 V -33.2801 H -32\" /><circle class=\"sym\" cx=\"0\" cy=\"0\" r=\"3\" /><text class=\"lab rgt\" transform=\"translate(3 -7.0)\">14</text></g><g class=\"a19 c2 node n18 p2\" transform=\"translate(-32 1.69735)\"><g class=\"a18 c1 node n15 p1\" transform=\"translate(16 31.5828)\"><g class=\"a15 i3 leaf node n6 p1 sample\" transform=\"translate(0.0 110.523)\"><path class=\"edge\" d=\"M 0 0 V -110.523 H 0.0\" /><rect class=\"sym\" height=\"6\" width=\"6\" x=\"-3\" y=\"-3\" /><text class=\"lab\" transform=\"translate(0 11)\">6</text></g><path class=\"edge\" d=\"M 0 0 V -31.5828 H -16\" /><circle class=\"sym\" cx=\"0\" cy=\"0\" r=\"3\" /><text class=\"lab rgt\" transform=\"translate(3 -7.0)\">15</text></g><g class=\"a18 c1 node n17 p1\" transform=\"translate(-16 31.5828)\"><g class=\"a17 c2 node n12 p1\" transform=\"translate(0.0 73.6818)\"><g class=\"a12 i0 leaf node n0 p1 sample\" transform=\"translate(-10.6667 36.8409)\"><path class=\"edge\" d=\"M 0 0 V -36.8409 H 10.6667\" /><rect class=\"sym\" height=\"6\" width=\"6\" x=\"-3\" y=\"-3\" /><text class=\"lab\" transform=\"translate(0 11)\">0</text></g><g class=\"a12 i0 leaf node n1 p1 sample\" transform=\"translate(10.6667 36.8409)\"><path class=\"edge\" d=\"M 0 0 V -36.8409 H -10.6667\" /><rect class=\"sym\" height=\"6\" width=\"6\" x=\"-3\" y=\"-3\" /><text class=\"lab\" transform=\"translate(0 11)\">1</text></g><path class=\"edge\" d=\"M 0 0 V -73.6818 H 0.0\" /><circle class=\"sym\" cx=\"0\" cy=\"0\" r=\"3\" /><text class=\"lab lft\" transform=\"translate(-3 -7.0)\">12</text></g><path class=\"edge\" d=\"M 0 0 V -31.5828 H 16\" /><circle class=\"sym\" cx=\"0\" cy=\"0\" r=\"3\" /><text class=\"lab lft\" transform=\"translate(-3 -7.0)\">17</text></g><path class=\"edge\" d=\"M 0 0 V -1.69735 H 32\" /><circle class=\"sym\" cx=\"0\" cy=\"0\" r=\"3\" /><text class=\"lab lft\" transform=\"translate(-3 -7.0)\">18</text></g><path class=\"edge\" d=\"M 0 0 V -13.5111 H 58.6667\" /><circle class=\"sym\" cx=\"0\" cy=\"0\" r=\"3\" /><text class=\"lab lft\" transform=\"translate(-3 -7.0)\">19</text></g><circle class=\"sym\" cx=\"0\" cy=\"0\" r=\"3\" /><text class=\"lab\" transform=\"translate(0 -11)\">20</text></g></g></g></g></g></svg>"
      ],
      "text/plain": [
       "'<svg baseProfile=\"full\" height=\"400\" version=\"1.1\" width=\"800\" xmlns=\"http://www.w3.org/2000/svg\" xmlns:ev=\"http://www.w3.org/2001/xml-events\" xmlns:xlink=\"http://www.w3.org/1999/xlink\"><defs><style type=\"text/css\"><![CDATA[.background path {fill: #808080; fill-opacity: 0}.background path:nth-child(odd) {fill-opacity: .1}.axes {font-size: 14px}.x-axis .tick .lab {font-weight: bold; dominant-baseline: hanging}.axes, .tree {font-size: 14px; text-anchor: middle}.axes line, .edge {stroke: black; fill: none}.axes .ax-skip {stroke-dasharray: 4}.y-axis .grid {stroke: #FAFAFA}.node > .sym {fill: black; stroke: none}.site > .sym {stroke: black}.mut text {fill: red; font-style: italic}.mut.extra text {fill: hotpink}.mut line {fill: none; stroke: none}.mut .sym {fill: none; stroke: red}.mut.extra .sym {stroke: hotpink}.node .mut .sym {stroke-width: 1.5px}.tree text, .tree-sequence text {dominant-baseline: central}.plotbox .lab.lft {text-anchor: end}.plotbox .lab.rgt {text-anchor: start}]]></style></defs><g class=\"tree-sequence\"><g class=\"background\"><path d=\"M20,0 l253.333,0 l0,338.2 l421.703,25 l0,5 l-675.036,0 l0,-5 l0,-25 l0,-338.2z\" /><path d=\"M273.333,0 l253.333,0 l0,338.2 l187.896,25 l0,5 l-19.5266,0 l0,-5 l-421.703,-25 l0,-338.2z\" /><path d=\"M526.667,0 l253.333,0 l0,338.2 l0,25 l0,5 l-65.4371,0 l0,-5 l-187.896,-25 l0,-338.2z\" /></g><g class=\"axes\"><g class=\"x-axis\"><g class=\"title\" transform=\"translate(400 400)\"><text class=\"lab\" text-anchor=\"middle\" transform=\"translate(0 -11)\">Genome position</text></g><line class=\"ax-line\" x1=\"20\" x2=\"780\" y1=\"363.2\" y2=\"363.2\" /><g class=\"ticks\"><g class=\"tick\" transform=\"translate(20 363.2)\"><line x1=\"0\" x2=\"0\" y1=\"0\" y2=\"5\" /><g transform=\"translate(0 6)\"><text class=\"lab\">0</text></g></g><g class=\"tick\" transform=\"translate(695.036 363.2)\"><line x1=\"0\" x2=\"0\" y1=\"0\" y2=\"5\" /><g transform=\"translate(0 6)\"><text class=\"lab\">8882057</text></g></g><g class=\"tick\" transform=\"translate(714.563 363.2)\"><line x1=\"0\" x2=\"0\" y1=\"0\" y2=\"5\" /><g transform=\"translate(0 6)\"><text class=\"lab\">9138986</text></g></g><g class=\"tick\" transform=\"translate(780 363.2)\"><line x1=\"0\" x2=\"0\" y1=\"0\" y2=\"5\" /><g transform=\"translate(0 6)\"><text class=\"lab\">10000000</text></g></g></g><g class=\"site s0\" transform=\"translate(26.375 363.2)\"><line class=\"sym\" x1=\"0\" x2=\"0\" y1=\"0\" y2=\"-10\" /><g class=\"mut m0\"><polyline class=\"sym\" points=\"2.5,-6.5 0,-1.5 -2.5,-6.5\" /></g></g><g class=\"site s1\" transform=\"translate(55.067 363.2)\"><line class=\"sym\" x1=\"0\" x2=\"0\" y1=\"0\" y2=\"-10\" /><g class=\"mut m1\"><polyline class=\"sym\" points=\"2.5,-6.5 0,-1.5 -2.5,-6.5\" /></g></g><g class=\"site s2\" transform=\"translate(100.898 363.2)\"><line class=\"sym\" x1=\"0\" x2=\"0\" y1=\"0\" y2=\"-10\" /><g class=\"mut m2\"><polyline class=\"sym\" points=\"2.5,-6.5 0,-1.5 -2.5,-6.5\" /></g></g><g class=\"site s3\" transform=\"translate(260.445 363.2)\"><line class=\"sym\" x1=\"0\" x2=\"0\" y1=\"0\" y2=\"-10\" /><g class=\"mut m3\"><polyline class=\"sym\" points=\"2.5,-6.5 0,-1.5 -2.5,-6.5\" /></g></g><g class=\"site s4\" transform=\"translate(460.918 363.2)\"><line class=\"sym\" x1=\"0\" x2=\"0\" y1=\"0\" y2=\"-10\" /><g class=\"mut m4\"><polyline class=\"sym\" points=\"2.5,-6.5 0,-1.5 -2.5,-6.5\" /></g></g><g class=\"site s5\" transform=\"translate(525.539 363.2)\"><line class=\"sym\" x1=\"0\" x2=\"0\" y1=\"0\" y2=\"-10\" /><g class=\"mut m5\"><polyline class=\"sym\" points=\"2.5,-6.5 0,-1.5 -2.5,-6.5\" /></g></g><g class=\"site s6\" transform=\"translate(666.51 363.2)\"><line class=\"sym\" x1=\"0\" x2=\"0\" y1=\"0\" y2=\"-10\" /><g class=\"mut m6\"><polyline class=\"sym\" points=\"2.5,-6.5 0,-1.5 -2.5,-6.5\" /></g></g></g></g><g class=\"plotbox trees\"><g class=\"tree t0\" transform=\"translate(20 0)\"><g class=\"plotbox\"><g class=\"c2 node n21 p2 root\" transform=\"translate(136 26.8)\"><g class=\"a21 c1 m1 node n16 p1 s1\" transform=\"translate(-57.3333 184.077)\"><g class=\"a16 c3 node n13 p1\" transform=\"translate(0.0 36.8409)\"><g class=\"a13 i2 leaf node n5 p1 sample\" transform=\"translate(37.3333 73.6818)\"><path class=\"edge\" d=\"M 0 0 V -73.6818 H -37.3333\" /><rect class=\"sym\" height=\"6\" width=\"6\" x=\"-3\" y=\"-3\" /><text class=\"lab\" transform=\"translate(0 11)\">5</text></g><g class=\"a13 c2 node n10 p1\" transform=\"translate(5.33333 36.8409)\"><g class=\"a10 i2 leaf m3 node n4 p1 s3 sample\" transform=\"translate(-10.6667 36.8409)\"><path class=\"edge\" d=\"M 0 0 V -36.8409 H 10.6667\" /><g class=\"mut m3 s3\" transform=\"translate(0 -4.81537)\"><line x1=\"0\" x2=\"0\" y1=\"0\" y2=\"4.81537\" /><path class=\"sym\" d=\"M -3,-3 l 6,6 M -3,3 l 6,-6\" /><text class=\"lab lft\" transform=\"translate(-5 0)\">3</text></g><rect class=\"sym\" height=\"6\" width=\"6\" x=\"-3\" y=\"-3\" /><text class=\"lab\" transform=\"translate(0 11)\">4</text></g><g class=\"a10 i4 leaf node n8 p1 sample\" transform=\"translate(10.6667 36.8409)\"><path class=\"edge\" d=\"M 0 0 V -36.8409 H -10.6667\" /><rect class=\"sym\" height=\"6\" width=\"6\" x=\"-3\" y=\"-3\" /><text class=\"lab\" transform=\"translate(0 11)\">8</text></g><path class=\"edge\" d=\"M 0 0 V -36.8409 H -5.33333\" /><circle class=\"sym\" cx=\"0\" cy=\"0\" r=\"3\" /><text class=\"lab rgt\" transform=\"translate(3 -7.0)\">10</text></g><g class=\"a13 c2 m4 m5 node n12 p1 s4 s5\" transform=\"translate(-37.3333 36.8409)\"><g class=\"a12 i0 leaf node n0 p1 sample\" transform=\"translate(-10.6667 36.8409)\"><path class=\"edge\" d=\"M 0 0 V -36.8409 H 10.6667\" /><rect class=\"sym\" height=\"6\" width=\"6\" x=\"-3\" y=\"-3\" /><text class=\"lab\" transform=\"translate(0 11)\">0</text></g><g class=\"a12 i0 leaf node n1 p1 sample\" transform=\"translate(10.6667 36.8409)\"><path class=\"edge\" d=\"M 0 0 V -36.8409 H -10.6667\" /><rect class=\"sym\" height=\"6\" width=\"6\" x=\"-3\" y=\"-3\" /><text class=\"lab\" transform=\"translate(0 11)\">1</text></g><path class=\"edge\" d=\"M 0 0 V -36.8409 H 37.3333\" /><g class=\"mut m4 s4\" transform=\"translate(0 -34.0313)\"><line x1=\"0\" x2=\"0\" y1=\"0\" y2=\"34.0313\" /><path class=\"sym\" d=\"M -3,-3 l 6,6 M -3,3 l 6,-6\" /><text class=\"lab lft\" transform=\"translate(-5 0)\">4</text></g><g class=\"mut m5 s5\" transform=\"translate(0 -13.7756)\"><line x1=\"0\" x2=\"0\" y1=\"0\" y2=\"13.7756\" /><path class=\"sym\" d=\"M -3,-3 l 6,6 M -3,3 l 6,-6\" /><text class=\"lab lft\" transform=\"translate(-5 0)\">5</text></g><circle class=\"sym\" cx=\"0\" cy=\"0\" r=\"3\" /><text class=\"lab lft\" transform=\"translate(-3 -7.0)\">12</text></g><path class=\"edge\" d=\"M 0 0 V -36.8409 H 0.0\" /><circle class=\"sym\" cx=\"0\" cy=\"0\" r=\"3\" /><text class=\"lab lft\" transform=\"translate(-3 -7.0)\">13</text></g><path class=\"edge\" d=\"M 0 0 V -184.077 H 57.3333\" /><g class=\"mut m1 s1\" transform=\"translate(0 -118.265)\"><line x1=\"0\" x2=\"0\" y1=\"0\" y2=\"118.265\" /><path class=\"sym\" d=\"M -3,-3 l 6,6 M -3,3 l 6,-6\" /><text class=\"lab lft\" transform=\"translate(-5 0)\">1</text></g><circle class=\"sym\" cx=\"0\" cy=\"0\" r=\"3\" /><text class=\"lab lft\" transform=\"translate(-3 -7.0)\">16</text></g><g class=\"a21 c2 m6 node n19 p2 s6\" transform=\"translate(57.3333 150.797)\"><g class=\"a19 c3 node n14 p1\" transform=\"translate(-29.3333 33.2801)\"><g class=\"a14 i1 leaf node n2 p1 sample\" transform=\"translate(-26.6667 110.523)\"><path class=\"edge\" d=\"M 0 0 V -110.523 H 26.6667\" /><rect class=\"sym\" height=\"6\" width=\"6\" x=\"-3\" y=\"-3\" /><text class=\"lab\" transform=\"translate(0 11)\">2</text></g><g class=\"a14 i1 leaf node n3 p1 sample\" transform=\"translate(-5.33333 110.523)\"><path class=\"edge\" d=\"M 0 0 V -110.523 H 5.33333\" /><rect class=\"sym\" height=\"6\" width=\"6\" x=\"-3\" y=\"-3\" /><text class=\"lab\" transform=\"translate(0 11)\">3</text></g><g class=\"a14 c2 node n11 p1\" transform=\"translate(26.6667 73.6818)\"><g class=\"a11 i3 leaf node n7 p1 sample\" transform=\"translate(-10.6667 36.8409)\"><path class=\"edge\" d=\"M 0 0 V -36.8409 H 10.6667\" /><rect class=\"sym\" height=\"6\" width=\"6\" x=\"-3\" y=\"-3\" /><text class=\"lab\" transform=\"translate(0 11)\">7</text></g><g class=\"a11 i4 leaf node n9 p1 sample\" transform=\"translate(10.6667 36.8409)\"><path class=\"edge\" d=\"M 0 0 V -36.8409 H -10.6667\" /><rect class=\"sym\" height=\"6\" width=\"6\" x=\"-3\" y=\"-3\" /><text class=\"lab\" transform=\"translate(0 11)\">9</text></g><path class=\"edge\" d=\"M 0 0 V -73.6818 H -26.6667\" /><circle class=\"sym\" cx=\"0\" cy=\"0\" r=\"3\" /><text class=\"lab rgt\" transform=\"translate(3 -7.0)\">11</text></g><path class=\"edge\" d=\"M 0 0 V -33.2801 H 29.3333\" /><circle class=\"sym\" cx=\"0\" cy=\"0\" r=\"3\" /><text class=\"lab lft\" transform=\"translate(-3 -7.0)\">14</text></g><g class=\"a19 c1 node n15 p1\" transform=\"translate(29.3333 33.2801)\"><g class=\"a15 i3 leaf m0 m2 node n6 p1 s0 s2 sample\" transform=\"translate(0.0 110.523)\"><path class=\"edge\" d=\"M 0 0 V -110.523 H 0.0\" /><g class=\"mut m2 s2\" transform=\"translate(0 -44.0702)\"><line x1=\"0\" x2=\"0\" y1=\"0\" y2=\"44.0702\" /><path class=\"sym\" d=\"M -3,-3 l 6,6 M -3,3 l 6,-6\" /><text class=\"lab lft\" transform=\"translate(-5 0)\">2</text></g><g class=\"mut m0 s0\" transform=\"translate(0 -32.2176)\"><line x1=\"0\" x2=\"0\" y1=\"0\" y2=\"32.2176\" /><path class=\"sym\" d=\"M -3,-3 l 6,6 M -3,3 l 6,-6\" /><text class=\"lab lft\" transform=\"translate(-5 0)\">0</text></g><rect class=\"sym\" height=\"6\" width=\"6\" x=\"-3\" y=\"-3\" /><text class=\"lab\" transform=\"translate(0 11)\">6</text></g><path class=\"edge\" d=\"M 0 0 V -33.2801 H -29.3333\" /><circle class=\"sym\" cx=\"0\" cy=\"0\" r=\"3\" /><text class=\"lab rgt\" transform=\"translate(3 -7.0)\">15</text></g><path class=\"edge\" d=\"M 0 0 V -150.797 H -57.3333\" /><g class=\"mut m6 s6\" transform=\"translate(0 -70.5126)\"><line x1=\"0\" x2=\"0\" y1=\"0\" y2=\"70.5126\" /><path class=\"sym\" d=\"M -3,-3 l 6,6 M -3,3 l 6,-6\" /><text class=\"lab rgt\" transform=\"translate(5 0)\">6</text></g><circle class=\"sym\" cx=\"0\" cy=\"0\" r=\"3\" /><text class=\"lab rgt\" transform=\"translate(3 -7.0)\">19</text></g><circle class=\"sym\" cx=\"0\" cy=\"0\" r=\"3\" /><text class=\"lab\" transform=\"translate(0 -11)\">21</text></g></g></g><g class=\"tree t1\" transform=\"translate(273.333 0)\"><g class=\"plotbox\"><g class=\"c2 node n21 p2 root\" transform=\"translate(148 26.8)\"><g class=\"a21 c1 node n16 p1\" transform=\"translate(58.6667 184.077)\"><g class=\"a16 c2 node n13 p1\" transform=\"translate(0.0 36.8409)\"><g class=\"a13 i2 leaf node n5 p1 sample\" transform=\"translate(16 73.6818)\"><path class=\"edge\" d=\"M 0 0 V -73.6818 H -16\" /><rect class=\"sym\" height=\"6\" width=\"6\" x=\"-3\" y=\"-3\" /><text class=\"lab\" transform=\"translate(0 11)\">5</text></g><g class=\"a13 c2 node n10 p1\" transform=\"translate(-16 36.8409)\"><g class=\"a10 i2 leaf node n4 p1 sample\" transform=\"translate(-10.6667 36.8409)\"><path class=\"edge\" d=\"M 0 0 V -36.8409 H 10.6667\" /><rect class=\"sym\" height=\"6\" width=\"6\" x=\"-3\" y=\"-3\" /><text class=\"lab\" transform=\"translate(0 11)\">4</text></g><g class=\"a10 i4 leaf node n8 p1 sample\" transform=\"translate(10.6667 36.8409)\"><path class=\"edge\" d=\"M 0 0 V -36.8409 H -10.6667\" /><rect class=\"sym\" height=\"6\" width=\"6\" x=\"-3\" y=\"-3\" /><text class=\"lab\" transform=\"translate(0 11)\">8</text></g><path class=\"edge\" d=\"M 0 0 V -36.8409 H 16\" /><circle class=\"sym\" cx=\"0\" cy=\"0\" r=\"3\" /><text class=\"lab lft\" transform=\"translate(-3 -7.0)\">10</text></g><path class=\"edge\" d=\"M 0 0 V -36.8409 H 0.0\" /><circle class=\"sym\" cx=\"0\" cy=\"0\" r=\"3\" /><text class=\"lab lft\" transform=\"translate(-3 -7.0)\">13</text></g><path class=\"edge\" d=\"M 0 0 V -184.077 H -58.6667\" /><circle class=\"sym\" cx=\"0\" cy=\"0\" r=\"3\" /><text class=\"lab rgt\" transform=\"translate(3 -7.0)\">16</text></g><g class=\"a21 c2 node n19 p2\" transform=\"translate(-58.6667 150.797)\"><g class=\"a19 c3 node n14 p1\" transform=\"translate(32 33.2801)\"><g class=\"a14 i1 leaf node n2 p1 sample\" transform=\"translate(-26.6667 110.523)\"><path class=\"edge\" d=\"M 0 0 V -110.523 H 26.6667\" /><rect class=\"sym\" height=\"6\" width=\"6\" x=\"-3\" y=\"-3\" /><text class=\"lab\" transform=\"translate(0 11)\">2</text></g><g class=\"a14 i1 leaf node n3 p1 sample\" transform=\"translate(-5.33333 110.523)\"><path class=\"edge\" d=\"M 0 0 V -110.523 H 5.33333\" /><rect class=\"sym\" height=\"6\" width=\"6\" x=\"-3\" y=\"-3\" /><text class=\"lab\" transform=\"translate(0 11)\">3</text></g><g class=\"a14 c2 node n11 p1\" transform=\"translate(26.6667 73.6818)\"><g class=\"a11 i3 leaf node n7 p1 sample\" transform=\"translate(-10.6667 36.8409)\"><path class=\"edge\" d=\"M 0 0 V -36.8409 H 10.6667\" /><rect class=\"sym\" height=\"6\" width=\"6\" x=\"-3\" y=\"-3\" /><text class=\"lab\" transform=\"translate(0 11)\">7</text></g><g class=\"a11 i4 leaf node n9 p1 sample\" transform=\"translate(10.6667 36.8409)\"><path class=\"edge\" d=\"M 0 0 V -36.8409 H -10.6667\" /><rect class=\"sym\" height=\"6\" width=\"6\" x=\"-3\" y=\"-3\" /><text class=\"lab\" transform=\"translate(0 11)\">9</text></g><path class=\"edge\" d=\"M 0 0 V -73.6818 H -26.6667\" /><circle class=\"sym\" cx=\"0\" cy=\"0\" r=\"3\" /><text class=\"lab rgt\" transform=\"translate(3 -7.0)\">11</text></g><path class=\"edge\" d=\"M 0 0 V -33.2801 H -32\" /><circle class=\"sym\" cx=\"0\" cy=\"0\" r=\"3\" /><text class=\"lab rgt\" transform=\"translate(3 -7.0)\">14</text></g><g class=\"a19 c2 node n18 p2\" transform=\"translate(-32 1.69735)\"><g class=\"a18 c1 node n15 p1\" transform=\"translate(16 31.5828)\"><g class=\"a15 i3 leaf node n6 p1 sample\" transform=\"translate(0.0 110.523)\"><path class=\"edge\" d=\"M 0 0 V -110.523 H 0.0\" /><rect class=\"sym\" height=\"6\" width=\"6\" x=\"-3\" y=\"-3\" /><text class=\"lab\" transform=\"translate(0 11)\">6</text></g><path class=\"edge\" d=\"M 0 0 V -31.5828 H -16\" /><circle class=\"sym\" cx=\"0\" cy=\"0\" r=\"3\" /><text class=\"lab rgt\" transform=\"translate(3 -7.0)\">15</text></g><g class=\"a18 c1 node n17 p1\" transform=\"translate(-16 31.5828)\"><g class=\"a17 c2 node n12 p1\" transform=\"translate(0.0 73.6818)\"><g class=\"a12 i0 leaf node n0 p1 sample\" transform=\"translate(-10.6667 36.8409)\"><path class=\"edge\" d=\"M 0 0 V -36.8409 H 10.6667\" /><rect class=\"sym\" height=\"6\" width=\"6\" x=\"-3\" y=\"-3\" /><text class=\"lab\" transform=\"translate(0 11)\">0</text></g><g class=\"a12 i0 leaf node n1 p1 sample\" transform=\"translate(10.6667 36.8409)\"><path class=\"edge\" d=\"M 0 0 V -36.8409 H -10.6667\" /><rect class=\"sym\" height=\"6\" width=\"6\" x=\"-3\" y=\"-3\" /><text class=\"lab\" transform=\"translate(0 11)\">1</text></g><path class=\"edge\" d=\"M 0 0 V -73.6818 H 0.0\" /><circle class=\"sym\" cx=\"0\" cy=\"0\" r=\"3\" /><text class=\"lab lft\" transform=\"translate(-3 -7.0)\">12</text></g><path class=\"edge\" d=\"M 0 0 V -31.5828 H 16\" /><circle class=\"sym\" cx=\"0\" cy=\"0\" r=\"3\" /><text class=\"lab lft\" transform=\"translate(-3 -7.0)\">17</text></g><path class=\"edge\" d=\"M 0 0 V -1.69735 H 32\" /><circle class=\"sym\" cx=\"0\" cy=\"0\" r=\"3\" /><text class=\"lab lft\" transform=\"translate(-3 -7.0)\">18</text></g><path class=\"edge\" d=\"M 0 0 V -150.797 H 58.6667\" /><circle class=\"sym\" cx=\"0\" cy=\"0\" r=\"3\" /><text class=\"lab lft\" transform=\"translate(-3 -7.0)\">19</text></g><circle class=\"sym\" cx=\"0\" cy=\"0\" r=\"3\" /><text class=\"lab\" transform=\"translate(0 -11)\">21</text></g></g></g><g class=\"tree t2\" transform=\"translate(526.667 0)\"><g class=\"plotbox\"><g class=\"c2 node n20 p2 root\" transform=\"translate(148 164.086)\"><g class=\"a20 c1 node n16 p1\" transform=\"translate(58.6667 46.7912)\"><g class=\"a16 c2 node n13 p1\" transform=\"translate(0.0 36.8409)\"><g class=\"a13 i2 leaf node n5 p1 sample\" transform=\"translate(16 73.6818)\"><path class=\"edge\" d=\"M 0 0 V -73.6818 H -16\" /><rect class=\"sym\" height=\"6\" width=\"6\" x=\"-3\" y=\"-3\" /><text class=\"lab\" transform=\"translate(0 11)\">5</text></g><g class=\"a13 c2 node n10 p1\" transform=\"translate(-16 36.8409)\"><g class=\"a10 i2 leaf node n4 p1 sample\" transform=\"translate(-10.6667 36.8409)\"><path class=\"edge\" d=\"M 0 0 V -36.8409 H 10.6667\" /><rect class=\"sym\" height=\"6\" width=\"6\" x=\"-3\" y=\"-3\" /><text class=\"lab\" transform=\"translate(0 11)\">4</text></g><g class=\"a10 i4 leaf node n8 p1 sample\" transform=\"translate(10.6667 36.8409)\"><path class=\"edge\" d=\"M 0 0 V -36.8409 H -10.6667\" /><rect class=\"sym\" height=\"6\" width=\"6\" x=\"-3\" y=\"-3\" /><text class=\"lab\" transform=\"translate(0 11)\">8</text></g><path class=\"edge\" d=\"M 0 0 V -36.8409 H 16\" /><circle class=\"sym\" cx=\"0\" cy=\"0\" r=\"3\" /><text class=\"lab lft\" transform=\"translate(-3 -7.0)\">10</text></g><path class=\"edge\" d=\"M 0 0 V -36.8409 H 0.0\" /><circle class=\"sym\" cx=\"0\" cy=\"0\" r=\"3\" /><text class=\"lab lft\" transform=\"translate(-3 -7.0)\">13</text></g><path class=\"edge\" d=\"M 0 0 V -46.7912 H -58.6667\" /><circle class=\"sym\" cx=\"0\" cy=\"0\" r=\"3\" /><text class=\"lab rgt\" transform=\"translate(3 -7.0)\">16</text></g><g class=\"a20 c2 node n19 p2\" transform=\"translate(-58.6667 13.5111)\"><g class=\"a19 c3 node n14 p1\" transform=\"translate(32 33.2801)\"><g class=\"a14 i1 leaf node n2 p1 sample\" transform=\"translate(-26.6667 110.523)\"><path class=\"edge\" d=\"M 0 0 V -110.523 H 26.6667\" /><rect class=\"sym\" height=\"6\" width=\"6\" x=\"-3\" y=\"-3\" /><text class=\"lab\" transform=\"translate(0 11)\">2</text></g><g class=\"a14 i1 leaf node n3 p1 sample\" transform=\"translate(-5.33333 110.523)\"><path class=\"edge\" d=\"M 0 0 V -110.523 H 5.33333\" /><rect class=\"sym\" height=\"6\" width=\"6\" x=\"-3\" y=\"-3\" /><text class=\"lab\" transform=\"translate(0 11)\">3</text></g><g class=\"a14 c2 node n11 p1\" transform=\"translate(26.6667 73.6818)\"><g class=\"a11 i3 leaf node n7 p1 sample\" transform=\"translate(-10.6667 36.8409)\"><path class=\"edge\" d=\"M 0 0 V -36.8409 H 10.6667\" /><rect class=\"sym\" height=\"6\" width=\"6\" x=\"-3\" y=\"-3\" /><text class=\"lab\" transform=\"translate(0 11)\">7</text></g><g class=\"a11 i4 leaf node n9 p1 sample\" transform=\"translate(10.6667 36.8409)\"><path class=\"edge\" d=\"M 0 0 V -36.8409 H -10.6667\" /><rect class=\"sym\" height=\"6\" width=\"6\" x=\"-3\" y=\"-3\" /><text class=\"lab\" transform=\"translate(0 11)\">9</text></g><path class=\"edge\" d=\"M 0 0 V -73.6818 H -26.6667\" /><circle class=\"sym\" cx=\"0\" cy=\"0\" r=\"3\" /><text class=\"lab rgt\" transform=\"translate(3 -7.0)\">11</text></g><path class=\"edge\" d=\"M 0 0 V -33.2801 H -32\" /><circle class=\"sym\" cx=\"0\" cy=\"0\" r=\"3\" /><text class=\"lab rgt\" transform=\"translate(3 -7.0)\">14</text></g><g class=\"a19 c2 node n18 p2\" transform=\"translate(-32 1.69735)\"><g class=\"a18 c1 node n15 p1\" transform=\"translate(16 31.5828)\"><g class=\"a15 i3 leaf node n6 p1 sample\" transform=\"translate(0.0 110.523)\"><path class=\"edge\" d=\"M 0 0 V -110.523 H 0.0\" /><rect class=\"sym\" height=\"6\" width=\"6\" x=\"-3\" y=\"-3\" /><text class=\"lab\" transform=\"translate(0 11)\">6</text></g><path class=\"edge\" d=\"M 0 0 V -31.5828 H -16\" /><circle class=\"sym\" cx=\"0\" cy=\"0\" r=\"3\" /><text class=\"lab rgt\" transform=\"translate(3 -7.0)\">15</text></g><g class=\"a18 c1 node n17 p1\" transform=\"translate(-16 31.5828)\"><g class=\"a17 c2 node n12 p1\" transform=\"translate(0.0 73.6818)\"><g class=\"a12 i0 leaf node n0 p1 sample\" transform=\"translate(-10.6667 36.8409)\"><path class=\"edge\" d=\"M 0 0 V -36.8409 H 10.6667\" /><rect class=\"sym\" height=\"6\" width=\"6\" x=\"-3\" y=\"-3\" /><text class=\"lab\" transform=\"translate(0 11)\">0</text></g><g class=\"a12 i0 leaf node n1 p1 sample\" transform=\"translate(10.6667 36.8409)\"><path class=\"edge\" d=\"M 0 0 V -36.8409 H -10.6667\" /><rect class=\"sym\" height=\"6\" width=\"6\" x=\"-3\" y=\"-3\" /><text class=\"lab\" transform=\"translate(0 11)\">1</text></g><path class=\"edge\" d=\"M 0 0 V -73.6818 H 0.0\" /><circle class=\"sym\" cx=\"0\" cy=\"0\" r=\"3\" /><text class=\"lab lft\" transform=\"translate(-3 -7.0)\">12</text></g><path class=\"edge\" d=\"M 0 0 V -31.5828 H 16\" /><circle class=\"sym\" cx=\"0\" cy=\"0\" r=\"3\" /><text class=\"lab lft\" transform=\"translate(-3 -7.0)\">17</text></g><path class=\"edge\" d=\"M 0 0 V -1.69735 H 32\" /><circle class=\"sym\" cx=\"0\" cy=\"0\" r=\"3\" /><text class=\"lab lft\" transform=\"translate(-3 -7.0)\">18</text></g><path class=\"edge\" d=\"M 0 0 V -13.5111 H 58.6667\" /><circle class=\"sym\" cx=\"0\" cy=\"0\" r=\"3\" /><text class=\"lab lft\" transform=\"translate(-3 -7.0)\">19</text></g><circle class=\"sym\" cx=\"0\" cy=\"0\" r=\"3\" /><text class=\"lab\" transform=\"translate(0 -11)\">20</text></g></g></g></g></g></svg>'"
      ]
     },
     "execution_count": 11,
     "metadata": {},
     "output_type": "execute_result"
    }
   ],
   "source": [
    "ts.draw_svg(size=(800,400))"
   ]
  },
  {
   "cell_type": "markdown",
   "id": "c616aecb-e388-4887-b014-15e974b0cac2",
   "metadata": {},
   "source": [
    "Here are the genotypes, coded as `0`=ancestral and `1`=derived;\n",
    "there are no sites with more than mutation (but there could be!)."
   ]
  },
  {
   "cell_type": "code",
   "execution_count": 12,
   "id": "24aef5d8-fb1a-451e-b355-d0e031d7216d",
   "metadata": {
    "tags": []
   },
   "outputs": [
    {
     "data": {
      "text/plain": [
       "array([[0, 0, 0, 0, 0, 0, 1, 0, 0, 0],\n",
       "       [1, 1, 0, 0, 1, 1, 0, 0, 1, 0],\n",
       "       [0, 0, 0, 0, 0, 0, 1, 0, 0, 0],\n",
       "       [0, 0, 0, 0, 1, 0, 0, 0, 0, 0],\n",
       "       [1, 1, 0, 0, 0, 0, 0, 0, 0, 0],\n",
       "       [1, 1, 0, 0, 0, 0, 0, 0, 0, 0],\n",
       "       [0, 0, 1, 1, 0, 0, 1, 1, 0, 1]], dtype=int32)"
      ]
     },
     "execution_count": 12,
     "metadata": {},
     "output_type": "execute_result"
    }
   ],
   "source": [
    "ts.genotype_matrix()"
   ]
  },
  {
   "cell_type": "markdown",
   "id": "76b5c8a4-3cde-4a6e-bfbe-b89b63e00dfb",
   "metadata": {},
   "source": [
    "However, writing out to VCF has some... weird REF and ALT columns."
   ]
  },
  {
   "cell_type": "code",
   "execution_count": 13,
   "id": "cffebb51-7320-44fc-944b-d224f19d24f7",
   "metadata": {
    "tags": []
   },
   "outputs": [],
   "source": [
    "with open(\"temp.vcf\", \"w\") as f:\n",
    "    ts.write_vcf(f)"
   ]
  },
  {
   "cell_type": "code",
   "execution_count": 14,
   "id": "2a95c167-466b-450a-b67d-6ad4b7098e88",
   "metadata": {
    "tags": []
   },
   "outputs": [
    {
     "name": "stdout",
     "output_type": "stream",
     "text": [
      "##fileformat=VCFv4.2\n",
      "##source=tskit 0.5.4\n",
      "##FILTER=<ID=PASS,Description=\"All filters passed\">\n",
      "##contig=<ID=1,length=10000000>\n",
      "##FORMAT=<ID=GT,Number=1,Type=String,Description=\"Genotype\">\n",
      "#CHROM\tPOS\tID\tREF\tALT\tQUAL\tFILTER\tINFO\tFORMAT\ttsk_0\ttsk_1\ttsk_2\ttsk_3\ttsk_4\n",
      "1\t83882\t0\t\t1\t.\tPASS\t.\tGT\t0|0\t0|0\t0|0\t1|0\t0|0\n",
      "1\t461408\t1\t\t2\t.\tPASS\t.\tGT\t1|1\t0|0\t1|1\t0|0\t1|0\n",
      "1\t1064443\t2\t\t3\t.\tPASS\t.\tGT\t0|0\t0|0\t0|0\t1|0\t0|0\n",
      "1\t3163755\t3\t\t4\t.\tPASS\t.\tGT\t0|0\t0|0\t1|0\t0|0\t0|0\n",
      "1\t5801556\t4\t\t5\t.\tPASS\t.\tGT\t1|1\t0|0\t0|0\t0|0\t0|0\n",
      "1\t6651831\t5\t\t6\t.\tPASS\t.\tGT\t1|1\t0|0\t0|0\t0|0\t0|0\n",
      "1\t8506711\t6\t\t7\t.\tPASS\t.\tGT\t0|0\t1|1\t0|0\t1|1\t0|1\n"
     ]
    }
   ],
   "source": [
    "%%bash\n",
    "cat temp.vcf"
   ]
  },
  {
   "cell_type": "markdown",
   "id": "289ee390-d9a4-47f8-a062-e443229f5521",
   "metadata": {},
   "source": [
    "That's because of some techinical details about the underlying mutation model in SLiM.\n",
    "To get a VCF with actual nucleotides in REF and ALT,\n",
    "you can use pyslim to randomly generate some."
   ]
  },
  {
   "cell_type": "code",
   "execution_count": 15,
   "id": "e10dbfb1-ef98-4430-a8c4-a4c06deb2a0e",
   "metadata": {
    "tags": []
   },
   "outputs": [],
   "source": [
    "nts = pyslim.convert_alleles(pyslim.generate_nucleotides(ts))"
   ]
  },
  {
   "cell_type": "markdown",
   "id": "5c39c888-37f5-4ceb-8cdc-d6b86cab6d41",
   "metadata": {},
   "source": [
    "Now, mutations have nucleotides as `derived_state`\n",
    "(plus, check out all the other information there!):"
   ]
  },
  {
   "cell_type": "code",
   "execution_count": 16,
   "id": "4a353d57-d7b0-4755-808b-5a4680b0c4b9",
   "metadata": {
    "tags": []
   },
   "outputs": [
    {
     "data": {
      "text/plain": [
       "Mutation(id=0, site=0, node=6, derived_state='G', parent=-1, metadata={'mutation_list': [{'mutation_type': 0, 'selection_coeff': 0.0, 'subpopulation': -1, 'slim_time': 1, 'nucleotide': 2}]}, time=0.874507165979594, edge=12)"
      ]
     },
     "execution_count": 16,
     "metadata": {},
     "output_type": "execute_result"
    }
   ],
   "source": [
    "nts.mutation(0)"
   ]
  },
  {
   "cell_type": "markdown",
   "id": "3b3564e6-890d-4215-9bc9-9efcbd78f9e1",
   "metadata": {},
   "source": [
    "Here's the 10 haplotypes (*note! don't use this code for bigger tree sequences!*):"
   ]
  },
  {
   "cell_type": "code",
   "execution_count": 17,
   "id": "ea0bda0f-3a4d-4216-9a26-9b5855053dd8",
   "metadata": {},
   "outputs": [
    {
     "data": {
      "text/plain": [
       "['TAATCCT',\n",
       " 'TAATCCT',\n",
       " 'TTATTTG',\n",
       " 'TTATTTG',\n",
       " 'TAAGTTT',\n",
       " 'TAATTTT',\n",
       " 'GTGTTTG',\n",
       " 'TTATTTG',\n",
       " 'TAATTTT',\n",
       " 'TTATTTG']"
      ]
     },
     "execution_count": 17,
     "metadata": {},
     "output_type": "execute_result"
    }
   ],
   "source": [
    "list(nts.haplotypes())  # DO NOT DO THIS FOR BIGGER TREE SEQUENCES"
   ]
  },
  {
   "cell_type": "code",
   "execution_count": 18,
   "id": "b06a2acf-7c36-45f2-a00f-6e62f880aceb",
   "metadata": {
    "tags": []
   },
   "outputs": [],
   "source": [
    "with open(\"temp.vcf\", \"w\") as f:\n",
    "    nts.write_vcf(f)"
   ]
  },
  {
   "cell_type": "code",
   "execution_count": 19,
   "id": "826d8765-29ed-4c5c-9ed0-f6a63b0d04be",
   "metadata": {
    "tags": []
   },
   "outputs": [
    {
     "name": "stdout",
     "output_type": "stream",
     "text": [
      "##fileformat=VCFv4.2\n",
      "##source=tskit 0.5.4\n",
      "##FILTER=<ID=PASS,Description=\"All filters passed\">\n",
      "##contig=<ID=1,length=10000000>\n",
      "##FORMAT=<ID=GT,Number=1,Type=String,Description=\"Genotype\">\n",
      "#CHROM\tPOS\tID\tREF\tALT\tQUAL\tFILTER\tINFO\tFORMAT\ttsk_0\ttsk_1\ttsk_2\ttsk_3\ttsk_4\n",
      "1\t83882\t0\tT\tG\t.\tPASS\t.\tGT\t0|0\t0|0\t0|0\t1|0\t0|0\n",
      "1\t461408\t1\tT\tA\t.\tPASS\t.\tGT\t1|1\t0|0\t1|1\t0|0\t1|0\n",
      "1\t1064443\t2\tA\tG\t.\tPASS\t.\tGT\t0|0\t0|0\t0|0\t1|0\t0|0\n",
      "1\t3163755\t3\tT\tG\t.\tPASS\t.\tGT\t0|0\t0|0\t1|0\t0|0\t0|0\n",
      "1\t5801556\t4\tT\tC\t.\tPASS\t.\tGT\t1|1\t0|0\t0|0\t0|0\t0|0\n",
      "1\t6651831\t5\tT\tC\t.\tPASS\t.\tGT\t1|1\t0|0\t0|0\t0|0\t0|0\n",
      "1\t8506711\t6\tT\tG\t.\tPASS\t.\tGT\t0|0\t1|1\t0|0\t1|1\t0|1\n"
     ]
    }
   ],
   "source": [
    "%%bash\n",
    "cat temp.vcf"
   ]
  },
  {
   "cell_type": "markdown",
   "id": "1790bacb-8133-4473-97fa-945c8b95daf2",
   "metadata": {},
   "source": [
    "Ah, that looks much better (and more parseable by other software)."
   ]
  },
  {
   "cell_type": "markdown",
   "id": "98eba817-eb5d-4aaf-a858-8a2a69a8dea2",
   "metadata": {},
   "source": [
    "## The tables"
   ]
  },
  {
   "cell_type": "code",
   "execution_count": 20,
   "id": "30e95d8e-97fd-4640-a185-8cce14bea567",
   "metadata": {
    "tags": []
   },
   "outputs": [],
   "source": [
    "t = nts.tables"
   ]
  },
  {
   "cell_type": "code",
   "execution_count": 21,
   "id": "cf94465a-422f-4184-8669-07e7d36dd00f",
   "metadata": {
    "tags": []
   },
   "outputs": [
    {
     "data": {
      "text/html": [
       "\n",
       "        <div>\n",
       "            <style scoped=\"\">\n",
       "                .tskit-table tbody tr th:only-of-type {vertical-align: middle;}\n",
       "                .tskit-table tbody tr th {vertical-align: top;}\n",
       "                .tskit-table tbody td {text-align: right;padding: 0.5em 0.5em;}\n",
       "                .tskit-table tbody th {padding: 0.5em 0.5em;}\n",
       "            </style>\n",
       "            <table border=\"1\" class=\"tskit-table\">\n",
       "                <thead>\n",
       "                    <tr>\n",
       "                        <th>id</th><th>flags</th><th>location</th><th>parents</th><th>metadata</th>\n",
       "                    </tr>\n",
       "                </thead>\n",
       "                <tbody>\n",
       "                    <tr><td>0</td><td>65536</td><td>0.0, 0.0, 0.0</td><td>-1, -1</td><td>{'pedigree_id': 15, 'pedigree_p1': 13...</td></tr>\n",
       "<tr><td>1</td><td>65536</td><td>0.0, 0.0, 0.0</td><td>-1, -1</td><td>{'pedigree_id': 16, 'pedigree_p1': 10...</td></tr>\n",
       "<tr><td>2</td><td>65536</td><td>0.0, 0.0, 0.0</td><td>-1, -1</td><td>{'pedigree_id': 17, 'pedigree_p1': 12...</td></tr>\n",
       "<tr><td>3</td><td>65536</td><td>0.0, 0.0, 0.0</td><td>-1, -1</td><td>{'pedigree_id': 18, 'pedigree_p1': 11...</td></tr>\n",
       "<tr><td>4</td><td>65536</td><td>0.0, 0.0, 0.0</td><td>-1, -1</td><td>{'pedigree_id': 19, 'pedigree_p1': 12...</td></tr>\n",
       "\n",
       "                </tbody>\n",
       "            </table>\n",
       "        </div>\n",
       "    "
      ],
      "text/plain": [
       "<tskit.tables.IndividualTable at 0x7f0be680ece0>"
      ]
     },
     "execution_count": 21,
     "metadata": {},
     "output_type": "execute_result"
    }
   ],
   "source": [
    "t.individuals"
   ]
  },
  {
   "cell_type": "code",
   "execution_count": 22,
   "id": "de719bcc-0e46-4f5c-80f6-9e5a00443a80",
   "metadata": {
    "tags": []
   },
   "outputs": [
    {
     "data": {
      "text/html": [
       "\n",
       "        <div>\n",
       "            <style scoped=\"\">\n",
       "                .tskit-table tbody tr th:only-of-type {vertical-align: middle;}\n",
       "                .tskit-table tbody tr th {vertical-align: top;}\n",
       "                .tskit-table tbody td {text-align: right;padding: 0.5em 0.5em;}\n",
       "                .tskit-table tbody th {padding: 0.5em 0.5em;}\n",
       "            </style>\n",
       "            <table border=\"1\" class=\"tskit-table\">\n",
       "                <thead>\n",
       "                    <tr>\n",
       "                        <th>id</th><th>flags</th><th>population</th><th>individual</th><th>time</th><th>metadata</th>\n",
       "                    </tr>\n",
       "                </thead>\n",
       "                <tbody>\n",
       "                    <tr><td>0</td><td>1</td><td>1</td><td>0</td><td>0.00000000</td><td>{'slim_id': 30, 'is_null': False, 'ge...</td></tr>\n",
       "<tr><td>1</td><td>1</td><td>1</td><td>0</td><td>0.00000000</td><td>{'slim_id': 31, 'is_null': False, 'ge...</td></tr>\n",
       "<tr><td>2</td><td>1</td><td>1</td><td>1</td><td>0.00000000</td><td>{'slim_id': 32, 'is_null': False, 'ge...</td></tr>\n",
       "<tr><td>3</td><td>1</td><td>1</td><td>1</td><td>0.00000000</td><td>{'slim_id': 33, 'is_null': False, 'ge...</td></tr>\n",
       "<tr><td>4</td><td>1</td><td>1</td><td>2</td><td>0.00000000</td><td>{'slim_id': 34, 'is_null': False, 'ge...</td></tr>\n",
       "<tr><td>5</td><td>1</td><td>1</td><td>2</td><td>0.00000000</td><td>{'slim_id': 35, 'is_null': False, 'ge...</td></tr>\n",
       "<tr><td>6</td><td>1</td><td>1</td><td>3</td><td>0.00000000</td><td>{'slim_id': 36, 'is_null': False, 'ge...</td></tr>\n",
       "<tr><td>7</td><td>1</td><td>1</td><td>3</td><td>0.00000000</td><td>{'slim_id': 37, 'is_null': False, 'ge...</td></tr>\n",
       "<tr><td>8</td><td>1</td><td>1</td><td>4</td><td>0.00000000</td><td>{'slim_id': 38, 'is_null': False, 'ge...</td></tr>\n",
       "<tr><td>9</td><td>1</td><td>1</td><td>4</td><td>0.00000000</td><td>{'slim_id': 39, 'is_null': False, 'ge...</td></tr>\n",
       "<tr><td>10</td><td>0</td><td>1</td><td>-1</td><td>1.00000000</td><td>{'slim_id': 24, 'is_null': False, 'ge...</td></tr>\n",
       "<tr><td>11</td><td>0</td><td>1</td><td>-1</td><td>1.00000000</td><td>{'slim_id': 26, 'is_null': False, 'ge...</td></tr>\n",
       "<tr><td>12</td><td>0</td><td>1</td><td>-1</td><td>1.00000000</td><td>{'slim_id': 27, 'is_null': False, 'ge...</td></tr>\n",
       "<tr><td>13</td><td>0</td><td>1</td><td>-1</td><td>2.00000000</td><td>{'slim_id': 13, 'is_null': False, 'ge...</td></tr>\n",
       "<tr><td>14</td><td>0</td><td>1</td><td>-1</td><td>3.00000000</td><td>{'slim_id': 6, 'is_null': False, 'gen...</td></tr>\n",
       "<tr><td>15</td><td>0</td><td>1</td><td>-1</td><td>3.00000000</td><td>{'slim_id': 1, 'is_null': False, 'gen...</td></tr>\n",
       "<tr><td>16</td><td>0</td><td>1</td><td>-1</td><td>3.00000000</td><td>{'slim_id': 2, 'is_null': False, 'gen...</td></tr>\n",
       "<tr><td>17</td><td>0</td><td>1</td><td>-1</td><td>3.00000000</td><td>{'slim_id': 8, 'is_null': False, 'gen...</td></tr>\n",
       "<tr><td>18</td><td>0</td><td>2</td><td>-1</td><td>3.85727514</td><td>None</td></tr>\n",
       "<tr><td>19</td><td>0</td><td>2</td><td>-1</td><td>3.90334761</td><td>None</td></tr>\n",
       "<tr><td>20</td><td>0</td><td>2</td><td>-1</td><td>4.27008864</td><td>None</td></tr>\n",
       "<tr><td>21</td><td>0</td><td>2</td><td>-1</td><td>7.99655067</td><td>None</td></tr>\n",
       "\n",
       "                </tbody>\n",
       "            </table>\n",
       "        </div>\n",
       "    "
      ],
      "text/plain": [
       "<tskit.tables.NodeTable at 0x7f0be680c6d0>"
      ]
     },
     "execution_count": 22,
     "metadata": {},
     "output_type": "execute_result"
    }
   ],
   "source": [
    "t.nodes"
   ]
  },
  {
   "cell_type": "code",
   "execution_count": 23,
   "id": "a5928011-e813-46cc-b07f-ccfb47f6d47a",
   "metadata": {
    "tags": []
   },
   "outputs": [
    {
     "data": {
      "text/html": [
       "\n",
       "        <div>\n",
       "            <style scoped=\"\">\n",
       "                .tskit-table tbody tr th:only-of-type {vertical-align: middle;}\n",
       "                .tskit-table tbody tr th {vertical-align: top;}\n",
       "                .tskit-table tbody td {text-align: right;padding: 0.5em 0.5em;}\n",
       "                .tskit-table tbody th {padding: 0.5em 0.5em;}\n",
       "            </style>\n",
       "            <table border=\"1\" class=\"tskit-table\">\n",
       "                <thead>\n",
       "                    <tr>\n",
       "                        <th>id</th><th>left</th><th>right</th><th>parent</th><th>child</th><th>metadata</th>\n",
       "                    </tr>\n",
       "                </thead>\n",
       "                <tbody>\n",
       "                    <tr><td>0</td><td>0</td><td>10000000</td><td>10</td><td>4</td><td></td></tr>\n",
       "<tr><td>1</td><td>0</td><td>10000000</td><td>10</td><td>8</td><td></td></tr>\n",
       "<tr><td>2</td><td>0</td><td>10000000</td><td>11</td><td>7</td><td></td></tr>\n",
       "<tr><td>3</td><td>0</td><td>10000000</td><td>11</td><td>9</td><td></td></tr>\n",
       "<tr><td>4</td><td>0</td><td>10000000</td><td>12</td><td>0</td><td></td></tr>\n",
       "<tr><td>5</td><td>0</td><td>10000000</td><td>12</td><td>1</td><td></td></tr>\n",
       "<tr><td>6</td><td>0</td><td>10000000</td><td>13</td><td>5</td><td></td></tr>\n",
       "<tr><td>7</td><td>0</td><td>10000000</td><td>13</td><td>10</td><td></td></tr>\n",
       "<tr><td>8</td><td>0</td><td>8882057</td><td>13</td><td>12</td><td></td></tr>\n",
       "<tr><td>9</td><td>0</td><td>10000000</td><td>14</td><td>2</td><td></td></tr>\n",
       "<tr><td>10</td><td>0</td><td>10000000</td><td>14</td><td>3</td><td></td></tr>\n",
       "<tr><td>11</td><td>0</td><td>10000000</td><td>14</td><td>11</td><td></td></tr>\n",
       "<tr><td>12</td><td>0</td><td>10000000</td><td>15</td><td>6</td><td></td></tr>\n",
       "<tr><td>13</td><td>0</td><td>10000000</td><td>16</td><td>13</td><td></td></tr>\n",
       "<tr><td>14</td><td>8882057</td><td>10000000</td><td>17</td><td>12</td><td></td></tr>\n",
       "<tr><td>15</td><td>8882057</td><td>10000000</td><td>18</td><td>15</td><td></td></tr>\n",
       "<tr><td>16</td><td>8882057</td><td>10000000</td><td>18</td><td>17</td><td></td></tr>\n",
       "<tr><td>17</td><td>0</td><td>10000000</td><td>19</td><td>14</td><td></td></tr>\n",
       "<tr><td>18</td><td>0</td><td>8882057</td><td>19</td><td>15</td><td></td></tr>\n",
       "<tr><td>19</td><td>8882057</td><td>10000000</td><td>19</td><td>18</td><td></td></tr>\n",
       "<tr><td>20</td><td>9138986</td><td>10000000</td><td>20</td><td>16</td><td></td></tr>\n",
       "<tr><td>21</td><td>9138986</td><td>10000000</td><td>20</td><td>19</td><td></td></tr>\n",
       "<tr><td>22</td><td>0</td><td>9138986</td><td>21</td><td>16</td><td></td></tr>\n",
       "<tr><td>23</td><td>0</td><td>9138986</td><td>21</td><td>19</td><td></td></tr>\n",
       "\n",
       "                </tbody>\n",
       "            </table>\n",
       "        </div>\n",
       "    "
      ],
      "text/plain": [
       "<tskit.tables.EdgeTable at 0x7f0be680ee90>"
      ]
     },
     "execution_count": 23,
     "metadata": {},
     "output_type": "execute_result"
    }
   ],
   "source": [
    "t.edges"
   ]
  },
  {
   "cell_type": "code",
   "execution_count": null,
   "id": "b03a2d6c-5569-46a8-b919-28aa7d72cb2f",
   "metadata": {
    "tags": []
   },
   "outputs": [],
   "source": [
    "t.sites"
   ]
  },
  {
   "cell_type": "code",
   "execution_count": null,
   "id": "df5360d8-e154-422d-b9b7-dbf91c0dd516",
   "metadata": {
    "tags": []
   },
   "outputs": [],
   "source": [
    "t.mutations"
   ]
  }
 ],
 "metadata": {
  "kernelspec": {
   "display_name": "Python 3 (ipykernel)",
   "language": "python",
   "name": "python3"
  },
  "language_info": {
   "codemirror_mode": {
    "name": "ipython",
    "version": 3
   },
   "file_extension": ".py",
   "mimetype": "text/x-python",
   "name": "python",
   "nbconvert_exporter": "python",
   "pygments_lexer": "ipython3",
   "version": "3.10.10"
  }
 },
 "nbformat": 4,
 "nbformat_minor": 5
}
